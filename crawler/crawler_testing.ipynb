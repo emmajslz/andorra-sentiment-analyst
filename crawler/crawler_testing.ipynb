{
 "cells": [
  {
   "cell_type": "code",
   "execution_count": 1,
   "metadata": {},
   "outputs": [],
   "source": [
    "import pandas as pd\n",
    "import selenium\n",
    "\n",
    "from datetime import date\n",
    "from datetime import datetime\n",
    "\n",
    "import requests\n",
    "from bs4 import BeautifulSoup\n",
    "\n",
    "from selenium.webdriver.common.by import By\n",
    "from selenium.webdriver.support import expected_conditions as EC\n",
    "from selenium.common.exceptions import TimeoutException\n",
    "from selenium.webdriver.support.ui import WebDriverWait\n",
    "\n",
    "from crawler import scraper, parser, utils\n",
    "from main_crawler import Crawler, Output, Input\n",
    "\n",
    "from IPython.display import HTML"
   ]
  },
  {
   "cell_type": "code",
   "execution_count": 2,
   "metadata": {},
   "outputs": [
    {
     "name": "stdout",
     "output_type": "stream",
     "text": [
      "Storing results as -> data/20240928_stju_articles.csv\n",
      "Storing articles in -> data/articles/\n"
     ]
    }
   ],
   "source": [
    "today = date.today()\n",
    "now = datetime.now()\n",
    "\n",
    "input = Input(today, now)\n",
    "\n",
    "chromedriver_loc = input.get_chromedriver_loc()\n",
    "sources = input.get_sources()\n",
    "sources_out_of_order = input.get_sources_out_of_order()\n",
    "sources_elements = input.get_sources_elements()\n",
    "search_name, search_terms = input.get_search_terms()\n",
    "date_init = datetime.strptime('20240928', '%Y%m%d').date()\n",
    "date_end = datetime.now()\n",
    "\n",
    "output = Output(search_name)\n",
    "\n",
    "crawler = Crawler(chromedriver_loc,\n",
    "                    sources,\n",
    "                    sources_out_of_order,\n",
    "                    sources_elements,\n",
    "                    search_terms,\n",
    "                    date_init,\n",
    "                    date_end,\n",
    "                    today,\n",
    "                    now,\n",
    "                    output,\n",
    "                    headless=False)"
   ]
  },
  {
   "cell_type": "code",
   "execution_count": 21,
   "metadata": {},
   "outputs": [],
   "source": [
    "def buttons(journal: str) -> None:\n",
    "    # We click the cookies and notifications buttons in the event we just opened the webpage and there are cookies and\n",
    "    # notifications pop ups that would not allow us to see the information on the page\n",
    "    cookies_loc = crawler.sources_elements.loc[journal, 'cookies']\n",
    "    notifs_loc = crawler.sources_elements.loc[journal, 'notifs']\n",
    "    # If the button hasn't been already pressed, journal is in cookies (meaning there is a button to press)\n",
    "    # and the button is there:\n",
    "    if not False and cookies_loc != '-' and driver.find_elements(By.XPATH, cookies_loc):\n",
    "        cookies_accept = driver.find_element(By.XPATH, cookies_loc)\n",
    "        driver.execute_script(\"arguments[0].click();\", cookies_accept)\n",
    "        crawler.cookies_clicked = True\n",
    "\n",
    "    if not False and notifs_loc != '-' and driver.find_elements(By.XPATH, notifs_loc):\n",
    "        notifications = driver.find_element(By.XPATH, notifs_loc)\n",
    "        driver.execute_script(\"arguments[0].click();\", notifications)\n",
    "        crawler.notifs_clicked = True\n",
    "\n",
    "def opening_url_actions(journal: str) -> None:  # journal specific !!\n",
    "    # Each journal has some actions we need to do after opening the url with the driver (sortin, adverts, etc.)\n",
    "\n",
    "    match journal:\n",
    "        case 'periodic':\n",
    "            # If there is an advertisement pop_up that stops us from accessing the journal, we click the \"Access journal\"\n",
    "            # button to access the journal\n",
    "            access = True\n",
    "            try:\n",
    "                access_journal = WebDriverWait(driver, 15).until(EC.presence_of_element_located((\n",
    "                    By.XPATH, '//div[@class=\"interstitial__link\"]/a')))\n",
    "            except TimeoutException:\n",
    "                access = False\n",
    "\n",
    "            if access:\n",
    "                driver.execute_script(\"arguments[0].click();\", access_journal)\n",
    "                driver.implicitly_wait(15)\n",
    "\n",
    "            buttons(journal)\n",
    "\n"
   ]
  },
  {
   "cell_type": "markdown",
   "metadata": {},
   "source": [
    "# Altaveu"
   ]
  },
  {
   "cell_type": "markdown",
   "metadata": {},
   "source": [
    "## Getting content"
   ]
  },
  {
   "cell_type": "code",
   "execution_count": 4,
   "metadata": {},
   "outputs": [],
   "source": [
    "url = \"https://www.altaveu.com/actualitat/successos/turista-circulava-mes-doble-alcohol-permes-dona-fills-menors-cotxe_60635_102.html\""
   ]
  },
  {
   "cell_type": "code",
   "execution_count": 5,
   "metadata": {},
   "outputs": [],
   "source": [
    "#soup = self.static_methods.get_soup(link)\n",
    "try:\n",
    "    response = requests.get(url)\n",
    "except:\n",
    "    print(f\"Cannot access {url} right now. Please try again later.\")\n",
    "    soup = False\n",
    "\n",
    "soup = BeautifulSoup(response.text, 'html.parser')"
   ]
  },
  {
   "cell_type": "code",
   "execution_count": null,
   "metadata": {},
   "outputs": [],
   "source": [
    "# subtitle, content = get_content(self, journal, soup)\n",
    "opening = \"\"\n",
    "if soup.find('div', class_=\"c-mainarticle__opening\"):\n",
    "    # In l'Altaveu, we have to first find the opening in case there's one, as that is part of the content of the article\n",
    "    opening = soup.find('div', class_=\"c-mainarticle__opening\").text\n",
    "#print(soup.find('div', class_=\"c-mainarticle__body\"))\n",
    "paragraphs = soup.find('div', class_=\"c-mainarticle__body\").find_all('p', recursive=False)\n",
    "print(len(paragraphs))\n",
    "for paragraph in paragraphs:\n",
    "    print(paragraph.section)\n",
    "    #print(f\"\\n\\nPARAGRAPH:\\n{paragraph}\")\n",
    "content = opening + '\\n'.join([par.text for par in paragraphs if not par.section])\n",
    "print(content)"
   ]
  },
  {
   "cell_type": "markdown",
   "metadata": {},
   "source": [
    "# Bondia"
   ]
  },
  {
   "cell_type": "markdown",
   "metadata": {},
   "source": [
    "## comments"
   ]
  },
  {
   "cell_type": "code",
   "execution_count": 12,
   "metadata": {},
   "outputs": [],
   "source": [
    "url = \"https://www.bondia.ad/societat/astrie-retreu-la-falta-d-inversio-i-manca-de-resultats-en-habitatge\""
   ]
  },
  {
   "cell_type": "code",
   "execution_count": 13,
   "metadata": {},
   "outputs": [],
   "source": [
    "try:\n",
    "    response = requests.get(url)\n",
    "except:\n",
    "    print(f\"Cannot access {url} right now. Please try again later.\")\n",
    "    soup = False\n",
    "\n",
    "soup = BeautifulSoup(response.text, 'html.parser')"
   ]
  },
  {
   "cell_type": "code",
   "execution_count": null,
   "metadata": {},
   "outputs": [],
   "source": [
    "comments_col = soup.find('div', class_=\"col-span-4 pt-2\")\n",
    "comments = comments_col.find_all('div', class_=\"flex flex-col gap-2 bg-primary-200 py-4 px-10\")\n",
    "print(len(comments))"
   ]
  },
  {
   "cell_type": "code",
   "execution_count": null,
   "metadata": {},
   "outputs": [],
   "source": [
    "comments[0].find_all('div')[1].text"
   ]
  },
  {
   "cell_type": "markdown",
   "metadata": {},
   "source": [
    "## content"
   ]
  },
  {
   "cell_type": "code",
   "execution_count": 14,
   "metadata": {},
   "outputs": [],
   "source": [
    "url = \"https://www.bondia.ad/passava-per-aqui/seixanta-euros-pot-ser-poc-per-a-un-europeu-al-vietnam-canvien-vides\""
   ]
  },
  {
   "cell_type": "code",
   "execution_count": 15,
   "metadata": {},
   "outputs": [],
   "source": [
    "try:\n",
    "    response = requests.get(url)\n",
    "except:\n",
    "    print(f\"Cannot access {url} right now. Please try again later.\")\n",
    "    soup = False\n",
    "\n",
    "soup = BeautifulSoup(response.text, 'html.parser')"
   ]
  },
  {
   "cell_type": "code",
   "execution_count": null,
   "metadata": {},
   "outputs": [],
   "source": [
    "paragraphs = soup.find('div', class_=\"article-body my-5 text-lg\").div.find_all('p')\n",
    "content = '\\n'.join([par.text for par in paragraphs])"
   ]
  },
  {
   "cell_type": "markdown",
   "metadata": {},
   "source": [
    "# diari"
   ]
  },
  {
   "cell_type": "markdown",
   "metadata": {},
   "source": [
    "## comments"
   ]
  },
  {
   "cell_type": "code",
   "execution_count": 22,
   "metadata": {},
   "outputs": [],
   "source": [
    "driver = crawler.setup_driver()"
   ]
  },
  {
   "cell_type": "code",
   "execution_count": 23,
   "metadata": {},
   "outputs": [],
   "source": [
    "url = \"https://www.diariandorra.ad/nacional/240928/els-contrabandistes-esquiven-llei-trossejant-les-compres_158929.html\""
   ]
  },
  {
   "cell_type": "code",
   "execution_count": 24,
   "metadata": {},
   "outputs": [],
   "source": [
    "driver.get(url)"
   ]
  },
  {
   "cell_type": "code",
   "execution_count": 25,
   "metadata": {},
   "outputs": [],
   "source": [
    "shadow_host = driver.find_element(By.CSS_SELECTOR, \"hyvor-talk-comments\")"
   ]
  },
  {
   "cell_type": "code",
   "execution_count": 26,
   "metadata": {},
   "outputs": [],
   "source": [
    "# Use JavaScript to extract the shadow root's inner HTML\n",
    "shadow_dom_html = driver.execute_script(\"\"\"\n",
    "    // Access the shadow root and return its inner HTML\n",
    "    return arguments[0].shadowRoot.innerHTML;\n",
    "\"\"\", shadow_host)\n",
    "\n",
    "# Create a BeautifulSoup object with the extracted shadow DOM HTML\n",
    "soup = BeautifulSoup(shadow_dom_html, \"html.parser\")"
   ]
  },
  {
   "cell_type": "code",
   "execution_count": 30,
   "metadata": {},
   "outputs": [],
   "source": [
    "comments = soup.find_all('div', class_=\"comment\")"
   ]
  },
  {
   "cell_type": "code",
   "execution_count": 38,
   "metadata": {},
   "outputs": [
    {
     "data": {
      "text/plain": [
       "30"
      ]
     },
     "execution_count": 38,
     "metadata": {},
     "output_type": "execute_result"
    }
   ],
   "source": [
    "len(comments)"
   ]
  },
  {
   "cell_type": "code",
   "execution_count": 81,
   "metadata": {},
   "outputs": [
    {
     "data": {
      "text/plain": [
       "'19107408'"
      ]
     },
     "execution_count": 81,
     "metadata": {},
     "output_type": "execute_result"
    }
   ],
   "source": [
    "comments[2].find_all('div', class_=\"comment-meta-left-2\")[0].a['href'].split('comment-id=')[1]"
   ]
  },
  {
   "cell_type": "code",
   "execution_count": 78,
   "metadata": {},
   "outputs": [],
   "source": [
    "comment = comments[3]"
   ]
  },
  {
   "cell_type": "code",
   "execution_count": 79,
   "metadata": {},
   "outputs": [
    {
     "data": {
      "text/plain": [
       "'19112152'"
      ]
     },
     "execution_count": 79,
     "metadata": {},
     "output_type": "execute_result"
    }
   ],
   "source": [
    "comment.find_all('div', class_=\"comment-meta-left-2\")[0].a['href'].split('comment-id=')[1]"
   ]
  },
  {
   "cell_type": "code",
   "execution_count": 83,
   "metadata": {},
   "outputs": [
    {
     "data": {
      "text/plain": [
       "'9/28/2024, 11:17:11 AM'"
      ]
     },
     "execution_count": 83,
     "metadata": {},
     "output_type": "execute_result"
    }
   ],
   "source": [
    "comment.find_all('time')[0]['datetime']"
   ]
  },
  {
   "cell_type": "code",
   "execution_count": 89,
   "metadata": {},
   "outputs": [
    {
     "data": {
      "text/plain": [
       "datetime.datetime(2024, 9, 28, 11, 17, 11)"
      ]
     },
     "execution_count": 89,
     "metadata": {},
     "output_type": "execute_result"
    }
   ],
   "source": [
    "date = '9/28/2024, 11:17:11 AM'\n",
    "datetime.strptime(date, \"%m/%d/%Y, %I:%M:%S %p\")"
   ]
  },
  {
   "cell_type": "code",
   "execution_count": 82,
   "metadata": {},
   "outputs": [
    {
     "data": {
      "text/plain": [
       "'Venuts'"
      ]
     },
     "execution_count": 82,
     "metadata": {},
     "output_type": "execute_result"
    }
   ],
   "source": [
    "comment.find_all('span', class_=\"user-name\")[0].text"
   ]
  },
  {
   "cell_type": "code",
   "execution_count": 84,
   "metadata": {},
   "outputs": [
    {
     "data": {
      "text/plain": [
       "' Era així fins que al 99 ens van entregar per salvar lo seu.'"
      ]
     },
     "execution_count": 84,
     "metadata": {},
     "output_type": "execute_result"
    }
   ],
   "source": [
    "comment.find_all('div', class_=\"comment-content\")[0].div.p.text"
   ]
  },
  {
   "cell_type": "code",
   "execution_count": 85,
   "metadata": {},
   "outputs": [
    {
     "name": "stdout",
     "output_type": "stream",
     "text": [
      "comment-replies\n"
     ]
    },
    {
     "data": {
      "text/plain": [
       "True"
      ]
     },
     "execution_count": 85,
     "metadata": {},
     "output_type": "execute_result"
    }
   ],
   "source": [
    "reply = comment.parent.parent\n",
    "print(reply.get('class', ['-'])[0])\n",
    "reply.get('class', ['-'])[0] == \"comment-replies\""
   ]
  },
  {
   "cell_type": "code",
   "execution_count": 87,
   "metadata": {},
   "outputs": [
    {
     "data": {
      "text/plain": [
       "'19107408'"
      ]
     },
     "execution_count": 87,
     "metadata": {},
     "output_type": "execute_result"
    }
   ],
   "source": [
    "parent_comment = reply.parent\n",
    "parent_comment.find_all('div', class_=\"comment-meta-left-2\")[0].a['href'].split('comment-id=')[1]"
   ]
  },
  {
   "cell_type": "code",
   "execution_count": 88,
   "metadata": {},
   "outputs": [],
   "source": [
    "driver.quit()"
   ]
  },
  {
   "cell_type": "markdown",
   "metadata": {},
   "source": [
    "# periodic"
   ]
  },
  {
   "cell_type": "markdown",
   "metadata": {},
   "source": [
    "## testing static?"
   ]
  },
  {
   "cell_type": "code",
   "execution_count": 90,
   "metadata": {},
   "outputs": [],
   "source": [
    "url = \"https://www.elperiodic.ad/noticia/108671/cardelus-sortira-en-22a-posicio-a-indonesia\""
   ]
  },
  {
   "cell_type": "code",
   "execution_count": 91,
   "metadata": {},
   "outputs": [],
   "source": [
    "try:\n",
    "    response = requests.get(url)\n",
    "except:\n",
    "    print(f\"Cannot access {url} right now. Please try again later.\")\n",
    "    soup = False\n",
    "\n",
    "soup = BeautifulSoup(response.text, 'html.parser')"
   ]
  },
  {
   "cell_type": "code",
   "execution_count": 92,
   "metadata": {},
   "outputs": [
    {
     "data": {
      "text/html": [
       "<!DOCTYPE html>\n",
       "<html lang=\"ca\"><head><meta charset=\"utf-8\"/><meta content=\"ie=edge\" http-equiv=\"x-ua-compatible\"/><meta content=\"width=device-width, initial-scale=1.0\" name=\"viewport\"/><meta content=\"La segona jornada d'entrenaments del Gran Premi d'Indonèsia ha servit perquè Xavi Cardelús continuï coneixent el circuit de Mandalika, on no havia corregut mai i per situar-lo al 26è lloc de la graella de sortida d'aquest Gran Premi que disputarà la seva cursa diumenge....\" name=\"description\"><meta content=\"periòdic, el periòdic, el periòdic d'andorra, peri, diari, actualitat, informació andorra, informatius, notícies, noticia, actualitat andorra, andorra actualitat\" name=\"keywords\"><link as=\"style\" href=\"/estils/main.css?id=e_f0e5f12aBb3eE\" rel=\"preload\"/><title>Cardelús sortirà en 22a posició a Indonèsia  - El Periòdic d'Andorra</title><meta content=\"Cardelús sortirà en 22a posició a Indonèsia \" property=\"og:title\"><meta content=\"article\" property=\"og:type\"/><meta content=\"https://www.elperiodic.ad/noticia/108671/cardelus-sortira-en-22a-posicio-a-indonesia\" property=\"og:url\"/><meta content=\"El Periòdic d'Andorra\" property=\"og:site_name\"/><meta content=\"1377866625862732\" property=\"fb:app_id\"/><meta content=\"La segona jornada d'entrenaments del Gran Premi d'Indonèsia ha servit perquè Xavi Cardelús continuï coneixent el circuit de Mandalika, on no havia corregut mai i per situar-lo al 26è lloc de la graella de sortida d'aquest Gran Premi que disputarà la seva cursa diumenge.\" property=\"og:description\"/><meta content=\"https://www.elperiodic.ad/imgMini/1200/630/53121\" property=\"og:image\"/><meta content=\"summary_large_image\" name=\"twitter:card\"/><meta content=\"@PeriodicAND\" name=\"twitter:site\"/><link href=\"rss\" rel=\"alternate\" title=\"RSS 2.0 El Periòdic d'Andorra\" type=\"application/rss+xml\"/><link href=\"/icones/apple-touch-icon.png\" rel=\"apple-touch-icon\" sizes=\"180x180\"/><link href=\"/icones/favicon-32x32.png\" rel=\"icon\" sizes=\"32x32\" type=\"image/png\"/><link href=\"/icones/favicon-16x16.png\" rel=\"icon\" sizes=\"16x16\" type=\"image/png\"/><link href=\"/icones/site.webmanifest\" rel=\"manifest\"/><link color=\"#e42313\" href=\"/icones/safari-pinned-tab.svg\" rel=\"mask-icon\"/><link href=\"/icones/favicon.ico\" rel=\"shortcut icon\"/><meta content=\"#ffffff\" name=\"msapplication-TileColor\"/><meta content=\"/icones/browserconfig.xml\" name=\"msapplication-config\"/><meta content=\"#ffffff\" name=\"theme-color\"/><link href=\"/estils/main.css?id=e_f0e5f2b3E\" media=\"screen\" rel=\"stylesheet\" type=\"text/css\"><base href=\"https://www.elperiodic.ad/\"/><script>\n",
       "            var breakpoint_is_sm = window.matchMedia('(min-width: 768px)');\n",
       "            var breakpoint_is_md = window.matchMedia('(min-width: 992px)');\n",
       "            \n",
       "            const es_eleccions = false;\n",
       "            \n",
       "        </script><!-- Google tag (gtag.js) --><script async=\"\" src=\"https://www.googletagmanager.com/gtag/js?id=G-T0FM3HSRX8\"></script><script>\n",
       "          window.dataLayer = window.dataLayer || [];\n",
       "          function gtag(){dataLayer.push(arguments);}\n",
       "          gtag('js', new Date());\n",
       "\n",
       "          gtag('config', 'G-T0FM3HSRX8');\n",
       "        </script><script async=\"\" src=\"https://cdn.onesignal.com/sdks/OneSignalSDK.js\"></script><script>\n",
       "          window.OneSignal = window.OneSignal || [];\n",
       "          OneSignal.push(function() {\n",
       "            OneSignal.init({\n",
       "              appId: \"7b667575-4aab-4daa-902a-34bff80f2273\",\n",
       "            });\n",
       "          });\n",
       "        </script></link></meta></meta></meta></head><body class=\"tb_article\"><header class=\"header\"><div class=\"header__logo container text-center\"><h1 class=\"sr-only\">El Periòdic</h1><a class=\"header__logo-img\" href=\"/\" title=\"El Periòdic\"><img src=\"img/logo.svg\" title=\"Logo d'El Periòdic\"/></a><ul class=\"header__logo-menu\"><li>Dissabte, 28 de setembre de 2024</li><li class=\"mob-hide\"><a href=\"hemeroteca\" title=\"Hemeroteca\">Hemeroteca</a></li><li class=\"mob-hide parroquies\"><a title=\"Triar la parròquia\">Parròquia</a><ul class=\"menu_desplegable\"><li><a href=\"actualitat/parroquia/canillo\">Canillo</a></li><li><a href=\"actualitat/parroquia/encamp\">Encamp</a></li><li><a href=\"actualitat/parroquia/ordino\">Ordino</a></li><li><a href=\"actualitat/parroquia/la-massana\">La Massana</a></li><li><a href=\"actualitat/parroquia/andorra-la-vella\">Andorra la Vella</a></li><li><a href=\"actualitat/parroquia/sant-julia-de-loria\">Sant Julià de Lòria</a></li><li><a href=\"actualitat/parroquia/escaldes-engordany\">Escaldes-Engordany</a></li></ul></li></ul><ul class=\"header__social\"><li><a href=\"https://www.facebook.com/PeriodicAND\" target=\"_blank\" title=\"Facebook\"><i class=\"ico-square\"><svg class=\"svg-social\" height=\"26px\" version=\"1.1\" viewbox=\"0 0 26 26\" width=\"26px\" xmlns=\"http://www.w3.org/2000/svg\" xmlns:xlink=\"http://www.w3.org/1999/xlink\"><title>Facebook</title><g fill=\"none\" fill-rule=\"evenodd\" id=\"Page-1\" stroke=\"none\" stroke-width=\"1\"><g id=\"Artboard\"><g id=\"picto-Facebook\"><path d=\"M16.3559322,8.75333333 L16.3559322,6.5 L14.1994576,6.5 C12.4074576,6.5 11.0710508,7.94444444 11.0710508,9.73555556 L11.0710508,10.9777778 L8.76271186,10.9777778 L8.76271186,13.1155556 L11.0710508,13.1155556 L11.0710508,19.5 L13.6527458,19.5 L13.6527458,13.1155556 L16.3559322,13.1155556 L16.3559322,10.9777778 L13.6527458,10.9777778 L13.6527458,9.50444444 C13.6527458,9.07111111 13.9261017,8.75333333 14.1994576,8.75333333 L16.3559322,8.75333333 Z\" fill=\"#000000\" id=\"Facebook\"></path><rect height=\"25.7944091\" id=\"Rectangle-3-Copy\" width=\"25.8280394\" x=\"0\" y=\"0\"></rect></g></g></g></svg></i><span class=\"sr-only\">a Facebook</span></a></li><li><a href=\"https://twitter.com/PeriodicAND\" target=\"_blank\" title=\"Twitter\"><i class=\"ico-square\"><svg class=\"svg-social\" height=\"26px\" version=\"1.1\" viewbox=\"0 0 26 26\" width=\"26px\" xmlns=\"http://www.w3.org/2000/svg\" xmlns:xlink=\"http://www.w3.org/1999/xlink\"><title>Twitter</title><g fill=\"none\" fill-rule=\"evenodd\" id=\"Page-1\" stroke=\"none\" stroke-width=\"1\"><g id=\"Artboard\"><g id=\"picto-twitter\"><path d=\"M19.3569016,9.42995147 C18.9013779,9.61765248 18.4190587,9.75172463 17.9099439,9.83216792 C18.4190587,9.51039476 18.8209913,9.02773503 19.0085599,8.43781757 C18.5262407,8.70596187 17.9903305,8.92047731 17.4008292,9.02773503 C16.9453055,8.54507529 16.3022132,8.25011657 15.5787344,8.25011657 C14.1585723,8.25011657 13.0331608,9.37632261 13.0331608,10.770673 C13.0331608,10.958374 13.0599564,11.1728894 13.1135474,11.333776 C10.996702,11.2533327 9.14781168,10.2343844 7.88842264,8.70596187 C7.67405855,9.08136389 7.54008099,9.51039476 7.54008099,9.96624007 C7.54008099,10.8511162 7.99560469,11.6287347 8.66549247,12.08458 C8.2635598,12.0577656 7.86162713,11.9505079 7.54008099,11.7628069 L7.54008099,11.7896213 C7.54008099,13.0230851 8.39753736,14.0420334 9.54974435,14.2833633 C9.33538026,14.3369921 9.12101617,14.3638065 8.87985657,14.3638065 C8.7190835,14.3638065 8.55831043,14.3638065 8.42433287,14.3101777 C8.74587901,15.329126 9.68372191,16.0531156 10.7823379,16.07993 C9.92488151,16.7502908 8.82626554,17.1525072 7.64726304,17.1525072 C7.43289895,17.1525072 7.21853485,17.1525072 7.03096627,17.1256928 C8.15637776,17.8496824 9.46935782,18.2518988 10.9163154,18.2518988 C15.5519389,18.2518988 18.0975125,14.4174354 18.0975125,11.0656317 L18.0975125,10.7438585 C18.5798317,10.3684565 19.0085599,9.93942564 19.3569016,9.42995147 L19.3569016,9.42995147 Z\" fill=\"#000000\" id=\"Twitter\"></path><rect height=\"25.7944091\" id=\"Rectangle-3\" width=\"25.8280394\" x=\"0\" y=\"0\"></rect></g></g></g></svg></i><span class=\"sr-only\">a Twitter</span></a></li><li><a href=\"https://vimeo.com/user39497209\" target=\"_blank\" title=\"Vimeo\"><i class=\"ico-square\"><svg class=\"svg-social\" height=\"26px\" version=\"1.1\" viewbox=\"0 0 26 26\" width=\"26px\" xmlns=\"http://www.w3.org/2000/svg\" xmlns:xlink=\"http://www.w3.org/1999/xlink\"><title>YouTube</title><g fill=\"none\" fill-rule=\"evenodd\" id=\"Page-1\" stroke=\"none\" stroke-width=\"1\"><g id=\"Artboard\"><g id=\"picto-Facebook-Copy\"><path d=\"M13.559322,7.78645833 C6.62974915,7.78645833 6.50847458,8.37822917 6.50847458,13 C6.50847458,17.6217708 6.62974915,18.2135417 13.559322,18.2135417 C20.4888949,18.2135417 20.6101695,17.6217708 20.6101695,13 C20.6101695,8.37822917 20.4888949,7.78645833 13.559322,7.78645833 Z M15.8191186,13.2261458 L12.6532881,14.6453125 C12.3761898,14.7685417 12.1491525,14.6304167 12.1491525,14.3365625 L12.1491525,11.6634375 C12.1491525,11.3702604 12.3761898,11.2314583 12.6532881,11.3546875 L15.8191186,12.7738542 C16.0962169,12.8984375 16.0962169,13.1015625 15.8191186,13.2261458 Z\" fill=\"#000000\" fill-rule=\"nonzero\" id=\"Shape\"></path><rect height=\"25.7944091\" id=\"Rectangle-3-Copy\" width=\"25.8280394\" x=\"0\" y=\"0\"></rect></g></g></g></svg></i><span class=\"sr-only\">a Youtube</span></a></li><li><a href=\"https://www.instagram.com/elperiodic.ad\" target=\"_blank\" title=\"Instagram\"><i class=\"ico-square\"><svg class=\"svg-social\" height=\"26px\" version=\"1.1\" viewbox=\"0 0 26 26\" width=\"26px\" xmlns=\"http://www.w3.org/2000/svg\" xmlns:xlink=\"http://www.w3.org/1999/xlink\"><title>Instagram</title><g fill=\"none\" fill-rule=\"evenodd\" id=\"Page-1\" stroke=\"none\" stroke-width=\"1\"><g id=\"Artboard\"><g id=\"picto-Facebook-Copy-2\"><rect height=\"25.7944091\" id=\"Rectangle-3-Copy\" width=\"25.8280394\" x=\"0\" y=\"0\"></rect><g fill=\"#000000\" fill-rule=\"nonzero\" id=\"instagram-simple-icon\" transform=\"translate(5.033898, 5.000000)\"><path d=\"M8,1.44352381 C10.1354286,1.44352381 10.3883492,1.45168254 11.231746,1.49015873 C12.0114921,1.52574603 12.4349206,1.656 12.7167619,1.76552381 C13.0641299,1.89373079 13.3783486,2.09815849 13.6363175,2.36377778 C13.9019368,2.62174661 14.1063644,2.93596538 14.2345714,3.28333333 C14.3440952,3.56514286 14.474381,3.98860317 14.5099365,4.76834921 C14.5484127,5.61168254 14.5565714,5.86460317 14.5565714,8.00009524 C14.5565714,10.1355873 14.5484127,10.3884444 14.5099365,11.2318413 C14.4743492,12.0115873 14.3440635,12.4350159 14.2345714,12.7168571 C13.96552,13.4143308 13.4142355,13.9656153 12.7167619,14.2346667 C12.4349524,14.3441905 12.0114921,14.4744762 11.231746,14.5100317 C10.3885714,14.5485079 10.1356508,14.5566667 8,14.5566667 C5.86434921,14.5566667 5.61152381,14.5485079 4.76825397,14.5100317 C3.98850794,14.4744444 3.56507937,14.3441587 3.2832381,14.2346667 C2.93586965,14.1064607 2.62165069,13.9020328 2.36368254,13.6364127 C2.09806409,13.3784432 1.89363652,13.0642246 1.76542857,12.7168571 C1.65590476,12.4350476 1.52561905,12.0115873 1.49006349,11.2318413 C1.4515873,10.3885397 1.44342857,10.1355873 1.44342857,8.00009524 C1.44342857,5.86460317 1.4515873,5.61174603 1.49006349,4.76834921 C1.52565079,3.98860317 1.65590476,3.5651746 1.76542857,3.28333333 C1.89364986,2.93594807 2.09809982,2.62171757 2.36374603,2.36374603 C2.62171556,2.09812758 2.93593412,1.89370001 3.28330159,1.76549206 C3.56511111,1.65596825 3.98857143,1.52568254 4.76831746,1.49012698 C5.61165079,1.45165079 5.86457143,1.44349206 8.00006349,1.44349206 L8,1.44352381 Z M8.00006349,0.00250793651 C5.82806349,0.00250793651 5.55561905,0.0117142857 4.70273016,0.0506349206 C3.85146032,0.0894920635 3.27012698,0.224666667 2.76142857,0.422380952 C2.22779678,0.623194642 1.74439115,0.937993331 1.34492063,1.3448254 C0.937996885,1.74427087 0.623110296,2.22767839 0.422222222,2.76133333 C0.224666667,3.27006349 0.0894920635,3.85139683 0.0507936508,4.70266667 C0.0117142857,5.55555556 0.00250793651,5.828 0.00250793651,8 C0.00250793651,10.172 0.0117142857,10.4444444 0.0507936508,11.2973333 C0.0896507937,12.1486032 0.224825397,12.7299365 0.422539683,13.2386349 C0.623354287,13.7722662 0.938152855,14.2556717 1.34498413,14.6551429 C1.74445334,15.0619765 2.22785935,15.3767754 2.76149206,15.5775873 C3.27022222,15.7753016 3.85155556,15.9104762 4.70279365,15.9493333 C5.55580952,15.988254 5.82815873,15.9974603 8.00012698,15.9974603 C10.1720952,15.9974603 10.4445714,15.988254 11.2974603,15.9493333 C12.1487302,15.9104762 12.7300635,15.7753016 13.2387619,15.5775873 C14.3130077,15.1621101 15.1622371,14.3128807 15.5777143,13.2386349 C15.7754286,12.7299048 15.9106032,12.1485714 15.9494603,11.2973333 C15.988381,10.4443175 15.9975873,10.1719683 15.9975873,8 C15.9975873,5.82803175 15.988381,5.55555556 15.9494603,4.70266667 C15.9106032,3.85139683 15.7754286,3.27006349 15.5777143,2.76136508 C15.3769024,2.22773237 15.0621035,1.74432636 14.6552698,1.34485714 C14.2557912,0.937943967 13.7723504,0.623078524 13.2386667,0.422222222 C12.7299365,0.224666667 12.1486032,0.0894920635 11.2973333,0.0507936508 C10.4444444,0.0117142857 10.172,0.00250793651 8,0.00250793651 L8,0.00250793651 L8.00006349,0.00250793651 Z\" id=\"Shape\"></path><path d=\"M8,3.8931746 C5.73186296,3.8931746 3.8931746,5.73186296 3.8931746,8 C3.8931746,10.268137 5.73186296,12.1068254 8,12.1068254 C10.268137,12.1068254 12.1068254,10.268137 12.1068254,8 C12.1068254,5.73186296 10.268137,3.8931746 8,3.8931746 Z M8,10.6658095 C6.52771819,10.665792 5.33421053,9.47226065 5.33422222,7.99997884 C5.33423391,6.52769702 6.52776051,5.33418463 8.00004233,5.33419048 C9.47232414,5.33419632 10.6658413,6.52771819 10.6658413,8 C10.6658237,9.47229108 9.47229108,10.6658095 8,10.6658095 Z\" id=\"Shape\"></path><circle cx=\"12.2690794\" cy=\"3.73092063\" id=\"Oval\" r=\"1\"></circle></g></g></g></g></svg></i><span class=\"sr-only\">a Instagram</span></a></li><li><a href=\"rss\" title=\"RSS\"><i class=\"ico-square\"><svg class=\"svg-social\" height=\"26px\" version=\"1.1\" viewbox=\"0 0 26 26\" width=\"26px\" xmlns=\"http://www.w3.org/2000/svg\" xmlns:xlink=\"http://www.w3.org/1999/xlink\"><title>RSS</title><g fill=\"none\" fill-rule=\"evenodd\" id=\"Page-1\" stroke=\"none\" stroke-width=\"1\"><g id=\"Artboard\"><g id=\"picto-Facebook-Copy-2\"><g fill=\"#000000\" fill-rule=\"nonzero\" id=\"rss\" transform=\"translate(6.423729, 6.416667)\"><path d=\"M0.000855263158,-8.8817842e-15 L0.000855263158,2.02440789 C6.06125,2.02440789 10.9738816,6.93875 10.9738816,12.9991447 L13,12.9991447 C13,5.82006579 7.17993421,-8.8817842e-15 0.000855263158,-8.8817842e-15 Z M0.000855263158,4.05138158 L0.000855263158,6.0775 C3.82302632,6.0775 6.9225,9.17611842 6.9225,13 L8.94776316,13 C8.94776316,8.05828947 4.94171053,4.05138158 0.000855263158,4.05138158 Z M1.94144737,9.11625 C0.868947368,9.11625 3.41060513e-13,9.98690789 3.41060513e-13,11.0585526 C3.41060513e-13,12.1301974 0.868947368,13 1.94144737,13 C3.01394737,13 3.88203947,12.1310526 3.88203947,11.0585526 C3.88203947,9.98605263 3.01394737,9.11625 1.94144737,9.11625 Z\" id=\"Shape\"></path></g><rect height=\"25.7944091\" id=\"Rectangle-3-Copy\" width=\"25.8280394\" x=\"0\" y=\"0\"></rect></g></g></g></svg></i><span class=\"sr-only\">fa-rss</span></a></li></ul><div class=\"header__subscriptors\"><span class=\"subscripcio\"><a href=\"subscripcio\">Subscripció</a> |  <a href=\"usuari\">Iniciar sessió</a> | </span><a class=\"boto-menu-modal\" data-target=\"#modal-cerca\" title=\"Cerca\"><i class=\"ico\"><svg class=\"svg-search\" height=\"18px\" version=\"1.1\" viewbox=\"0 0 18 18\" width=\"20px\" xmlns=\"http://www.w3.org/2000/svg\" xmlns:xlink=\"http://www.w3.org/1999/xlink\"><title>Search</title><g fill=\"none\" fill-rule=\"evenodd\" id=\"Symbols\" stroke=\"none\" stroke-width=\"1\"><g fill=\"#000000\" id=\"search\" transform=\"translate(-967.000000, -14.000000)\"><path d=\"M985,30.7199497 L983.71995,32 L978.950913,27.2309629 C977.614216,28.273133 976.096295,28.7942102 974.397105,28.7942102 C973.415351,28.7942102 972.473258,28.6073021 971.570799,28.2334802 C970.66834,27.8596583 969.865957,27.3253653 969.163625,26.6305853 C968.468845,25.9358052 967.934552,25.1371977 967.56073,24.2347388 C967.186908,23.3322799 967,22.3864115 967,21.3971051 C967,20.4077987 967.186908,19.4619303 967.56073,18.5594714 C967.934552,17.6570125 968.468845,16.858405 969.163625,16.1636249 C969.865957,15.4688449 970.66834,14.9345519 971.570799,14.56073 C972.473258,14.1869081 973.415351,14 974.397105,14 C975.386411,14 976.33228,14.1869081 977.234739,14.56073 C978.137198,14.9345519 978.935805,15.4688449 979.630585,16.1636249 C980.332917,16.858405 980.870986,17.6570125 981.244808,18.5594714 C981.61863,19.4619303 981.805538,20.4077987 981.805538,21.3971051 C981.805538,23.0887435 981.280685,24.6066641 980.230963,25.9509125 L985,30.7199497 Z M970.432347,25.3505349 C971.527381,26.4455687 972.848954,26.9930774 974.397105,26.9930774 C975.945256,26.9930774 977.266829,26.4455687 978.361863,25.3505349 C979.449345,24.2630531 979.993077,22.9452563 979.993077,21.3971051 C979.993077,19.8565058 979.449345,18.5349331 978.361863,17.4323474 C977.259277,16.3448656 975.937704,15.8011328 974.397105,15.8011328 C972.848954,15.8011328 971.531157,16.3448656 970.443675,17.4323474 C969.348641,18.5273812 968.801133,19.8489539 968.801133,21.3971051 C968.801133,22.9452563 969.344866,24.2630531 970.432347,25.3505349 Z\" id=\"lupa\"></path></g></g></svg></i></a></div></div><div class=\"menu container\"><div class=\"container\"><nav class=\"nav\"><ul><li class=\"menu-logo\"><a href=\"/\" title=\"\"><img src=\"img/barres.svg\"/></a></li><li><a href=\"qui-som\">Qui som</a></li><li><a href=\"actualitat/politica\">Política</a></li><li><a href=\"actualitat/societat\">Societat</a></li><li><a href=\"actualitat/economia\">Economia</a></li><li><a href=\"actualitat/cultura\">Cultura</a></li><li><a href=\"actualitat/esports\">Esports</a></li><li><a href=\"entrevistes\">Entrevistes</a></li><li><a href=\"opinions\">Opinió</a></li><li><a href=\"actualitat/pirineus\">Pirineus</a></li><li><a href=\"necrologiques\">Necrològiques</a></li></ul><div class=\"menu-btn\"><a class=\"lupa boto-menu-modal\" data-target=\"#modal-cerca\" title=\"Cerca\"><i class=\"ico\"><svg class=\"svg-search\" height=\"18px\" version=\"1.1\" viewbox=\"0 0 18 18\" width=\"20px\" xmlns=\"http://www.w3.org/2000/svg\" xmlns:xlink=\"http://www.w3.org/1999/xlink\"><title>Search</title><g fill=\"none\" fill-rule=\"evenodd\" id=\"Symbols\" stroke=\"none\" stroke-width=\"1\"><g fill=\"#000000\" id=\"search\" transform=\"translate(-967.000000, -14.000000)\"><path d=\"M985,30.7199497 L983.71995,32 L978.950913,27.2309629 C977.614216,28.273133 976.096295,28.7942102 974.397105,28.7942102 C973.415351,28.7942102 972.473258,28.6073021 971.570799,28.2334802 C970.66834,27.8596583 969.865957,27.3253653 969.163625,26.6305853 C968.468845,25.9358052 967.934552,25.1371977 967.56073,24.2347388 C967.186908,23.3322799 967,22.3864115 967,21.3971051 C967,20.4077987 967.186908,19.4619303 967.56073,18.5594714 C967.934552,17.6570125 968.468845,16.858405 969.163625,16.1636249 C969.865957,15.4688449 970.66834,14.9345519 971.570799,14.56073 C972.473258,14.1869081 973.415351,14 974.397105,14 C975.386411,14 976.33228,14.1869081 977.234739,14.56073 C978.137198,14.9345519 978.935805,15.4688449 979.630585,16.1636249 C980.332917,16.858405 980.870986,17.6570125 981.244808,18.5594714 C981.61863,19.4619303 981.805538,20.4077987 981.805538,21.3971051 C981.805538,23.0887435 981.280685,24.6066641 980.230963,25.9509125 L985,30.7199497 Z M970.432347,25.3505349 C971.527381,26.4455687 972.848954,26.9930774 974.397105,26.9930774 C975.945256,26.9930774 977.266829,26.4455687 978.361863,25.3505349 C979.449345,24.2630531 979.993077,22.9452563 979.993077,21.3971051 C979.993077,19.8565058 979.449345,18.5349331 978.361863,17.4323474 C977.259277,16.3448656 975.937704,15.8011328 974.397105,15.8011328 C972.848954,15.8011328 971.531157,16.3448656 970.443675,17.4323474 C969.348641,18.5273812 968.801133,19.8489539 968.801133,21.3971051 C968.801133,22.9452563 969.344866,24.2630531 970.432347,25.3505349 Z\" id=\"lupa\"></path></g></g></svg></i></a><a class=\"burguer boto-menu-modal\" title=\"Menú\"><span class=\"sr-only\">menú</span><span class=\"ico ico-menu\"><span class=\"barra\"></span><span class=\"barra\"></span><span class=\"barra\"></span></span></a></div></nav></div></div></header><div class=\"container\"><div class=\"publicitat dreta\"><ins data-revive-id=\"727bec5e09208690b050ccfc6a45d384\" data-revive-zoneid=\"9403\"></ins><script async=\"\" src=\"//servedby.revive-adserver.net/asyncjs.php\"></script></div><div class=\"publicitat esquerra\"><ins data-revive-id=\"727bec5e09208690b050ccfc6a45d384\" data-revive-zoneid=\"9404\"></ins><script async=\"\" src=\"//servedby.revive-adserver.net/asyncjs.php\"></script></div></div><div class=\"container\"><nav><ol class=\"breadcrumbs\"><li><a href=\"/\">\n",
       "                        Inici\n",
       "                        </a></li><li><a href=\"actualitat\">\n",
       "                        Notícies\n",
       "                        </a></li><li><a href=\"/actualitat/esports\">Esports</a></li></ol></nav><div class=\"row marge-superior\"><div class=\"col\"><div class=\"publicitat banner970\"><div><script>\r\n",
       "var zone_id;\r\n",
       "if( breakpoint_is_sm.matches ) \r\n",
       " zone_id = \"9375\";\r\n",
       "else \r\n",
       " zone_id = \"9374\";\r\n",
       "document.write('<ins data-revive-zoneid=\"' + zone_id + '\" data-revive-target=\"_blank\" data-revive-id=\"727bec5e09208690b050ccfc6a45d384\"></ins>');\r\n",
       "</script><script async=\"\" src=\"//servedby.revive-adserver.net/asyncjs.php\"></script></div><span>PUBLICITAT</span></div></div></div></div><main><div class=\"container\"> <article class=\"noticia\"><header><header class=\"noticia-header\"><div class=\"row\"><div class=\"col-xs-12 col-md-10 col-md-offset-1\"><p class=\"noticia-header__epigraph\">GP Indonèsia</p><h1 class=\"noticia-header__title\">Cardelús sortirà en 22a posició a Indonèsia </h1><h2 class=\"noticia-header__subtitle\">El pilot andorrà qualifica la jornada com \"el millor dissabte de la temporada\"</h2><p class=\"noticia-header__author\">Per <a href=\"autor/el-periodic\">El Periòdic</a></p></div></div><div class=\"noticia__meta\"><time class=\"noticia-header__date\" datetime=\"2024-09-28- 11:00\">Publicat el Dissabte, 28 de setembre de 2024 | 11:00 h</time><div class=\"article__share\"><a class=\"comments\" href=\"https://www.elperiodic.ad/noticia/108671/cardelus-sortira-en-22a-posicio-a-indonesia#comentaris\"><span class=\"comments-icon\"><i class=\"ico ico-comentaris\"></i></span></a>\n",
       "     \n",
       "    \n",
       "    <script type=\"text/javascript\">\n",
       "        var addthis_share = addthis_share || {}\n",
       "        addthis_share = {\n",
       "            passthrough : {\n",
       "                twitter: {\n",
       "                    via: \"PeriodicAND\"\n",
       "                    \n",
       "                    , text: \"El pilot andorrà qualifica la jornada com \"el millor dissabte de la temporada\"\"\n",
       "                    \n",
       "                }\n",
       "            }\n",
       "        }\n",
       "    </script><div class=\"addthis_inline_share_toolbox\"></div></div></div></header></header><div class=\"row-flex main-aside\"><main><div class=\"noticia-main\"><figure class=\"noticia-main__image\"><a class=\"imatge\" href=\"/imatges/noticies/whatsapp-image-2024-09-28-at-11.18.16.jpeg\"><img alt=\"El pilot de motociclisme, Xavi Cardelús, la segona jornada d'entrenaments.\" src=\"imgMini/735/368/53121\"/></a><figcaption>El pilot de motociclisme, Xavi Cardelús, la segona jornada d'entrenaments. | Cardelús Racing Team</figcaption></figure><div class=\"noticia-main__content\"><p>La segona jornada d'entrenaments del Gran Premi d'Indonèsia ha servit perquè Xavi Cardelús continuï coneixent el circuit de Mandalika, on no havia corregut mai i per situar-lo al 26è lloc de la graella de sortida d'aquest Gran Premi que disputarà la seva cursa diumenge. En la jornada d'aquest dissabte, els seus registres han continuat millorant cada vegada que sortia a pista i s'ha quedat només a 1.2 de la pole de la categoria. Així doncs, la quasi arribada a la pole ha estat qualificada per Cardelús com <strong>\"el millor dissabte del que portem de la temporada i el cap de setmana més complert fins al moment\".</strong><br/><br/>\r\n",
       "Cardelús ha fet una millor volta d'1'34.649 que ha tornat a suposar un important pas endavant respecte a la jornada de divendres, en la qual va començar marcant uns temps dos segons més lents. A tot això cal afegir que s'ha situat a una dècima de segon dels quatre pilots que té immediatament davant d'ell protagonitzant un dels millors classificatoris de la temporada. A la primera sortida a pista, per fer el tercer entrenament lliure del Gran Premi i primer de la jornada abans de la Q1, l'andorrà ja havia rebaixat la seva volta ràpida dels primers entrenaments amb un 1'35.075, mig segon més ràpid que la seva referència anterior.<br/><br/>\r\n",
       "\"Estic content i cal estar-ne\" ha declarat el pilot de Fantic Racing. Cardelús ha valorat molt positivament la millora del crono durant els classificatoris, tot i que també ho ha pogut fer durant l'entrenament lliure. \"<strong>El balanç és força positiu i reflecteix, sobretot, que hem seguit una bona línia de treball i hem estat capaços d'anar fixant, cada vegada més la posada a punt de la moto per millorar-la respecte a divendres\"</strong> ha mencionat.<br/><br/>\r\n",
       "La cursa començarà diumenge a les 07.15 hores i els pilots hauran de fer 22 voltes al circuit de Mandalika.</p></div></div><footer class=\"noticia-footer\"><!-- Barra meta --><div class=\"noticia__meta\"><ul class=\"sharer\"><li class=\"lectures\"><a class=\"printfriendly\" href=\"http://www.printfriendly.com\" onclick=\"window.print(); return false;\" title=\"Printer Friendly and PDF\"><i class=\"ico ico-print\"></i><span class=\"sr-only\">Imprimir</span></a></li><li class=\"enviar\"><a class=\"printfriendly\" href=\"http://www.printfriendly.com\" onclick=\"window.print(); return false;\" title=\"Envia a un amic\"><i class=\"ico ico-email\"></i><span class=\"sr-only\">Envia a un amic</span></a></li><li class=\"pdf\"><a class=\"printfriendly\" href=\"http://www.printfriendly.com\" onclick=\"window.print(); return false;\" title=\"PDF\"><i class=\"ico ico-pdf\"></i><span class=\"sr-only\">PDF</span></a></li></ul><div class=\"article__share\"><a class=\"comments\" href=\"https://www.elperiodic.ad/noticia/108671/cardelus-sortira-en-22a-posicio-a-indonesia#comentaris\"><span class=\"comments-icon\"><i class=\"ico ico-comentaris\"></i></span></a>\n",
       "     \n",
       "    \n",
       "    <script type=\"text/javascript\">\n",
       "        var addthis_share = addthis_share || {}\n",
       "        addthis_share = {\n",
       "            passthrough : {\n",
       "                twitter: {\n",
       "                    via: \"PeriodicAND\"\n",
       "                    \n",
       "                    , text: \"El pilot andorrà qualifica la jornada com \"el millor dissabte de la temporada\"\"\n",
       "                    \n",
       "                }\n",
       "            }\n",
       "        }\n",
       "    </script><div class=\"addthis_inline_share_toolbox\"></div></div></div><section class=\"noticia__comentaris\" id=\"comentaris\"><h4>Comenta aquest article</h4><div id=\"fb-root\"></div><script async=\"\" crossorigin=\"anonymous\" defer=\"\" nonce=\"LXMVeWEC\" src=\"https://connect.facebook.net/ca_ES/sdk.js#xfbml=1&amp;version=v20.0\"></script><div class=\"fb-comments\" data-href=\"https://www.elperiodic.ad/noticia/108671/cardelus-sortira-en-22a-posicio-a-indonesia\" data-numposts=\"5\" data-width=\"100%\"></div></section></footer><div class=\"row\"><div class=\"col\"><div class=\"publicitat banner970\"><div><script>\r\n",
       "var zone_id;\r\n",
       "if( breakpoint_is_sm.matches ) \r\n",
       " zone_id = \"9380\";\r\n",
       "else \r\n",
       " zone_id = \"9381\";\r\n",
       "document.write('<ins data-revive-zoneid=\"' + zone_id + '\" data-revive-target=\"_blank\" data-revive-id=\"727bec5e09208690b050ccfc6a45d384\"></ins>');\r\n",
       "</script><script async=\"\" src=\"//servedby.revive-adserver.net/asyncjs.php\"></script></div><span>PUBLICITAT</span></div></div></div></main><aside>\n",
       "<h2 class=\"titol-seccio\"><a href=\"enquestes\">Enquestes</a></h2><div class=\"item enquesta\"><h2 class=\"enquesta__title\"><a href=\"https://www.elperiodic.ad/enquesta/243/considera-que-el-cap-de-govern-xavier-espot-es-qui-hauria-de-donar-les-explicacions-sobre-\">Considera que el cap de Govern, Xavier Espot, és qui hauria de donar les explicacions sobre el laboratori de Grifols?</a></h2><div id=\"enquesta-opcions\"><ul id=\"enquesta_resultats\"><li><label class=\"radio\" for=\"enq_opt1183\"><input id=\"enq_opt1183\" name=\"enq\" type=\"radio\" value=\"1183\"/>Sí <span></span></label></li><li><label class=\"radio\" for=\"enq_opt1184\"><input id=\"enq_opt1184\" name=\"enq\" type=\"radio\" value=\"1184\"/>No <span></span></label></li><li><label class=\"radio\" for=\"enq_opt1185\"><input id=\"enq_opt1185\" name=\"enq\" type=\"radio\" value=\"1185\"/>NS/NC <span></span></label></li></ul><input class=\"btn btn_expandit btn__vermell\" name=\"Votar\" type=\"button\" value=\"Votar\"/></div></div>\n",
       "<div class=\"mes-popular\"><h2 class=\"titol-seccio\"><a href=\"actualitat/populars\">Més populars</a></h2><ol><li><a href=\"https://www.elperiodic.ad/noticia/108560/un-traster-de-25-m-a-la-venda-per-65.000-euros-lexemple-extrem-de-la-crisi-de-lhabitatge\"><h3>Un traster de 25 m² a la venda per 65.000 euros: l'exemple extrem de la crisi de l'habitatge</h3></a></li><li><a href=\"https://www.elperiodic.ad/noticia/108650/mor-un-home-a-andorra-la-vella\"><h3>Localitzen mort un home en una benzinera de l'avinguda Santa Coloma</h3></a></li><li><a href=\"https://www.elperiodic.ad/noticia/108509/ladvocat-de-sergio-fuentes-anuncia-accions-legals-contra-mitjans-espanyols-i-andorrans\"><h3>L'advocat del 'Rei d'OnlyFans' anuncia accions legals contra mitjans espanyols i andorrans</h3></a></li><li><a href=\"https://www.elperiodic.ad/noticia/108515/els-supermercats-mes-economics-sota-examen\"><h3>Els supermercats més econòmics, sota examen</h3></a></li><li><a href=\"https://www.elperiodic.ad/noticia/108526/apagada-electrica-general-a-tot-el-pais-durant-20-minuts\"><h3>Apagada elèctrica general a tot el país durant 20 minuts</h3></a></li></ol><div class=\"text-center\"><a class=\"btn\" href=\"actualitat/populars\">Les 20 més populars</a></div></div>\n",
       "<div class=\"publicitat roba text-center\"><div><script>\r\n",
       "var zone_id;\r\n",
       "if( es_eleccions ) \r\n",
       " zone_id = \"9391\";\r\n",
       "else \r\n",
       " zone_id = \"9395\";\r\n",
       "document.write('<ins data-revive-zoneid=\"' + zone_id + '\" data-revive-target=\"_blank\" data-revive-id=\"727bec5e09208690b050ccfc6a45d384\"></ins>');\r\n",
       "</script><script async=\"\" src=\"//servedby.revive-adserver.net/asyncjs.php\"></script></div><span>PUBLICITAT</span></div><h2 class=\"titol-seccio\"><a href=\"editorials\">Editorial</a></h2><div class=\"item article article_editorial-sidebar\"><a href=\"https://www.elperiodic.ad/editorial/108668/la-justicia-andorrana-reafirma-la-seva-fermesa\" title=\"Title text\"><figure class=\"article__image hide-xs-only\"><img alt=\"Alternative text\" src=\"img/barres-img.jpg\"/></figure><div class=\"article__text\"><h2 class=\"article__title\">La justícia andorrana reafirma la seva fermesa</h2><p class=\"article__subtitle\"></p></div></a></div>\n",
       "<div class=\"publicitat roba text-center\"><div><ins data-revive-id=\"727bec5e09208690b050ccfc6a45d384\" data-revive-zoneid=\"9396\"></ins><script async=\"\" src=\"//servedby.revive-adserver.net/asyncjs.php\"></script></div><span>PUBLICITAT</span></div><h2 class=\"titol-seccio\"><a href=\"opinions\">Opinió</a></h2><div class=\"item article article_opinio-sidebar\"><div class=\"row-flex\"><div class=\"item article_opinio\"><a href=\"https://www.elperiodic.ad/opinio/article/108662/seran-els-ceos-reemplacats-per-maquines\"><figure class=\"article__image\"><img src=\"img/200/200/82137\"/></figure><div class=\"article__text\"><p class=\"article__author\">Jessica Rivera <span>CEO i Cofundadora d'AUMENTIUM</span></p><h2 class=\"article__title\">Seran els CEO’s reemplaçats per màquines?</h2></div></a></div><div class=\"item article_opinio\"><a href=\"https://www.elperiodic.ad/opinio/article/108645/consultori-fiscal\"><figure class=\"article__image\"><img src=\"img/200/200/41646\"/></figure><div class=\"article__text\"><p class=\"article__author\">Jaime Mesas <span></span></p><h2 class=\"article__title\">Consultori fiscal</h2></div></a></div><div class=\"item article_opinio\"><a href=\"https://www.elperiodic.ad/opinio/article/108644/les-excuses-de-mal-pagador\"><figure class=\"article__image\"><img src=\"img/200/200/41259\"/></figure><div class=\"article__text\"><p class=\"article__author\">Pere Brachfield <span>Soci director de Brachfield &amp; Asociados Abogados</span></p><h2 class=\"article__title\">Les excuses de mal pagador</h2></div></a></div><div class=\"item article_opinio\"><a href=\"https://www.elperiodic.ad/opinio/article/108643/10-claus-per-a-entendre-la-propera-jugada-del-bce\"><figure class=\"article__image\"><img src=\"img/200/200/85934\"/></figure><div class=\"article__text\"><p class=\"article__author\">Àlex Fusté <span>Economista en cap Andbank</span></p><h2 class=\"article__title\">10 claus per a entendre la propera jugada del BCE</h2></div></a></div></div></div>\n",
       "<div class=\"publicitat roba text-center\"><div><ins data-revive-id=\"727bec5e09208690b050ccfc6a45d384\" data-revive-zoneid=\"9397\"></ins><script async=\"\" src=\"//servedby.revive-adserver.net/asyncjs.php\"></script></div><span>PUBLICITAT</span></div><div class=\"publicitat roba text-center\"><div><ins data-revive-id=\"727bec5e09208690b050ccfc6a45d384\" data-revive-zoneid=\"9398\"></ins><script async=\"\" src=\"//servedby.revive-adserver.net/asyncjs.php\"></script></div><span>PUBLICITAT</span></div><h2 class=\"titol-seccio\"><a href=\"entrevistes\">Entrevista</a></h2><div class=\"item article article_entrevista\"><a href=\"https://www.elperiodic.ad/entrevista/108524/cada-estrella-michelin-es-un-treball-dequip-amb-lobjectiu-doferir-excellencia-naturalesa-i\" title=\"Title text\"><figure class=\"article__image\"><img alt=\"«Cada estrella Michelin és un treball d’equip amb l’objectiu d’oferir excel·lència, naturalesa i singularitat»\" src=\"imgMini/735/368/52988\"/></figure><div class=\"article__text\"><p class=\"article__author\">Carme Ruscalleda <span>Xef i guanyadora de l’Andorra Taste Award</span></p><h2 class=\"article__title\">«Cada estrella Michelin és un treball d’equip amb l’objectiu d’oferir excel·lència, naturalesa i singularitat»</h2></div></a></div>\n",
       "<div class=\"publicitat roba text-center\"><div><ins data-revive-id=\"727bec5e09208690b050ccfc6a45d384\" data-revive-zoneid=\"9401\"></ins><script async=\"\" src=\"//servedby.revive-adserver.net/asyncjs.php\"></script></div><span>PUBLICITAT</span></div>\n",
       "<h2 class=\"titol-seccio\"><a href=\"hemeroteca\">En paper</a></h2>\n",
       "<div class=\"item en-paper\">\n",
       "<a class=\"en-paper__portda\" href=\"https://www.elperiodic.ad/hemeroteca/3078/el-periodic-28.09.2024\">\n",
       "<img alt=\"El Periòdic 28.09.2024\" src=\"/img/260/260/86328\"/>\n",
       "</a>\n",
       "<time class=\"en-paper__date\">28 de setembre de 2024</time>\n",
       "<a class=\"btn_expandit btn__vermell\" href=\"subscripcio\">Descarrega't el PDF</a>\n",
       "<a class=\"btn_expandit\" href=\"hemeroteca\">Hemeroteca</a>\n",
       "</div>\n",
       "<h2 class=\"titol-seccio\"><a href=\"agenda\">Agenda</a></h2><div class=\"item agenda\"><ul class=\"sep-bot\"><li><time class=\"agenda__data\">28 <span>Set</span></time><h3 class=\"agenda__title\"><a href=\"https://www.elperiodic.ad/agenda/teatre-infantil-musical-mozartland\">Teatre infantil musical Mozartland</a></h3></li><li><time class=\"agenda__data\">28 <span>Set</span></time><h3 class=\"agenda__title\"><a href=\"https://www.elperiodic.ad/agenda/la-realitat-plural-taller-de-fotografia\">La realitat plural: taller de fotografia </a></h3></li><li><time class=\"agenda__data\">28 <span>Set</span></time><h3 class=\"agenda__title\"><a href=\"https://www.elperiodic.ad/agenda/la-realitat-plural-taller-de-fotografia\">La realitat plural: taller de fotografia </a></h3></li><li><time class=\"agenda__data\">28 <span>Set</span></time><h3 class=\"agenda__title\"><a href=\"https://www.elperiodic.ad/agenda/3es-jornades-de-bruixeria-dissabte-28-de-setembre\">\n",
       "3es JORNADES DE BRUIXERIA - Dissabte 28 de setembre\n",
       "</a></h3></li><li><time class=\"agenda__data\">28 <span>Set</span></time><h3 class=\"agenda__title\"><a href=\"https://www.elperiodic.ad/agenda/caldes-festival-pirates-de-caldes\">Caldes Festival Pirates de Caldes</a></h3></li></ul><a class=\"btn_expandit btn__vermell\" href=\"agenda/envia-acte\">Afegeix nou acte</a><a class=\"btn_expandit\" href=\"agenda\">Veure tots els actes</a></div>\n",
       "<h2 class=\"titol-seccio\"><a href=\"monografics\">Monogràfic</a></h2><div class=\"item monografic\"><a href=\"https://www.elperiodic.ad/monografic/2555/periodic-news-28.09.2024\"><img alt=\"\" sizes=\"(max-width: 480px) 480px,\n",
       "                 (max-width: 768px) 768px,\n",
       "                 (max-width: 992px) 992px,\n",
       "                 (max-width: 1140px) 1140px\" src=\"img/480/270/86317\" srcset=\"img/480/270/86317 480w,\n",
       "                 img/768/432/86317 768w,\n",
       "                 img/992/558/86317 992w,\n",
       "                 img/1140/642/86317 1140w\"/></a><p class=\"revista__numero\">Periodic News 28.09.2024</p><a class=\"btn_expandit btn__vermell\" href=\"https://www.elperiodic.ad/monografic/2555/periodic-news-28.09.2024/descarrega\">Descarregar PDF</a></div>\n",
       "<div class=\"item\">\n",
       "<a 3=\"\" class=\"twitter-timeline\" data-border-color=\"##cccccc\" data-chrome=\"nofooter noborders noscrollbar \" data-link-color=\"##DF0101\" data-theme=\"light\" data-widget-id=\"413968342513225729\" height=\"250\" href=\"https://twitter.com/PeriodicAND\" width=\"270\">Tweets by @PeriodicAND</a>\n",
       "<script type=\"text/javascript\">!function(d,s,id){var js,fjs=d.getElementsByTagName(s)[0],p=/^http:/.test(d.location)?'http':'https';if(!d.getElementById(id)){js=d.createElement(s);js.id=id;js.src=p+\"://platform.twitter.com/widgets.js\";fjs.parentNode.insertBefore(js,fjs);}}(document,\"script\",\"twitter-wjs\");</script><br/>\n",
       "</div>\n",
       "<div class=\"item\">\n",
       "<iframe allowtransparency=\"yes\" frameborder=\"0\" scrolling=\"no\" src=\"https://www.facebook.com/plugins/likebox.php?href=https%3A%2F%2Fwww.facebook.com%2FPeriodicAND&amp;width=270&amp;colorscheme=light&amp;show_faces=true&amp;border_color=%23CCCCCC&amp;connections=&amp;stream=false&amp;header=true&amp;locale=ca_ES&amp;force_wall=false&amp;height=310\" style=\"border:none; overflow:hidden; width:270px; height:310px;\"></iframe><br/>\n",
       "</div>\n",
       "</aside>\n",
       "</div>\n",
       "</article><div class=\"row\"><div class=\"col\"><div class=\"publicitat banner970 marge-superior\"><div><script>\r\n",
       "var zone_id;\r\n",
       "if( breakpoint_is_sm.matches ) \r\n",
       " zone_id = \"9382\";\r\n",
       "else \r\n",
       " zone_id = \"9386\";\r\n",
       "document.write('<ins data-revive-zoneid=\"' + zone_id + '\" data-revive-target=\"_blank\" data-revive-id=\"727bec5e09208690b050ccfc6a45d384\"></ins>');\r\n",
       "</script><script async=\"\" src=\"//servedby.revive-adserver.net/asyncjs.php\"></script></div><span>PUBLICITAT</span></div></div></div></div></main><div class=\"publicitat peu panell\"><button class=\"float-right tancar\" type=\"button\"><span>×</span></button><div><ins data-revive-id=\"727bec5e09208690b050ccfc6a45d384\" data-revive-zoneid=\"9405\"></ins><script async=\"\" src=\"//servedby.revive-adserver.net/asyncjs.php\"></script></div></div><div class=\"cookie-notice panell\"><button class=\"float-right tancar\" type=\"button\"><span>×</span></button><p><strong>Atenció</strong>: com la majoria de webs, utilitzem cookies (galetes), tant pròpies com de tercers, per a recopilar informació estadística de la vostra navegació i oferir-vos un\n",
       "        servei personalitzat. Si continueu navegant, considerem que n'accepteu l'ús. <a href=\"cookies\">Més informació</a></p></div><footer class=\"footer\"><div class=\"container-fluid\"><div class=\"container footer-1\"><div class=\"row\"><div class=\"col col-xs-12 col-sm-5 col-md-5 col-lg-5\"><img class=\"logo\" src=\"img/logo-peu.svg\"/><div class=\"copyright\">© elperiodic.ad | 1997 - 2024</div><p> </p><p>Els nostres socis:<br/><a href=\"http://www.all-andorra.com\" rel=\"noopener noreferrer\" target=\"_blank\"><img src=\"img/all_pyrenees.png\"/></a></p></div><div class=\"col col-xs-12 col-sm-3 col-md-3 col-lg-3\"><h2>Segueix-nos</h2><ul><li><a href=\"https://www.facebook.com/PeriodicAND\" target=\"_blank\" title=\"Facebook\"><i class=\"ico-square\"><svg class=\"svg-social\" height=\"26px\" version=\"1.1\" viewbox=\"0 0 26 26\" width=\"26px\" xmlns=\"http://www.w3.org/2000/svg\" xmlns:xlink=\"http://www.w3.org/1999/xlink\"><title>Facebook</title><g fill=\"none\" fill-rule=\"evenodd\" id=\"Page-1\" stroke=\"none\" stroke-width=\"1\"><g id=\"Artboard\"><g id=\"picto-Facebook\"><path d=\"M16.3559322,8.75333333 L16.3559322,6.5 L14.1994576,6.5 C12.4074576,6.5 11.0710508,7.94444444 11.0710508,9.73555556 L11.0710508,10.9777778 L8.76271186,10.9777778 L8.76271186,13.1155556 L11.0710508,13.1155556 L11.0710508,19.5 L13.6527458,19.5 L13.6527458,13.1155556 L16.3559322,13.1155556 L16.3559322,10.9777778 L13.6527458,10.9777778 L13.6527458,9.50444444 C13.6527458,9.07111111 13.9261017,8.75333333 14.1994576,8.75333333 L16.3559322,8.75333333 Z\" fill=\"#000000\" id=\"Facebook\"></path><rect height=\"25.7944091\" id=\"Rectangle-3-Copy\" width=\"25.8280394\" x=\"0\" y=\"0\"></rect></g></g></g></svg></i><span class=\"sr-only\">a Facebook</span></a></li><li><a href=\"https://twitter.com/PeriodicAND\" target=\"_blank\" title=\"Twitter\"><i class=\"ico-square\"><svg class=\"svg-social\" height=\"26px\" version=\"1.1\" viewbox=\"0 0 26 26\" width=\"26px\" xmlns=\"http://www.w3.org/2000/svg\" xmlns:xlink=\"http://www.w3.org/1999/xlink\"><title>Twitter</title><g fill=\"none\" fill-rule=\"evenodd\" id=\"Page-1\" stroke=\"none\" stroke-width=\"1\"><g id=\"Artboard\"><g id=\"picto-twitter\"><path d=\"M19.3569016,9.42995147 C18.9013779,9.61765248 18.4190587,9.75172463 17.9099439,9.83216792 C18.4190587,9.51039476 18.8209913,9.02773503 19.0085599,8.43781757 C18.5262407,8.70596187 17.9903305,8.92047731 17.4008292,9.02773503 C16.9453055,8.54507529 16.3022132,8.25011657 15.5787344,8.25011657 C14.1585723,8.25011657 13.0331608,9.37632261 13.0331608,10.770673 C13.0331608,10.958374 13.0599564,11.1728894 13.1135474,11.333776 C10.996702,11.2533327 9.14781168,10.2343844 7.88842264,8.70596187 C7.67405855,9.08136389 7.54008099,9.51039476 7.54008099,9.96624007 C7.54008099,10.8511162 7.99560469,11.6287347 8.66549247,12.08458 C8.2635598,12.0577656 7.86162713,11.9505079 7.54008099,11.7628069 L7.54008099,11.7896213 C7.54008099,13.0230851 8.39753736,14.0420334 9.54974435,14.2833633 C9.33538026,14.3369921 9.12101617,14.3638065 8.87985657,14.3638065 C8.7190835,14.3638065 8.55831043,14.3638065 8.42433287,14.3101777 C8.74587901,15.329126 9.68372191,16.0531156 10.7823379,16.07993 C9.92488151,16.7502908 8.82626554,17.1525072 7.64726304,17.1525072 C7.43289895,17.1525072 7.21853485,17.1525072 7.03096627,17.1256928 C8.15637776,17.8496824 9.46935782,18.2518988 10.9163154,18.2518988 C15.5519389,18.2518988 18.0975125,14.4174354 18.0975125,11.0656317 L18.0975125,10.7438585 C18.5798317,10.3684565 19.0085599,9.93942564 19.3569016,9.42995147 L19.3569016,9.42995147 Z\" fill=\"#000000\" id=\"Twitter\"></path><rect height=\"25.7944091\" id=\"Rectangle-3\" width=\"25.8280394\" x=\"0\" y=\"0\"></rect></g></g></g></svg></i><span class=\"sr-only\">a Twitter</span></a></li><li><a href=\"https://vimeo.com/user39497209\" target=\"_blank\" title=\"Vimeo\"><i class=\"ico-square\"><svg class=\"svg-social\" height=\"26px\" version=\"1.1\" viewbox=\"0 0 26 26\" width=\"26px\" xmlns=\"http://www.w3.org/2000/svg\" xmlns:xlink=\"http://www.w3.org/1999/xlink\"><title>YouTube</title><g fill=\"none\" fill-rule=\"evenodd\" id=\"Page-1\" stroke=\"none\" stroke-width=\"1\"><g id=\"Artboard\"><g id=\"picto-Facebook-Copy\"><path d=\"M13.559322,7.78645833 C6.62974915,7.78645833 6.50847458,8.37822917 6.50847458,13 C6.50847458,17.6217708 6.62974915,18.2135417 13.559322,18.2135417 C20.4888949,18.2135417 20.6101695,17.6217708 20.6101695,13 C20.6101695,8.37822917 20.4888949,7.78645833 13.559322,7.78645833 Z M15.8191186,13.2261458 L12.6532881,14.6453125 C12.3761898,14.7685417 12.1491525,14.6304167 12.1491525,14.3365625 L12.1491525,11.6634375 C12.1491525,11.3702604 12.3761898,11.2314583 12.6532881,11.3546875 L15.8191186,12.7738542 C16.0962169,12.8984375 16.0962169,13.1015625 15.8191186,13.2261458 Z\" fill=\"#000000\" fill-rule=\"nonzero\" id=\"Shape\"></path><rect height=\"25.7944091\" id=\"Rectangle-3-Copy\" width=\"25.8280394\" x=\"0\" y=\"0\"></rect></g></g></g></svg></i><span class=\"sr-only\">a Youtube</span></a></li><li><a href=\"https://www.instagram.com/elperiodic.ad\" target=\"_blank\" title=\"Instagram\"><i class=\"ico-square\"><svg class=\"svg-social\" height=\"26px\" version=\"1.1\" viewbox=\"0 0 26 26\" width=\"26px\" xmlns=\"http://www.w3.org/2000/svg\" xmlns:xlink=\"http://www.w3.org/1999/xlink\"><title>Instagram</title><g fill=\"none\" fill-rule=\"evenodd\" id=\"Page-1\" stroke=\"none\" stroke-width=\"1\"><g id=\"Artboard\"><g id=\"picto-Facebook-Copy-2\"><rect height=\"25.7944091\" id=\"Rectangle-3-Copy\" width=\"25.8280394\" x=\"0\" y=\"0\"></rect><g fill=\"#000000\" fill-rule=\"nonzero\" id=\"instagram-simple-icon\" transform=\"translate(5.033898, 5.000000)\"><path d=\"M8,1.44352381 C10.1354286,1.44352381 10.3883492,1.45168254 11.231746,1.49015873 C12.0114921,1.52574603 12.4349206,1.656 12.7167619,1.76552381 C13.0641299,1.89373079 13.3783486,2.09815849 13.6363175,2.36377778 C13.9019368,2.62174661 14.1063644,2.93596538 14.2345714,3.28333333 C14.3440952,3.56514286 14.474381,3.98860317 14.5099365,4.76834921 C14.5484127,5.61168254 14.5565714,5.86460317 14.5565714,8.00009524 C14.5565714,10.1355873 14.5484127,10.3884444 14.5099365,11.2318413 C14.4743492,12.0115873 14.3440635,12.4350159 14.2345714,12.7168571 C13.96552,13.4143308 13.4142355,13.9656153 12.7167619,14.2346667 C12.4349524,14.3441905 12.0114921,14.4744762 11.231746,14.5100317 C10.3885714,14.5485079 10.1356508,14.5566667 8,14.5566667 C5.86434921,14.5566667 5.61152381,14.5485079 4.76825397,14.5100317 C3.98850794,14.4744444 3.56507937,14.3441587 3.2832381,14.2346667 C2.93586965,14.1064607 2.62165069,13.9020328 2.36368254,13.6364127 C2.09806409,13.3784432 1.89363652,13.0642246 1.76542857,12.7168571 C1.65590476,12.4350476 1.52561905,12.0115873 1.49006349,11.2318413 C1.4515873,10.3885397 1.44342857,10.1355873 1.44342857,8.00009524 C1.44342857,5.86460317 1.4515873,5.61174603 1.49006349,4.76834921 C1.52565079,3.98860317 1.65590476,3.5651746 1.76542857,3.28333333 C1.89364986,2.93594807 2.09809982,2.62171757 2.36374603,2.36374603 C2.62171556,2.09812758 2.93593412,1.89370001 3.28330159,1.76549206 C3.56511111,1.65596825 3.98857143,1.52568254 4.76831746,1.49012698 C5.61165079,1.45165079 5.86457143,1.44349206 8.00006349,1.44349206 L8,1.44352381 Z M8.00006349,0.00250793651 C5.82806349,0.00250793651 5.55561905,0.0117142857 4.70273016,0.0506349206 C3.85146032,0.0894920635 3.27012698,0.224666667 2.76142857,0.422380952 C2.22779678,0.623194642 1.74439115,0.937993331 1.34492063,1.3448254 C0.937996885,1.74427087 0.623110296,2.22767839 0.422222222,2.76133333 C0.224666667,3.27006349 0.0894920635,3.85139683 0.0507936508,4.70266667 C0.0117142857,5.55555556 0.00250793651,5.828 0.00250793651,8 C0.00250793651,10.172 0.0117142857,10.4444444 0.0507936508,11.2973333 C0.0896507937,12.1486032 0.224825397,12.7299365 0.422539683,13.2386349 C0.623354287,13.7722662 0.938152855,14.2556717 1.34498413,14.6551429 C1.74445334,15.0619765 2.22785935,15.3767754 2.76149206,15.5775873 C3.27022222,15.7753016 3.85155556,15.9104762 4.70279365,15.9493333 C5.55580952,15.988254 5.82815873,15.9974603 8.00012698,15.9974603 C10.1720952,15.9974603 10.4445714,15.988254 11.2974603,15.9493333 C12.1487302,15.9104762 12.7300635,15.7753016 13.2387619,15.5775873 C14.3130077,15.1621101 15.1622371,14.3128807 15.5777143,13.2386349 C15.7754286,12.7299048 15.9106032,12.1485714 15.9494603,11.2973333 C15.988381,10.4443175 15.9975873,10.1719683 15.9975873,8 C15.9975873,5.82803175 15.988381,5.55555556 15.9494603,4.70266667 C15.9106032,3.85139683 15.7754286,3.27006349 15.5777143,2.76136508 C15.3769024,2.22773237 15.0621035,1.74432636 14.6552698,1.34485714 C14.2557912,0.937943967 13.7723504,0.623078524 13.2386667,0.422222222 C12.7299365,0.224666667 12.1486032,0.0894920635 11.2973333,0.0507936508 C10.4444444,0.0117142857 10.172,0.00250793651 8,0.00250793651 L8,0.00250793651 L8.00006349,0.00250793651 Z\" id=\"Shape\"></path><path d=\"M8,3.8931746 C5.73186296,3.8931746 3.8931746,5.73186296 3.8931746,8 C3.8931746,10.268137 5.73186296,12.1068254 8,12.1068254 C10.268137,12.1068254 12.1068254,10.268137 12.1068254,8 C12.1068254,5.73186296 10.268137,3.8931746 8,3.8931746 Z M8,10.6658095 C6.52771819,10.665792 5.33421053,9.47226065 5.33422222,7.99997884 C5.33423391,6.52769702 6.52776051,5.33418463 8.00004233,5.33419048 C9.47232414,5.33419632 10.6658413,6.52771819 10.6658413,8 C10.6658237,9.47229108 9.47229108,10.6658095 8,10.6658095 Z\" id=\"Shape\"></path><circle cx=\"12.2690794\" cy=\"3.73092063\" id=\"Oval\" r=\"1\"></circle></g></g></g></g></svg></i><span class=\"sr-only\">a Instagram</span></a></li><li><a href=\"rss\" title=\"RSS\"><i class=\"ico-square\"><svg class=\"svg-social\" height=\"26px\" version=\"1.1\" viewbox=\"0 0 26 26\" width=\"26px\" xmlns=\"http://www.w3.org/2000/svg\" xmlns:xlink=\"http://www.w3.org/1999/xlink\"><title>RSS</title><g fill=\"none\" fill-rule=\"evenodd\" id=\"Page-1\" stroke=\"none\" stroke-width=\"1\"><g id=\"Artboard\"><g id=\"picto-Facebook-Copy-2\"><g fill=\"#000000\" fill-rule=\"nonzero\" id=\"rss\" transform=\"translate(6.423729, 6.416667)\"><path d=\"M0.000855263158,-8.8817842e-15 L0.000855263158,2.02440789 C6.06125,2.02440789 10.9738816,6.93875 10.9738816,12.9991447 L13,12.9991447 C13,5.82006579 7.17993421,-8.8817842e-15 0.000855263158,-8.8817842e-15 Z M0.000855263158,4.05138158 L0.000855263158,6.0775 C3.82302632,6.0775 6.9225,9.17611842 6.9225,13 L8.94776316,13 C8.94776316,8.05828947 4.94171053,4.05138158 0.000855263158,4.05138158 Z M1.94144737,9.11625 C0.868947368,9.11625 3.41060513e-13,9.98690789 3.41060513e-13,11.0585526 C3.41060513e-13,12.1301974 0.868947368,13 1.94144737,13 C3.01394737,13 3.88203947,12.1310526 3.88203947,11.0585526 C3.88203947,9.98605263 3.01394737,9.11625 1.94144737,9.11625 Z\" id=\"Shape\"></path></g><rect height=\"25.7944091\" id=\"Rectangle-3-Copy\" width=\"25.8280394\" x=\"0\" y=\"0\"></rect></g></g></g></svg></i><span class=\"sr-only\">fa-rss</span></a></li></ul></div><div class=\"col col-xs-12 col-sm-4 col-md-4 col-lg-4\"><div class=\"butlleti\"><h2><a class=\"link-secundari\" href=\"butlleti\">Subscripció al butlletí</a></h2><form action=\"butlleti\" class=\"form\" method=\"post\" role=\"form\"><input name=\"accio\" type=\"hidden\" value=\"alta\"/><div class=\"agrupar-horitzontal\"><input class=\"form-control\" id=\"ipt-ae\" name=\"ae\" placeholder=\"Adreça electrònica\" type=\"text\"><input class=\"btn btn-black\" name=\"Alta\" type=\"submit\" value=\"Alta\"/></input></div></form></div><p> </p><p>Amb la col·laboració de:<br/><a href=\"http://presidencia.gencat.cat/ca/inici/\" rel=\"noopener noreferrer\" target=\"_blank\"><img src=\"img/logo-presidencia.gif\"/></a></p></div></div></div></div><div class=\"container footer-2\"><div class=\"row\"><div class=\"col col-xs-12 col-sm-2 col-md-2 col-lg-2\"><div><script src=\"https://tirabol.cat/logo/negre.js\"></script></div></div><div class=\"col col-xs-12 col-sm-10 col-md-10 col-lg-10\"><p class=\"text-right\"><a href=\"qui-som\">Qui som</a><a href=\"contacte\">Contacte</a><a href=\"subscripcio\">Subscripcions</a><a href=\"tarifes-de-publicitat\">Tarifes de publicitat</a><a href=\"avis-legal\">Avís legal</a></p></div></div></div></footer><div class=\"modal-bg fade\" id=\"modal-menu\"><div class=\"modal-nav container\"><a class=\"modal-nav__logo\" href=\"/\" title=\"El Periòdic\"><img src=\"img/logo.svg\" title=\"Logo de El Periòdic\"/></a><div class=\"row-flex\"><div class=\"col ncol-xs-1 ncol-sm-3 ncol-md-3 ncol-lg-3\"><h2 class=\"titol-seccio\">Seccions</h2><ul><li><a href=\"actualitat\">Notícies</a></li><li><a href=\"entrevistes\">Entrevistes</a></li><li><a href=\"opinions\">Opinions</a></li><li><a href=\"editorials\">Editorials</a></li><li><a href=\"agenda\">Agenda</a></li><li><a href=\"galeries\">Galeries</a></li><li><a href=\"monografics\">Monografics</a><ul><li><a href=\"monografics/monografics\">Monogràfics</a></li><li><a href=\"monografics/news\">News</a></li><li><a href=\"monografics/immo\">Immo</a></li><li><a href=\"monografics/business\">Business</a></li></ul></li><li><a href=\"hemeroteca\">Hemeroteca</a></li><li><a href=\"http://enfemeni.elperiodic.ad/\">En femení</a></li><li><a href=\"necrologiques\">Necrològiques</a></li></ul></div><div class=\"col ncol-xs-1 ncol-sm-3 ncol-md-3 ncol-lg-3\"><h2 class=\"titol-seccio\">Categories</h2><ul><li><a href=\"actualitat/llengua\">Llengua</a></li><li><a href=\"actualitat/noticia-dempresa\">Empresa</a></li><li><a href=\"actualitat/esports\">Esports</a></li><li><a href=\"actualitat/economia\">Economia</a></li><li><a href=\"actualitat/cultura\">Cultura</a></li><li><a href=\"actualitat/tribunals\">Tribunals</a></li><li><a href=\"actualitat/societat\">Societat</a></li><li><a href=\"actualitat/politica\">Política</a></li><li><a href=\"actualitat/parroquies\">Parròquies</a></li><li><a href=\"actualitat/successos\">Successos</a></li></ul></div><div class=\"col ncol-xs-1 ncol-sm-3 ncol-md-3 ncol-lg-3\"><h2 class=\"titol-seccio\">Subscriptors</h2><ul><li><a href=\"subscripcio\">Subscripció</a></li><li><a href=\"usuari\">Iniciar sessió</a></li></ul><ul><li><a href=\"qui-som\">Qui som</a></li><li><a href=\"contacte\">Contacte</a></li><li><a href=\"butlleti\">Butlletí</a></li></ul><ul class=\"header__social\"><li><a href=\"https://www.facebook.com/PeriodicAND\" target=\"_blank\" title=\"Facebook\"><i class=\"ico-square\"><svg class=\"svg-social\" height=\"26px\" version=\"1.1\" viewbox=\"0 0 26 26\" width=\"26px\" xmlns=\"http://www.w3.org/2000/svg\" xmlns:xlink=\"http://www.w3.org/1999/xlink\"><title>Facebook</title><g fill=\"none\" fill-rule=\"evenodd\" id=\"Page-1\" stroke=\"none\" stroke-width=\"1\"><g id=\"Artboard\"><g id=\"picto-Facebook\"><path d=\"M16.3559322,8.75333333 L16.3559322,6.5 L14.1994576,6.5 C12.4074576,6.5 11.0710508,7.94444444 11.0710508,9.73555556 L11.0710508,10.9777778 L8.76271186,10.9777778 L8.76271186,13.1155556 L11.0710508,13.1155556 L11.0710508,19.5 L13.6527458,19.5 L13.6527458,13.1155556 L16.3559322,13.1155556 L16.3559322,10.9777778 L13.6527458,10.9777778 L13.6527458,9.50444444 C13.6527458,9.07111111 13.9261017,8.75333333 14.1994576,8.75333333 L16.3559322,8.75333333 Z\" fill=\"#000000\" id=\"Facebook\"></path><rect height=\"25.7944091\" id=\"Rectangle-3-Copy\" width=\"25.8280394\" x=\"0\" y=\"0\"></rect></g></g></g></svg></i><span class=\"sr-only\">a Facebook</span></a></li><li><a href=\"https://twitter.com/PeriodicAND\" target=\"_blank\" title=\"Twitter\"><i class=\"ico-square\"><svg class=\"svg-social\" height=\"26px\" version=\"1.1\" viewbox=\"0 0 26 26\" width=\"26px\" xmlns=\"http://www.w3.org/2000/svg\" xmlns:xlink=\"http://www.w3.org/1999/xlink\"><title>Twitter</title><g fill=\"none\" fill-rule=\"evenodd\" id=\"Page-1\" stroke=\"none\" stroke-width=\"1\"><g id=\"Artboard\"><g id=\"picto-twitter\"><path d=\"M19.3569016,9.42995147 C18.9013779,9.61765248 18.4190587,9.75172463 17.9099439,9.83216792 C18.4190587,9.51039476 18.8209913,9.02773503 19.0085599,8.43781757 C18.5262407,8.70596187 17.9903305,8.92047731 17.4008292,9.02773503 C16.9453055,8.54507529 16.3022132,8.25011657 15.5787344,8.25011657 C14.1585723,8.25011657 13.0331608,9.37632261 13.0331608,10.770673 C13.0331608,10.958374 13.0599564,11.1728894 13.1135474,11.333776 C10.996702,11.2533327 9.14781168,10.2343844 7.88842264,8.70596187 C7.67405855,9.08136389 7.54008099,9.51039476 7.54008099,9.96624007 C7.54008099,10.8511162 7.99560469,11.6287347 8.66549247,12.08458 C8.2635598,12.0577656 7.86162713,11.9505079 7.54008099,11.7628069 L7.54008099,11.7896213 C7.54008099,13.0230851 8.39753736,14.0420334 9.54974435,14.2833633 C9.33538026,14.3369921 9.12101617,14.3638065 8.87985657,14.3638065 C8.7190835,14.3638065 8.55831043,14.3638065 8.42433287,14.3101777 C8.74587901,15.329126 9.68372191,16.0531156 10.7823379,16.07993 C9.92488151,16.7502908 8.82626554,17.1525072 7.64726304,17.1525072 C7.43289895,17.1525072 7.21853485,17.1525072 7.03096627,17.1256928 C8.15637776,17.8496824 9.46935782,18.2518988 10.9163154,18.2518988 C15.5519389,18.2518988 18.0975125,14.4174354 18.0975125,11.0656317 L18.0975125,10.7438585 C18.5798317,10.3684565 19.0085599,9.93942564 19.3569016,9.42995147 L19.3569016,9.42995147 Z\" fill=\"#000000\" id=\"Twitter\"></path><rect height=\"25.7944091\" id=\"Rectangle-3\" width=\"25.8280394\" x=\"0\" y=\"0\"></rect></g></g></g></svg></i><span class=\"sr-only\">a Twitter</span></a></li><li><a href=\"https://vimeo.com/user39497209\" target=\"_blank\" title=\"Vimeo\"><i class=\"ico-square\"><svg class=\"svg-social\" height=\"26px\" version=\"1.1\" viewbox=\"0 0 26 26\" width=\"26px\" xmlns=\"http://www.w3.org/2000/svg\" xmlns:xlink=\"http://www.w3.org/1999/xlink\"><title>YouTube</title><g fill=\"none\" fill-rule=\"evenodd\" id=\"Page-1\" stroke=\"none\" stroke-width=\"1\"><g id=\"Artboard\"><g id=\"picto-Facebook-Copy\"><path d=\"M13.559322,7.78645833 C6.62974915,7.78645833 6.50847458,8.37822917 6.50847458,13 C6.50847458,17.6217708 6.62974915,18.2135417 13.559322,18.2135417 C20.4888949,18.2135417 20.6101695,17.6217708 20.6101695,13 C20.6101695,8.37822917 20.4888949,7.78645833 13.559322,7.78645833 Z M15.8191186,13.2261458 L12.6532881,14.6453125 C12.3761898,14.7685417 12.1491525,14.6304167 12.1491525,14.3365625 L12.1491525,11.6634375 C12.1491525,11.3702604 12.3761898,11.2314583 12.6532881,11.3546875 L15.8191186,12.7738542 C16.0962169,12.8984375 16.0962169,13.1015625 15.8191186,13.2261458 Z\" fill=\"#000000\" fill-rule=\"nonzero\" id=\"Shape\"></path><rect height=\"25.7944091\" id=\"Rectangle-3-Copy\" width=\"25.8280394\" x=\"0\" y=\"0\"></rect></g></g></g></svg></i><span class=\"sr-only\">a Youtube</span></a></li><li><a href=\"https://www.instagram.com/elperiodic.ad\" target=\"_blank\" title=\"Instagram\"><i class=\"ico-square\"><svg class=\"svg-social\" height=\"26px\" version=\"1.1\" viewbox=\"0 0 26 26\" width=\"26px\" xmlns=\"http://www.w3.org/2000/svg\" xmlns:xlink=\"http://www.w3.org/1999/xlink\"><title>Instagram</title><g fill=\"none\" fill-rule=\"evenodd\" id=\"Page-1\" stroke=\"none\" stroke-width=\"1\"><g id=\"Artboard\"><g id=\"picto-Facebook-Copy-2\"><rect height=\"25.7944091\" id=\"Rectangle-3-Copy\" width=\"25.8280394\" x=\"0\" y=\"0\"></rect><g fill=\"#000000\" fill-rule=\"nonzero\" id=\"instagram-simple-icon\" transform=\"translate(5.033898, 5.000000)\"><path d=\"M8,1.44352381 C10.1354286,1.44352381 10.3883492,1.45168254 11.231746,1.49015873 C12.0114921,1.52574603 12.4349206,1.656 12.7167619,1.76552381 C13.0641299,1.89373079 13.3783486,2.09815849 13.6363175,2.36377778 C13.9019368,2.62174661 14.1063644,2.93596538 14.2345714,3.28333333 C14.3440952,3.56514286 14.474381,3.98860317 14.5099365,4.76834921 C14.5484127,5.61168254 14.5565714,5.86460317 14.5565714,8.00009524 C14.5565714,10.1355873 14.5484127,10.3884444 14.5099365,11.2318413 C14.4743492,12.0115873 14.3440635,12.4350159 14.2345714,12.7168571 C13.96552,13.4143308 13.4142355,13.9656153 12.7167619,14.2346667 C12.4349524,14.3441905 12.0114921,14.4744762 11.231746,14.5100317 C10.3885714,14.5485079 10.1356508,14.5566667 8,14.5566667 C5.86434921,14.5566667 5.61152381,14.5485079 4.76825397,14.5100317 C3.98850794,14.4744444 3.56507937,14.3441587 3.2832381,14.2346667 C2.93586965,14.1064607 2.62165069,13.9020328 2.36368254,13.6364127 C2.09806409,13.3784432 1.89363652,13.0642246 1.76542857,12.7168571 C1.65590476,12.4350476 1.52561905,12.0115873 1.49006349,11.2318413 C1.4515873,10.3885397 1.44342857,10.1355873 1.44342857,8.00009524 C1.44342857,5.86460317 1.4515873,5.61174603 1.49006349,4.76834921 C1.52565079,3.98860317 1.65590476,3.5651746 1.76542857,3.28333333 C1.89364986,2.93594807 2.09809982,2.62171757 2.36374603,2.36374603 C2.62171556,2.09812758 2.93593412,1.89370001 3.28330159,1.76549206 C3.56511111,1.65596825 3.98857143,1.52568254 4.76831746,1.49012698 C5.61165079,1.45165079 5.86457143,1.44349206 8.00006349,1.44349206 L8,1.44352381 Z M8.00006349,0.00250793651 C5.82806349,0.00250793651 5.55561905,0.0117142857 4.70273016,0.0506349206 C3.85146032,0.0894920635 3.27012698,0.224666667 2.76142857,0.422380952 C2.22779678,0.623194642 1.74439115,0.937993331 1.34492063,1.3448254 C0.937996885,1.74427087 0.623110296,2.22767839 0.422222222,2.76133333 C0.224666667,3.27006349 0.0894920635,3.85139683 0.0507936508,4.70266667 C0.0117142857,5.55555556 0.00250793651,5.828 0.00250793651,8 C0.00250793651,10.172 0.0117142857,10.4444444 0.0507936508,11.2973333 C0.0896507937,12.1486032 0.224825397,12.7299365 0.422539683,13.2386349 C0.623354287,13.7722662 0.938152855,14.2556717 1.34498413,14.6551429 C1.74445334,15.0619765 2.22785935,15.3767754 2.76149206,15.5775873 C3.27022222,15.7753016 3.85155556,15.9104762 4.70279365,15.9493333 C5.55580952,15.988254 5.82815873,15.9974603 8.00012698,15.9974603 C10.1720952,15.9974603 10.4445714,15.988254 11.2974603,15.9493333 C12.1487302,15.9104762 12.7300635,15.7753016 13.2387619,15.5775873 C14.3130077,15.1621101 15.1622371,14.3128807 15.5777143,13.2386349 C15.7754286,12.7299048 15.9106032,12.1485714 15.9494603,11.2973333 C15.988381,10.4443175 15.9975873,10.1719683 15.9975873,8 C15.9975873,5.82803175 15.988381,5.55555556 15.9494603,4.70266667 C15.9106032,3.85139683 15.7754286,3.27006349 15.5777143,2.76136508 C15.3769024,2.22773237 15.0621035,1.74432636 14.6552698,1.34485714 C14.2557912,0.937943967 13.7723504,0.623078524 13.2386667,0.422222222 C12.7299365,0.224666667 12.1486032,0.0894920635 11.2973333,0.0507936508 C10.4444444,0.0117142857 10.172,0.00250793651 8,0.00250793651 L8,0.00250793651 L8.00006349,0.00250793651 Z\" id=\"Shape\"></path><path d=\"M8,3.8931746 C5.73186296,3.8931746 3.8931746,5.73186296 3.8931746,8 C3.8931746,10.268137 5.73186296,12.1068254 8,12.1068254 C10.268137,12.1068254 12.1068254,10.268137 12.1068254,8 C12.1068254,5.73186296 10.268137,3.8931746 8,3.8931746 Z M8,10.6658095 C6.52771819,10.665792 5.33421053,9.47226065 5.33422222,7.99997884 C5.33423391,6.52769702 6.52776051,5.33418463 8.00004233,5.33419048 C9.47232414,5.33419632 10.6658413,6.52771819 10.6658413,8 C10.6658237,9.47229108 9.47229108,10.6658095 8,10.6658095 Z\" id=\"Shape\"></path><circle cx=\"12.2690794\" cy=\"3.73092063\" id=\"Oval\" r=\"1\"></circle></g></g></g></g></svg></i><span class=\"sr-only\">a Instagram</span></a></li><li><a href=\"rss\" title=\"RSS\"><i class=\"ico-square\"><svg class=\"svg-social\" height=\"26px\" version=\"1.1\" viewbox=\"0 0 26 26\" width=\"26px\" xmlns=\"http://www.w3.org/2000/svg\" xmlns:xlink=\"http://www.w3.org/1999/xlink\"><title>RSS</title><g fill=\"none\" fill-rule=\"evenodd\" id=\"Page-1\" stroke=\"none\" stroke-width=\"1\"><g id=\"Artboard\"><g id=\"picto-Facebook-Copy-2\"><g fill=\"#000000\" fill-rule=\"nonzero\" id=\"rss\" transform=\"translate(6.423729, 6.416667)\"><path d=\"M0.000855263158,-8.8817842e-15 L0.000855263158,2.02440789 C6.06125,2.02440789 10.9738816,6.93875 10.9738816,12.9991447 L13,12.9991447 C13,5.82006579 7.17993421,-8.8817842e-15 0.000855263158,-8.8817842e-15 Z M0.000855263158,4.05138158 L0.000855263158,6.0775 C3.82302632,6.0775 6.9225,9.17611842 6.9225,13 L8.94776316,13 C8.94776316,8.05828947 4.94171053,4.05138158 0.000855263158,4.05138158 Z M1.94144737,9.11625 C0.868947368,9.11625 3.41060513e-13,9.98690789 3.41060513e-13,11.0585526 C3.41060513e-13,12.1301974 0.868947368,13 1.94144737,13 C3.01394737,13 3.88203947,12.1310526 3.88203947,11.0585526 C3.88203947,9.98605263 3.01394737,9.11625 1.94144737,9.11625 Z\" id=\"Shape\"></path></g><rect height=\"25.7944091\" id=\"Rectangle-3-Copy\" width=\"25.8280394\" x=\"0\" y=\"0\"></rect></g></g></g></svg></i><span class=\"sr-only\">fa-rss</span></a></li></ul></div></div><a class=\"btn btn__modal boto-tancar-modal\" title=\"Tancar\"><span class=\"btn__modal_text\">tanca</span><span class=\"ico ico-tancar\"><span class=\"barra\"></span></span></a></div></div><div class=\"modal-bg fade\" id=\"modal-cerca\"><div class=\"modal-cerca container\"><a class=\"btn btn__modal boto-tancar-modal\" title=\"Tancar\"><span class=\"btn__modal_text\">tanca</span><span class=\"ico ico-tancar\"><span class=\"barra\"></span></span></a><h2 class=\"titol-seccio\">Cercador</h2><div class=\"agrupar-horitzontal\"><form action=\"cerca\" class=\"agrupar-horitzontal\" id=\"searchform\" method=\"get\"><input class=\"input-big\" name=\"que\" placeholder=\"Cerca...\" type=\"text\"><input class=\"btn input-big\" type=\"submit\" value=\"Cerca\"/><span class=\"sr-only\">Cerca</span></input></form></div></div></div><script src=\"/js/main.js?id=23\" type=\"text/javascript\"></script><script async=\"\" src=\"https://cdn.printfriendly.com/printfriendly.js\" type=\"text/javascript\"></script><!-- --><script>\n",
       "(function (i, s, o, g, r, a, m) {\n",
       "    i['GoogleAnalyticsObject'] = r;\n",
       "    i[r] = i[r] || function () {\n",
       "        (i[r].q = i[r].q || []).push(arguments)\n",
       "    }, i[r].l = 1 * new Date();\n",
       "    a = s.createElement(o),\n",
       "            m = s.getElementsByTagName(o)[0];\n",
       "    a.async = 1;\n",
       "    a.src = g;\n",
       "    m.parentNode.insertBefore(a, m)\n",
       "})(window, document, 'script', '//www.google-analytics.com/analytics.js', 'ga');\n",
       "\n",
       "ga('create', 'UA-61642798-1', 'auto');\n",
       "ga('send', 'pageview');\n",
       "</script></body></html>"
      ],
      "text/plain": [
       "<IPython.core.display.HTML object>"
      ]
     },
     "execution_count": 92,
     "metadata": {},
     "output_type": "execute_result"
    }
   ],
   "source": [
    "HTML(str(soup))"
   ]
  },
  {
   "cell_type": "markdown",
   "metadata": {},
   "source": []
  }
 ],
 "metadata": {
  "kernelspec": {
   "display_name": "base",
   "language": "python",
   "name": "python3"
  },
  "language_info": {
   "codemirror_mode": {
    "name": "ipython",
    "version": 3
   },
   "file_extension": ".py",
   "mimetype": "text/x-python",
   "name": "python",
   "nbconvert_exporter": "python",
   "pygments_lexer": "ipython3",
   "version": "3.12.2"
  }
 },
 "nbformat": 4,
 "nbformat_minor": 2
}
