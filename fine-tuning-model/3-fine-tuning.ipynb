{
 "cells": [
  {
   "cell_type": "markdown",
   "metadata": {},
   "source": [
    "# NLP: Sentiment Analysis\n",
    "Choosing and training a model to perform sentiment analysis on catalan text."
   ]
  },
  {
   "cell_type": "code",
   "execution_count": 187,
   "metadata": {},
   "outputs": [],
   "source": [
    "import pandas as pd\n",
    "import numpy as np\n",
    "\n",
    "from datasets import Dataset, concatenate_datasets\n",
    "\n",
    "from sklearn.model_selection import train_test_split\n",
    "from sklearn.metrics import accuracy_score"
   ]
  },
  {
   "cell_type": "code",
   "execution_count": 188,
   "metadata": {},
   "outputs": [],
   "source": [
    "from transformers import BertTokenizer, BertForSequenceClassification, Trainer, TrainingArguments\n",
    "import torch"
   ]
  },
  {
   "cell_type": "markdown",
   "metadata": {},
   "source": [
    "## The data"
   ]
  },
  {
   "cell_type": "markdown",
   "metadata": {},
   "source": [
    "Check out `data-preprocessing.ipynb` for details about how this initial dataset was chosen, and how the subset dataset was labeled."
   ]
  },
  {
   "cell_type": "code",
   "execution_count": 189,
   "metadata": {},
   "outputs": [],
   "source": [
    "comments = pd.read_csv(\"comments.csv\")"
   ]
  },
  {
   "cell_type": "code",
   "execution_count": 190,
   "metadata": {},
   "outputs": [],
   "source": [
    "labeled = pd.read_csv(\"comments_subset_labeled.tsv\", sep=\"\\t\")"
   ]
  },
  {
   "cell_type": "markdown",
   "metadata": {},
   "source": [
    "### Defined the labeled dataset"
   ]
  },
  {
   "cell_type": "code",
   "execution_count": 191,
   "metadata": {},
   "outputs": [],
   "source": [
    "comments_labeled = comments.join(labeled.set_index('comment_id'), on='comment_id', rsuffix='labeled')"
   ]
  },
  {
   "cell_type": "code",
   "execution_count": 192,
   "metadata": {},
   "outputs": [],
   "source": [
    "comments_labeled = comments_labeled[~comments_labeled['label'].isnull()]"
   ]
  },
  {
   "cell_type": "code",
   "execution_count": 193,
   "metadata": {},
   "outputs": [],
   "source": [
    "labels = {'positive':       0,\n",
    "          'neutral':        1,\n",
    "          'negative':       2,\n",
    "          'very-negative':  3}"
   ]
  },
  {
   "cell_type": "code",
   "execution_count": 194,
   "metadata": {},
   "outputs": [],
   "source": [
    "comments_labeled['labels'] = comments_labeled['label'].apply(lambda text_label: labels[text_label])"
   ]
  },
  {
   "cell_type": "code",
   "execution_count": 195,
   "metadata": {},
   "outputs": [],
   "source": [
    "comments_labeled = comments_labeled[['input_text', 'labels']]"
   ]
  },
  {
   "cell_type": "code",
   "execution_count": 196,
   "metadata": {},
   "outputs": [
    {
     "data": {
      "text/html": [
       "<div>\n",
       "<style scoped>\n",
       "    .dataframe tbody tr th:only-of-type {\n",
       "        vertical-align: middle;\n",
       "    }\n",
       "\n",
       "    .dataframe tbody tr th {\n",
       "        vertical-align: top;\n",
       "    }\n",
       "\n",
       "    .dataframe thead th {\n",
       "        text-align: right;\n",
       "    }\n",
       "</style>\n",
       "<table border=\"1\" class=\"dataframe\">\n",
       "  <thead>\n",
       "    <tr style=\"text-align: right;\">\n",
       "      <th></th>\n",
       "      <th>input_text</th>\n",
       "      <th>labels</th>\n",
       "    </tr>\n",
       "  </thead>\n",
       "  <tbody>\n",
       "    <tr>\n",
       "      <th>5</th>\n",
       "      <td>[ARTICLE TITLE] Pas endavant del conveni del C...</td>\n",
       "      <td>2</td>\n",
       "    </tr>\n",
       "    <tr>\n",
       "      <th>9</th>\n",
       "      <td>[ARTICLE TITLE] Espot confia en el suport d’Es...</td>\n",
       "      <td>3</td>\n",
       "    </tr>\n",
       "    <tr>\n",
       "      <th>15</th>\n",
       "      <td>[ARTICLE TITLE] Més de 174.000 euros per a un ...</td>\n",
       "      <td>3</td>\n",
       "    </tr>\n",
       "    <tr>\n",
       "      <th>22</th>\n",
       "      <td>[ARTICLE TITLE] Més de 174.000 euros per a un ...</td>\n",
       "      <td>2</td>\n",
       "    </tr>\n",
       "    <tr>\n",
       "      <th>25</th>\n",
       "      <td>[ARTICLE TITLE] Més de 174.000 euros per a un ...</td>\n",
       "      <td>2</td>\n",
       "    </tr>\n",
       "  </tbody>\n",
       "</table>\n",
       "</div>"
      ],
      "text/plain": [
       "                                           input_text  labels\n",
       "5   [ARTICLE TITLE] Pas endavant del conveni del C...       2\n",
       "9   [ARTICLE TITLE] Espot confia en el suport d’Es...       3\n",
       "15  [ARTICLE TITLE] Més de 174.000 euros per a un ...       3\n",
       "22  [ARTICLE TITLE] Més de 174.000 euros per a un ...       2\n",
       "25  [ARTICLE TITLE] Més de 174.000 euros per a un ...       2"
      ]
     },
     "execution_count": 196,
     "metadata": {},
     "output_type": "execute_result"
    }
   ],
   "source": [
    "comments_labeled.head()"
   ]
  },
  {
   "cell_type": "code",
   "execution_count": 197,
   "metadata": {},
   "outputs": [
    {
     "data": {
      "text/plain": [
       "labels\n",
       "2    114\n",
       "1     59\n",
       "3     53\n",
       "0     24\n",
       "Name: count, dtype: int64"
      ]
     },
     "execution_count": 197,
     "metadata": {},
     "output_type": "execute_result"
    }
   ],
   "source": [
    "comments_labeled['labels'].value_counts()"
   ]
  },
  {
   "cell_type": "code",
   "execution_count": 198,
   "metadata": {},
   "outputs": [],
   "source": [
    "num_custom_labels = 4"
   ]
  },
  {
   "cell_type": "markdown",
   "metadata": {},
   "source": [
    "### Define the unlabeled dataset"
   ]
  },
  {
   "cell_type": "code",
   "execution_count": 199,
   "metadata": {},
   "outputs": [],
   "source": [
    "comments['labels'] = np.nan"
   ]
  },
  {
   "cell_type": "code",
   "execution_count": 200,
   "metadata": {},
   "outputs": [
    {
     "data": {
      "text/plain": [
       "2413"
      ]
     },
     "execution_count": 200,
     "metadata": {},
     "output_type": "execute_result"
    }
   ],
   "source": [
    "len(comments)"
   ]
  },
  {
   "cell_type": "code",
   "execution_count": 201,
   "metadata": {},
   "outputs": [],
   "source": [
    "comments_unlabeled = comments[~comments['comment_id'].isin(labeled['comment_id'])][['input_text']]"
   ]
  },
  {
   "cell_type": "code",
   "execution_count": 202,
   "metadata": {},
   "outputs": [
    {
     "data": {
      "text/plain": [
       "2163"
      ]
     },
     "execution_count": 202,
     "metadata": {},
     "output_type": "execute_result"
    }
   ],
   "source": [
    "len(comments_unlabeled)"
   ]
  },
  {
   "cell_type": "code",
   "execution_count": 203,
   "metadata": {},
   "outputs": [
    {
     "data": {
      "text/html": [
       "<div>\n",
       "<style scoped>\n",
       "    .dataframe tbody tr th:only-of-type {\n",
       "        vertical-align: middle;\n",
       "    }\n",
       "\n",
       "    .dataframe tbody tr th {\n",
       "        vertical-align: top;\n",
       "    }\n",
       "\n",
       "    .dataframe thead th {\n",
       "        text-align: right;\n",
       "    }\n",
       "</style>\n",
       "<table border=\"1\" class=\"dataframe\">\n",
       "  <thead>\n",
       "    <tr style=\"text-align: right;\">\n",
       "      <th></th>\n",
       "      <th>input_text</th>\n",
       "    </tr>\n",
       "  </thead>\n",
       "  <tbody>\n",
       "    <tr>\n",
       "      <th>0</th>\n",
       "      <td>[ARTICLE TITLE] SDP advoca per un espai transv...</td>\n",
       "    </tr>\n",
       "    <tr>\n",
       "      <th>1</th>\n",
       "      <td>[ARTICLE TITLE] SDP advoca per un espai transv...</td>\n",
       "    </tr>\n",
       "    <tr>\n",
       "      <th>2</th>\n",
       "      <td>[ARTICLE TITLE] Acord en cercar “consens” i “c...</td>\n",
       "    </tr>\n",
       "    <tr>\n",
       "      <th>3</th>\n",
       "      <td>[ARTICLE TITLE] Acord en cercar “consens” i “c...</td>\n",
       "    </tr>\n",
       "    <tr>\n",
       "      <th>4</th>\n",
       "      <td>[ARTICLE TITLE] Acord en cercar “consens” i “c...</td>\n",
       "    </tr>\n",
       "  </tbody>\n",
       "</table>\n",
       "</div>"
      ],
      "text/plain": [
       "                                          input_text\n",
       "0  [ARTICLE TITLE] SDP advoca per un espai transv...\n",
       "1  [ARTICLE TITLE] SDP advoca per un espai transv...\n",
       "2  [ARTICLE TITLE] Acord en cercar “consens” i “c...\n",
       "3  [ARTICLE TITLE] Acord en cercar “consens” i “c...\n",
       "4  [ARTICLE TITLE] Acord en cercar “consens” i “c..."
      ]
     },
     "execution_count": 203,
     "metadata": {},
     "output_type": "execute_result"
    }
   ],
   "source": [
    "comments_unlabeled.head()"
   ]
  },
  {
   "cell_type": "markdown",
   "metadata": {},
   "source": [
    "## Prepare the dataset for the model"
   ]
  },
  {
   "cell_type": "markdown",
   "metadata": {},
   "source": [
    "### Splitting into training and testing"
   ]
  },
  {
   "cell_type": "code",
   "execution_count": 204,
   "metadata": {},
   "outputs": [],
   "source": [
    "train, val = train_test_split(\n",
    "    comments_labeled,\n",
    "    test_size=0.2,\n",
    "    random_state=42,\n",
    "    stratify=comments_labeled['labels']  # Ensures proportional class distribution\n",
    ")"
   ]
  },
  {
   "cell_type": "code",
   "execution_count": 205,
   "metadata": {},
   "outputs": [
    {
     "name": "stdout",
     "output_type": "stream",
     "text": [
      "Length of training dataset: 200\n",
      "Length of validation dataset: 50\n",
      "Total length of dataset: 250\n"
     ]
    }
   ],
   "source": [
    "print(f\"Length of training dataset: {len(train)}\\nLength of validation dataset: {len(val)}\")\n",
    "print(f\"Total length of dataset: {len(train) + len(val)}\")"
   ]
  },
  {
   "cell_type": "markdown",
   "metadata": {},
   "source": [
    "## Fine-tuning"
   ]
  },
  {
   "cell_type": "markdown",
   "metadata": {},
   "source": [
    "We'll get the Bert model and Tokenizer from the transformers package."
   ]
  },
  {
   "cell_type": "code",
   "execution_count": 206,
   "metadata": {},
   "outputs": [
    {
     "name": "stderr",
     "output_type": "stream",
     "text": [
      "/opt/homebrew/anaconda3/envs/andorra-sentiment-analyst/lib/python3.12/site-packages/transformers/tokenization_utils_base.py:1601: FutureWarning: `clean_up_tokenization_spaces` was not set. It will be set to `True` by default. This behavior will be depracted in transformers v4.45, and will be then set to `False` by default. For more details check this issue: https://github.com/huggingface/transformers/issues/31884\n",
      "  warnings.warn(\n",
      "Some weights of BertForSequenceClassification were not initialized from the model checkpoint at bert-base-multilingual-cased and are newly initialized: ['classifier.bias', 'classifier.weight']\n",
      "You should probably TRAIN this model on a down-stream task to be able to use it for predictions and inference.\n"
     ]
    }
   ],
   "source": [
    "mbert = 'bert-base-multilingual-cased'\n",
    "tokenizer = BertTokenizer.from_pretrained(mbert)\n",
    "model = BertForSequenceClassification.from_pretrained(mbert, num_labels=num_custom_labels)"
   ]
  },
  {
   "cell_type": "markdown",
   "metadata": {},
   "source": [
    "### Defining the datasets in the correct HuggingFace format"
   ]
  },
  {
   "cell_type": "code",
   "execution_count": 207,
   "metadata": {},
   "outputs": [],
   "source": [
    "train_dataset = Dataset.from_pandas(train)\n",
    "val_dataset = Dataset.from_pandas(val)"
   ]
  },
  {
   "cell_type": "markdown",
   "metadata": {},
   "source": [
    "### Tokenize the text"
   ]
  },
  {
   "cell_type": "code",
   "execution_count": 208,
   "metadata": {},
   "outputs": [],
   "source": [
    "def tokenize(record):\n",
    "    return tokenizer(record['input_text'], padding='max_length', truncation=True, max_length=128)"
   ]
  },
  {
   "cell_type": "code",
   "execution_count": 209,
   "metadata": {},
   "outputs": [
    {
     "data": {
      "text/plain": [
       "Dataset({\n",
       "    features: ['input_text', 'labels', '__index_level_0__'],\n",
       "    num_rows: 200\n",
       "})"
      ]
     },
     "execution_count": 209,
     "metadata": {},
     "output_type": "execute_result"
    }
   ],
   "source": [
    "train_dataset"
   ]
  },
  {
   "cell_type": "code",
   "execution_count": 210,
   "metadata": {},
   "outputs": [
    {
     "name": "stderr",
     "output_type": "stream",
     "text": [
      "Map: 100%|██████████| 200/200 [00:00<00:00, 4165.11 examples/s]\n",
      "Map: 100%|██████████| 50/50 [00:00<00:00, 3414.78 examples/s]\n"
     ]
    }
   ],
   "source": [
    "train_dataset = train_dataset.map(tokenize, batched=True)\n",
    "val_dataset = val_dataset.map(tokenize, batched=True)"
   ]
  },
  {
   "cell_type": "markdown",
   "metadata": {},
   "source": [
    "### Rename the columns"
   ]
  },
  {
   "cell_type": "markdown",
   "metadata": {},
   "source": [
    "### Set format for PyTorch"
   ]
  },
  {
   "cell_type": "code",
   "execution_count": 211,
   "metadata": {},
   "outputs": [],
   "source": [
    "train_dataset.set_format('torch', columns=['input_ids', 'attention_mask', 'labels'])\n",
    "val_dataset.set_format('torch', columns=['input_ids', 'attention_mask', 'labels'])"
   ]
  },
  {
   "cell_type": "code",
   "execution_count": 212,
   "metadata": {},
   "outputs": [
    {
     "data": {
      "text/plain": [
       "Dataset({\n",
       "    features: ['input_text', 'labels', '__index_level_0__', 'input_ids', 'token_type_ids', 'attention_mask'],\n",
       "    num_rows: 200\n",
       "})"
      ]
     },
     "execution_count": 212,
     "metadata": {},
     "output_type": "execute_result"
    }
   ],
   "source": [
    "train_dataset"
   ]
  },
  {
   "cell_type": "markdown",
   "metadata": {},
   "source": [
    "### Define training arguments"
   ]
  },
  {
   "cell_type": "code",
   "execution_count": 213,
   "metadata": {},
   "outputs": [
    {
     "name": "stderr",
     "output_type": "stream",
     "text": [
      "/opt/homebrew/anaconda3/envs/andorra-sentiment-analyst/lib/python3.12/site-packages/transformers/training_args.py:1525: FutureWarning: `evaluation_strategy` is deprecated and will be removed in version 4.46 of 🤗 Transformers. Use `eval_strategy` instead\n",
      "  warnings.warn(\n"
     ]
    }
   ],
   "source": [
    "training_args = TrainingArguments(\n",
    "    output_dir='./results',\n",
    "    num_train_epochs=5,\n",
    "    per_device_train_batch_size=16,\n",
    "    per_device_eval_batch_size=64,\n",
    "    warmup_steps=50,\n",
    "    weight_decay=0.01,\n",
    "    logging_dir='./logs',\n",
    "    logging_steps=10,\n",
    "    evaluation_strategy=\"epoch\",\n",
    "    save_strategy=\"epoch\",\n",
    "    load_best_model_at_end=True,\n",
    "    metric_for_best_model=\"accuracy\",\n",
    "    save_total_limit=2,  # Limit the total amount of checkpoints\n",
    "    seed=42\n",
    ")"
   ]
  },
  {
   "cell_type": "markdown",
   "metadata": {},
   "source": [
    "### Define metrics"
   ]
  },
  {
   "cell_type": "code",
   "execution_count": 214,
   "metadata": {},
   "outputs": [],
   "source": [
    "def compute_metrics(p):\n",
    "    preds = np.argmax(p.predictions, axis=1)\n",
    "    return {\"accuracy\": accuracy_score(p.label_ids, preds)}"
   ]
  },
  {
   "cell_type": "markdown",
   "metadata": {},
   "source": [
    "### Initialize the trainer"
   ]
  },
  {
   "cell_type": "code",
   "execution_count": 215,
   "metadata": {},
   "outputs": [],
   "source": [
    "trainer = Trainer(\n",
    "    model=model,\n",
    "    args=training_args,\n",
    "    train_dataset=train_dataset,\n",
    "    eval_dataset=val_dataset,\n",
    "    compute_metrics=compute_metrics\n",
    ")"
   ]
  },
  {
   "cell_type": "code",
   "execution_count": 216,
   "metadata": {},
   "outputs": [
    {
     "name": "stdout",
     "output_type": "stream",
     "text": [
      "[\"[ARTICLE TITLE] El fons de reserva de jubilació guanya 8,4 milions a l'agost Hauríem de treure els fons de pensions dels mercats financers, els fons de pensions dels Estats Units, Europa i Àsia, estan profundament involucrats en pràcticament totes les formes de capitalisme financer depredador que afecten el planeta.\", '[ARTICLE TITLE] Cultura destina 46.000 euros a la campanya per difondre la llei del català La llei del català? Si per votar si o no al referèndum el que cal saber és anglès!', '[ARTICLE TITLE] L’Elisi assegura que l’acord d’associació “no comportarà un tsunami d’immigració” Andorra amb les seves particularitats ha arribat on és per la seva personalitat , propia i única, sols sense ningú, no deixem de perdre la nostra identitat, fem acords de col.laboració, portem les coses al nostre terreny, no ens venguem a Europa,haurem de fer els que ens impossin i manem nosaltres, reflexioneu!!!!', '[ARTICLE TITLE] El català fa tombar els concursos per trobar sotsoficial i caporals de circulació a Andorra la Vella Estaria be mirar els concursos de les altres parròquies', \"[ARTICLE TITLE] La propietat de la Borda Mateu trenca les negociacions amb l'FC Andorra per l'estadi Oooo quina sorpresa… una mentida darrere una altra… això no té fi… però seguiu-los donant bola\", '[ARTICLE TITLE] Prostitució en un pis al centre d’Encamp El Funi no és el centre', \"[ARTICLE TITLE] La candidatura d'Espot Miró per presidir el COA serà paritaria Patèticcccccccc . \", \"[ARTICLE TITLE] Cultura destina 46.000 euros a la campanya per difondre la llei del català Una llei del Català que serà eclipsada per l'onada d'anglicismes que utilitza el Govern en esdeveniments esportius, culturals, musicals i comercials.\", '[ARTICLE TITLE] El centre de salut mental es mantindrà tot i el rebuig En el fons el que fa el ministeri i el SAAS es no tenir en compte els malalts de salut mental. Si ho tingués en compte els hi donaria privacitat i no els posaria envoltats de veïns….', '[ARTICLE TITLE] La Coordinadora de l’Habitatge calcula que el 2023 hi va haver 950 casos reals de trampes i abusos Tenim en compte que hi han uns 30000 pisos de lloguer i que tenim suposadament 50 casos d’abus i la major part dels pisos estan a preu mes que asequible de que estem parlant? Facil de un 0,1% ja en hi ha prou! Per cert la major part dels pisos estan per sota dels 8 euros i govern es mes economic a preu assequible als 9 fins a 12 euros, DEMAGOGIA PURA.', '[ARTICLE TITLE] Les ajudes ocasionals es mengen la resta de subvencions d’Afers Socials Pues és molt fàcil, si hi ha diners per a l’obra pública, sous dels funcionaris, càrrecs de tot tipus, els 8 Comús i la legió de refugiats de guerra i desplaçats diversos, té que haver per pagar els gastos d’Afers Socials.', '[ARTICLE TITLE] L’Elisi assegura que l’acord d’associació “no comportarà un tsunami d’immigració” Amb la deriva que porta la UE de descontrol migratori, de càrrega fiscal insuportable per a mantenir pensions a tantíssims que no aporten res... etc. No és cap atractiu. És evident. Preservem les nostres fronteres.', \"[ARTICLE TITLE] Neollengua igualitària: una guia exprés Un article que potser hauria d'anar a la secció d'opinió. Sembla que el misògin del periodista no té clar ni els gèneres de la seva professió.\", \"[ARTICLE TITLE] Neix la plataforma Pirineu Viu per denunciar del “monocultiu turístic” Envejosos i gelosos, si per ells fos viuriem de les patates i hauriem de tornar als pobles d'origen. La majoria viuen del cuento i no entenenen lo que costa ortar el pa a casa\", \"[ARTICLE TITLE] Molné aposta per més cooperació internacional a la conferència iberoamericana Ja som Hispano andorrans portuguesos, llatins i caribenys, tenim més tracte amb el tercer món que amb els països desenvolupats del nord d'Europa.\", \"[ARTICLE TITLE] Pirineu Viu anuncia mobilitzacions contra el turisme que afectaran Andorra D'on surten aquests? \", '[ARTICLE TITLE] L’Elisi avala que les pensions dels no residents s’actualitzin amb l’IPC europeu harmonitzat Y el Govern haciéndose el Andorrano', \"[ARTICLE TITLE] La policia investiga altres pisos on hi ha prostitució Això ho es talla d'arrel o d'aquí un temps serà impossible d'eradicar. Mà dura contra els proxenetes, aquests i els d'onlyfans.\", \"[ARTICLE TITLE] Montaner critica Govern, Concòrdia i el PS per voler legislar sense dades d’habitatge Segurament ella en té moltes dades que justifiquen el fer l'esmeta a la totalitat. O potser no en te cap dada i el que fa és obstrucció\", \"[ARTICLE TITLE] La propietat de la Borda Mateu trenca les negociacions amb l'FC Andorra per l'estadi Debem ser l'únic lloc al mon que no recolza el seu equip no els seus esportistes. Així ens va\", \"[ARTICLE TITLE] Un dels ‘arquitectes de moda’ del país representarà els comuns a l’Institut Nacional de l’Habitatge Quin desastre deu meu...ho dic sobre tot per St. Vinceç d'Enclar...\", '[ARTICLE TITLE] Concòrdia vol limitar els permisos d’accés al país que atorga el Govern Molte bé Concòrdia! Clar i català: toca limitar el creixement de població insuportable pel nostre país.', \"[ARTICLE TITLE] El propietari del gos respon durament al Parc de l'Alt Pirineu Que els osos tornin al Pirineu d'on van ser injustament exterminats no hauria de molestar ningú. Es tracta d'un accident però crec que tot plegar és, ha de ser, COMPATIBLE. El Pirineu és la casa d'ossos, isatrds, cèrvols, cabirols, senglars, marmotes i ..humans. Que ningú no s'emprenyi amb mi si us plau.\", '[ARTICLE TITLE] El centre de salut mental es mantindrà tot i el rebuig Con un par! Fotrem el localet on vulgem i ens en fotem dels propietaris dels habitatges.', \"[ARTICLE TITLE] El mes d'agost ha tancat amb un 86,22% d'ocupació hotelera Aixo es mentira, ho sabem els que twnim negocis vinculats al turisme\", '[ARTICLE TITLE] Govern s’obre a ser més garant a la llei òmnibus per assolir més suports Expropiese!!! ', \"[ARTICLE TITLE] La problemàtica de l’habitatge fa caure les sol·licituds d’ajuts per a l’emancipació dels joves No se'n demanen perquè no sou efectius. Apart que algun pis ja tenia nom i cognoms. 11 solicitud... no se si plorar o riure.\", '[ARTICLE TITLE] Prostitució en un pis al centre d’Encamp Drogues, putes i rock and roll.', '[ARTICLE TITLE] La CASS tanca el primer semestre amb un dèficit sanitari de 15,7 milions d’euros Tal qual.', \"[ARTICLE TITLE] Afers socials reconeix la discapacitat d'11 persones durant el primer trimestre Per cert, la foto no correspon a l’actualitat. Aquests ministeris com a tals no exiteixen, i la foto tampoc. Es antic tot plegat………4-5 anys enrerra????\", '[ARTICLE TITLE] L’allau d’inscripcions desborda les previsions per als cursos de català El que és una vergonya que s’exigeixi només un nivell A1 per renovar la residència. Un nivell A1 és saber dir ‘Hola’, ‘Adéu’, els colors i poca cosa més. Caldria exigir, com a mínim, un nivell C1 de català per obtenir el permís de residència. A Andorra hi sobra gent i amb el nivell C1 es podria descongestionar el país  “animant” a molta immigració de “baixa qualitat” o baix o nul valor afegit a cercar d’altres llocs on anar, assegurant-se de que els que es queden són els millors i que estan realment compromesos amb la cultura i la llengua del país. ', '[ARTICLE TITLE] Ensenyat demana un debat més \"racional\" per l\\'acord d\\'associació Quin taladro amb el tema del acord....', \"[ARTICLE TITLE] Afers Socials atorga 1.330 noves prestacions el primer trimestre del 2024 Amb mentalitats com la teva anem apanyats, no és tot per la gent de fora sinó per la gent d'aquí (molta gent que cobra pensions miserables de 400€) que no poden ni pagar un lloguer (ja no et parlo del menjar). No tots són tan afortunats com els youtubers o influencers o els funcionaris.\", \"[ARTICLE TITLE] Prostitució en un pis al centre d’Encamp Que sou d'inocens¡¡ a Andorra de tota la vida hi hagut putetes¡¡¡ d'amagat pero putetes,amb tot el meu respecte,, perque son persones com nosaltres.\", '[ARTICLE TITLE] Cada cop més agències Si la Recerca i la Innovació a Andorra consisteixen en anar creant agències, anem arreglats.', \"[ARTICLE TITLE] Bombers mobilitza l'helicòpter en un rescat nocturn en territori català Ara se'ls hauria de recordar als pagesos de Alt Urgell que van tallar la frontera d'Andorra deixant incomunicat tot el pais, els hagués pogut passar a ells, Andorra sempre ha estat un pais solidari\", '[ARTICLE TITLE] Els mestres reclamen millores laborals per dignificar la professió Jo també vull dignificar la meva professió  pujeu-me el sou !!!', '[ARTICLE TITLE] Una setmana de l’isard amb rècord de participants Es un pais on manen els cognoms i no importen les opinions si no coincideixen amb els dels cognoms.', \"[ARTICLE TITLE] Els primers avenços sobre la despenalització de l'avortament es tindran el 2025 Curiosa espècie la humana, capaç d'exterminar la vida d'un bebè en nom dels seus drets elementals, amb la complicitat de polítics, metges i jutges.\", '[ARTICLE TITLE] El centre de salut mental es mantindrà tot i el rebuig Sra ministra i resta de ministres (perque actuen de manera col.legiada). Assumiran responsabilitats personals si les \"idees preconcebudes\" es converteixen en fets tipificats penalment i danys físics cap a un sol usuari de l\\'edifici, sigui resident, visitant o pacient? Gràcies.', \"[ARTICLE TITLE] El síndic demana “accions concretes i resultats tangibles” per afrontar la crisi de l’habitatge No m'importa si han gestionat malament i han perdut part de la seva fortuna. Segueix tenint molt més que la majoria dels andorrans junts i hauria de ser dels primers a fer esforços i mostrar aquestes accions concretes que ell demana. No tenen cap excusa, cap ni una.\", '[ARTICLE TITLE] Els pisos de lloguer del Pas s’adjudicaran sense moblar durant la primera quinzena del mes vinent Aquí la cuestión es quejarse por todo. Ponen soluciones pero todos quieren vivir por dos duros en el centro. Si no os gusta este sitio os largáis. En otro país no de coña el gobierno intenta hacer lo que puede con las herramientas que tiene para dar una solución. Los que os quejáis no estáis desesperados. Se nota', '[ARTICLE TITLE] El centre de salut mental es mantindrà tot i el rebuig Anar fent amic, cada dia creix mes al cercle d’amistats de DA', \"[ARTICLE TITLE] Immobiliaris i constructors alerten que la llei òmnibus de l'habitatge els aboca a la crisi Pobres 😞, estic a punt de plorar 🥹….. \", '[ARTICLE TITLE] Espot defensa a l’ONU que “res no justifica l’atac a civils” Això del atac a civils inclou lo que heu fet a la Vanessa?', \"[ARTICLE TITLE] Pirineu Viu anuncia mobilitzacions contra el turisme que afectaran Andorra Qui vulgui aeroport, que se'l posi a casa seva i el mantingui ell\", '[ARTICLE TITLE] L’Elisi assegura que l’acord d’associació “no comportarà un tsunami d’immigració” On estan aquestes garanties? Jo no les vec enlloc sl texte. L’UE, institució del que no es pot fiar, sino mireu lo que esta passant a Hongria ara mateix.', '[ARTICLE TITLE] Pirineu Viu culpa Andorra de tots els mals de l’Alt Urgell El victimisme de sempre... tants mesos sense que Catalunya tingui govern i ara foteu el Salvador Illa... Aneu a queixar vos al parlament i no foteu pena... i dir que Andorra es l unica causant... psicologicament no esteu molt bé', '[ARTICLE TITLE] L’amo del gos acusa el Parc de l’Alt Pirineu de l’atac de l’os Éste espécimen es de los que lleva el perro suelto porque \"estoy en la naturaleza\"', '[ARTICLE TITLE] Espot reconeix “incògnites” amb la UE El problema d’Andorra no és l’acord d’associació.', '[ARTICLE TITLE] L’IPC baixa a l’agost tot i que el preu de l’habitatge creix més que cachondos són els de DA ....', '[ARTICLE TITLE] Espot avisa que la intervenció dels pisos no té marxa enrere Ben fet!.', '[ARTICLE TITLE] Campanya d’Stop Violències per denunciar la situació de l’avortament a Andorra Que paguin elles si volen avortar, no pagarem els demés, sinó menys cardar sense control.', '[ARTICLE TITLE] Un nou índex situa Andorra com el país més segur del món Un honor estar amb les dictadures arabs', \"[ARTICLE TITLE] La candidatura d'Espot Miró per presidir el COA serà paritaria ENHORABONAR ! Entrega de llur   temps , persoes que portarán  ,  amb DIGNITAT i PRESTIGIE el nom d'ANDORRA!🇷🇴\", '[ARTICLE TITLE] Espot seguirà “passi el que passi” amb l’acord d’associació amb la UE Espero que surti el SI per nosaltres els joves, no podem estar tota la vida desconectats del món exterior.', \"[ARTICLE TITLE] Immobiliaris i constructors alerten que la llei òmnibus de l'habitatge els aboca a la crisi Realment llegint els comentaris veig que la majoria no entén res o bé els hi han rentat el cervell. L inversió estrangera ha portat en la seva majoria gent que crea societat, genera activitat econòmica, paga impostos i gasta al país. El tema de l habitatge el problema no son els immobiliaris que son intermediaris no tant sols la majoria dels propietaris : son els salaris que estan gelats des de fa molts anys i creixent molt per sota del vist real de la vida. Totes les mesures implementades per el m govern els últims anys han provocat cada vegada augment de preus i amb aquesta llei encara n hi hauran mes. Mentrestant aneu fent despòtica t contra els que generen impostos i activitat econòmica veureu que divertit quan ens els haurem carregat prepareu vos per un IGI al 15% com a mínim i IRPF sense límit baix d ingressos \", \"[ARTICLE TITLE] El propietari del gos respon durament al Parc de l'Alt Pirineu La culpa de los ( no controladores de los animales salvajes ) no del perro ni su dueño...hoy cada uno hace tan mal su trabajo...que luego se le hecha la culpa a terceros..como ahora los banders...o vigilantes de las montañas que no cumplen su trabajo...y el pobre perro y su dueño lo pagan caro...eso no es así...adsoluccion total para ellos y que se les indemice..y castigo para los que no cumplen con su deber...\", \"[ARTICLE TITLE] Campanya per aplicar la igualtat en la gestió empresarial Per què a l'IAD no hi ha paritat?🤡\", '[ARTICLE TITLE] La policia investiga altres pisos on hi ha prostitució Gracies per avisar!', \"[ARTICLE TITLE] L’Institut de les Dones considera “innegociable” un “avortament lliure, segur i gratuït” Un avortament gratuït finançar per govern per causes majors estic d'acord i que es faci amb territori Andorra. Però un avortament sense causa major pq sigui per un distracció o el alguna cosa així.... que se'l pagui cadascú\", '[ARTICLE TITLE] L’amo del gos acusa el Parc de l’Alt Pirineu de l’atac de l’os Hahahaha', '[ARTICLE TITLE] Espot comparteix amb Parolin els avenços en relació al joc d’equilibris sobre l’avortament Com s’agraden, quines miradetes….', '[ARTICLE TITLE] L’IPC baixa a l’agost tot i que el preu de l’habitatge creix més Les estadístiques són capaces de demostrar qualsevol cosa, però la gent ja no es creu res, perquè el sentit comú preval sobre la manipulació mediàtica.', \"[ARTICLE TITLE] Bonell reivindica el català com a llengua viva a Barcelona Mare meva quin morro que li posen al tema!  se'n va a Barcelona a reivindicar el català, EMPLENANT el país de SUDAMERICANS que ni Déu atent a cap botiga amb, cafeteria, restaurant  amb català i ningú controla que així sigui i té la poca vergonya i la paxorra de sortir amb aquesta buleria, si lo únic que us preocupa per tots els  vostres negocis es que surtin  ven baratos, 2 a preu de 1 i lo altre us la bufa, imagino que es per això que tenim el QUEXUA com a llengua de referència\", '[ARTICLE TITLE] Prostitució en un pis al centre d’Encamp Es que anem a menys en tot.', '[ARTICLE TITLE] Prostitució en un pis al centre d’Encamp Visca Andorra lliure ,que ve que ho passarem .', '[ARTICLE TITLE] Prostitució en un pis al centre d’Encamp A poc a poc ens assemblem més als països que desitgem imitar, encara que a això en diuen “homologació”.', '[ARTICLE TITLE] Ensenyat demana un debat més \"racional\" per l\\'acord d\\'associació Ensenyat, posat les piles i defensa al poble andorra. Aquesta gebtuza ens vol robar rls pisos que hem comprat amb l\\'esforç de molts anys i fer que no poguem guanyarnos la voda donant servei a turistes amb uns pisos que ens han costat molts diners i que ells ens han fet reformarlos i invertiehi moltissims diners, molts mes dels necessaris. Algu hauria de defensarnos a nosaltres i ningu de vosaltres ho feu. Aixo os passara factura', '[ARTICLE TITLE] Aturat el desnonament demanat per un conflicte de parella Jo he pasat pel mateix i aseguro que el rollito aquest de que es el domicili dels nens, es fica la mare a dins i fins que no acaben els estudis tens un pis mort de fastic i que no gaudeixes. Estic d acord amb el pare que es vengui el pis ja i es liquidi. Si els nens son majors d edat, que els pares lloguin un Pis i tot arreglat. No es tan complicat…..', \"[ARTICLE TITLE] Pirineu Viu culpa Andorra de tots els mals de l’Alt Urgell Jajaja, sóc andorrà i m'encanta veure andorranitos picats i plorant quan se'ls hi fa una qualsevol crítica\", '[ARTICLE TITLE] “La bruixeria és la misogínia institucionalitzada” Les dones no eren ni bruixes ni àngels, ni van ser odiades pels homes, aixó és un fantasma ideològic creat pel neo feminisme.', '[ARTICLE TITLE] Pirineu Viu culpa Andorra de tots els mals de l’Alt Urgell Al final són gent amb poca feina i ganes de protagonisme que no ha tingut mai ni amb els amics, gent frustrada i poc treballadora, fa dies que sabem qui sou, però si no fos per Andorra i una mica Piugcerda ens morirem de gana, sou una vergonya per nosaltres, andorrans ni cas, molts de nosaltres som família o amics, aquests no son ningú.', \"[ARTICLE TITLE] Acció Feminista reclama la despenalització de l'avortament amb cobertura sanitària Cap a la Seu pagant de la vostra butxaca. A tots ens agrada passar-ho be i no tenir responsabilitats\", '[ARTICLE TITLE] Un nou índex situa Andorra com el país més segur del món En seguretat laboral anem a la cua, però.', '[ARTICLE TITLE] Espot reconeix “incògnites” amb la UE Formar part d’una associació com l’UE en tant micro-estat es un suicidi estatal. La representació es minima i per tant perdriem tota facultat per prendre decisions. Per aquesta raó Monaco i Suïssa es varen retirar de les negociacions.', \"[ARTICLE TITLE] “Abans hi havia una confusió molt gran sobre les activitats de Naturland” Eaaa!! Vinga guerrers de teclat! Cobards darrera d'un teclat que tenen les fórmules màgiques però no els collons de jugar-s'hi el coll. A veure quan aneu al Comú i us presenteu com alternativa al Ajona. Noooo... millor quedar-vos a casa vomitant odi sobre aquells que sí s'arrisquen... Si fos per vosaltres estariem visquent a les coves encara.\", '[ARTICLE TITLE] Els mestres reclamen millores laborals per dignificar la professió Paso de pagar mas impuestos para que a mi hijo le coman la cabeza desde los 4 añitos con temas de sexualidad y supuesta igualdad de genero. Eso es confundir desde la mas tierna edad, cuando el cerebro no besta formado. Es repugnante y miserable. Si la escuela publica sigue adoctrinando segun el gobierno de turno, mejor que desaparezca a favor de la escuela privatizada, y que cada familia se pague la educación que quiere oara sus hijos. ', \"[ARTICLE TITLE] El català fa tombar els concursos per trobar sotsoficial i caporals de circulació a Andorra la Vella És el que passa quan ja no et fan favorets. Et cabrejes i dius tonteries. Quin nivell d'Agents de Circulació que tenim, especialment algun caporal que ni coneixen l'educació.\", \"[ARTICLE TITLE] Els primers avenços sobre la despenalització de l'avortament es tindran el 2025 El dia que us doneu compte que cada embrio abortat podia ser un de nosaltres flipareu amb la doble moral que vivim… hitler i la camara de gas un juguet comparat amb el que esta passant en els nostres temps…  racionalidad limitada deia Kant… i tant limitada que de racionalitat ben poca\", \"[ARTICLE TITLE] La propietat de la Borda Mateu trenca les negociacions amb l'FC Andorra per l'estadi Piqué, no saps on t'has ficat.\", '[ARTICLE TITLE] L’Elisi assegura que l’acord d’associació “no comportarà un tsunami d’immigració” Quedar fora de la construcció d’Europa?', '[ARTICLE TITLE] L’atropellament mortal força canvis per guanyar seguretat DEP...', '[ARTICLE TITLE] Ensenyat demana un debat més \"racional\" per l\\'acord d\\'associació Volen que vingui la UE a rescatar casa seva a canvi de la poca sobirania que ens queda', \"[ARTICLE TITLE] Govern critica el PS i AE pel retard que poden provocar a la llei òmnibus Com més tard s'aprovi aquest nyap de llei, millor que millor.\", '[ARTICLE TITLE] Més de 174.000 euros per a un cub de pantalles LED per resoldre els dubtes de l’acord d’associació Si, segurament el de les pantalles :-). A saber perqué.', '[ARTICLE TITLE] Afers Socials atorga 1.330 noves prestacions el primer trimestre del 2024 Tanqueu la porta de una P... vegada i deixeu de emplenar el país de misèria i desnonats.  Doncs no empleneu el país de tants DESNONATS i veureu com no en tindreu de donar tantes, mes valdria que ajudéssiu mes a la gent del país i no aquets que porten dos dies aquí, molt ineptes i impresentable tot plegat', '[ARTICLE TITLE] El català fa tombar els concursos per trobar sotsoficial i caporals de circulació a Andorra la Vella Mireu a Encamp. He escoltat lo mateix.', \"[ARTICLE TITLE] Espot reconeix “incògnites” amb la UE Heu escoltat l'últim informe del ex-president del banc central europeu, Mario Draghi? No té desperdici. En resum ha dit que la UE es prepari per a pujades salvatges d'impostos, impressió de moneda a dojo si vol competir al món. Traduït pels ciutadans de la UE: sereu pobres com rates. \", '[ARTICLE TITLE] L’amo del gos acusa el Parc de l’Alt Pirineu de l’atac de l’os Qui és aquest fenomen i? ', \"[ARTICLE TITLE] Montaner critica Govern, Concòrdia i PS per voler legislar sense dades sobre l'habitatge Andorra Endavant fotrà una empenta cap endavant...uff. Si ja va sorprende en les últimes eleccions, al tanto les següents.. \", '[ARTICLE TITLE] Els mestres reclamen millores laborals per dignificar la professió Aquests cada any ploren, enreden a la gente perque els hi donin suport i després ells no donen a ningú, tant sols volen llocs de polítics.', '[ARTICLE TITLE] Ensenyat demana un debat més \"racional\" per l\\'acord d\\'associació Govern de nens rics.', '[ARTICLE TITLE] Neix la plataforma Pirineu Viu per lluitar contra la turistificació Lo mejor de cada casa todo junto Jajajajaa', \"[ARTICLE TITLE] Trencat l'acord per al nou estadi A l’espera que el rugbi és deixi tornar s comprar per no liar-la tornant al Nacional. El conveni és improrrogable!\", '[ARTICLE TITLE] Concòrdia descarta l’esmena a la totalitat de la llei òmnibus Van més perduts… ara si ara no.. i volen governar? Quin drama..', \"[ARTICLE TITLE] La ‘trampa del fill’ o increments de lloguer abusius són les ‘armes’ de l’assetjament immobiliari Encara no ho saps Fran, però la de pisos de lloguer que desapareixeran del mercat et farà veure que ha sigut un terrible error cargar-se la temporalitat dels contractes. I ja t'adelanto, que si es torna a intentar un altra pròrroga, això ja anirà per tribunals i la mossegada pot ser seria..\", '[ARTICLE TITLE] El deute del Principat és de 14.589 euros per ciutadà Lo siento mucho pero yo no tengo deuda, ya que tengo mi dinerito ganado honradamente y no me paga el estado. Con lo cual la deuda recae sobre los que quieren vivir del cuento. Si quieren, pueden despedir a todos los funcionarios o incrementar el impuesto IRPF a éstos, yo seguiré viviendo tranquilo y sin pagar.', \"[ARTICLE TITLE] Concòrdia vol limitar les autoritzacions a la quota general Es volen carregar tota l'economia! Aquesta gent empobriran el país i es dedicaran a repartir la misèria!\", \"[ARTICLE TITLE] La policia investiga altres pisos on hi ha prostitució Els fateu twnir que conduir fins la seu? No home no, que aquests problemes no tenen arreglo, l'unic que es pot fer es regular i protegir a les persones que fan aixo\", '[ARTICLE TITLE] Pirineu Viu culpa Andorra de tots els mals de l’Alt Urgell Talleu l’aigua i que aquests catalans sols beguin cocacola ', '[ARTICLE TITLE] La CASS tanca el primer semestre amb un dèficit sanitari de 15,7 milions d’euros I de pas si volen que i deixin els seus super gestors allà dins que així farem neteja', '[ARTICLE TITLE] Andorra i la UE avancen en l’acord per al control de les fronteres No a la arruïnada UE\\xa0\\xa0', '[ARTICLE TITLE] Concòrdia vol limitar els permisos d’accés al país que atorga el Govern No saben on van. Demagògia pura', \"[ARTICLE TITLE] S'esgoten en temps rècord les inscripcions als cursos de català Dios mio que cosa mas importante, mon dieux q'elle chausse trés important, meu deus que coisa mais importante, what an important thing, 🤣🤣🤣\", \"[ARTICLE TITLE] Campanya per aplicar la igualtat de gènere en la gestió empresarial Si les dones deixessin de queixar-se, fer-se les víctimes vivint de les quotes de gènere i es dediquessin a muntar startups o negocis propis arriscant el seu capital s'acabarien gairebé tots els problemes d'igualtat.\", '[ARTICLE TITLE] Les exportacions als mercats americans i asiàtics es disparen Quina pudor... !!!', '[ARTICLE TITLE] Amor líquid i terra enganxós I quan ens costa aquest xiringuito cutre i inútil?', '[ARTICLE TITLE] Neix la plataforma Pirineu Viu per lluitar contra la turistificació Sort i encerts !!', \"[ARTICLE TITLE] Els pisos de lloguer del Pas s’adjudicaran sense moblar durant la primera quinzena del mes vinent Acaban els teus calculs, 2 persones a sou base, se'n van a 2400-2500€. Els 850 de vivenda + fibra + parking no superen el 35% No es tan.\", '[ARTICLE TITLE] Andorra i la UE avancen en l’acord per al control de les fronteres Si estalla una guerra entre Rusia-China y OTAN, mejor no estar dentro de la UE porque vamos a pagar lo que no está escrito. Será lanruona de Andorra. ', \"[ARTICLE TITLE] El PIB nominal creix un 4,8% el segon trimestre del 2024 SOM EL PUNTAL D'EUROPA, QUE SERIA SENSE NOSALTRES? RES.\", '[ARTICLE TITLE] Ensenyat demana un debat més \"racional\" per l\\'acord d\\'associació L’Accord no nomès no arreglara els problemes actuals sino ens complicara encara més la vida i el cost sera del tot inasumible. ', '[ARTICLE TITLE] Un nou índex situa Andorra com el país més segur del món Suposo que quan es parla de la seguretat es valora tema diamants de sang, tema contrabando, tema expropiacions als privats... vamos totes les coses que passen x alla a dalt i que es callen. No?', \"[ARTICLE TITLE] Prostitució en un pis al centre d’Encamp Es bo que hi hahin putes a andorra. Aixi rls andprrans feixan d'anar tant a la seu qhe produeix contaminacio\", \"[ARTICLE TITLE] L’amo del gos acusa el Parc de l’Alt Pirineu de l’atac de l’os Segur què si torna a veure l'ós ja no l'atacara i tù porte-l lligat, a tù t'haurien de sancionar.\", '[ARTICLE TITLE] El català fa tombar els concursos per trobar sotsoficial i caporals de circulació a Andorra la Vella Bé ara que entri la fleuma de torn', '[ARTICLE TITLE] La policia investiga altres pisos on hi ha prostitució Pagaràs tu.', \"[ARTICLE TITLE] Prostitució en un pis al centre d’Encamp Millor així no cal sortir d'Andorra i gastar gasolina \", \"[ARTICLE TITLE] Andorra Endavant critica el discurs del cap de Govern i les mesures sobre l'habitatge Andprra endevant, gracies x ser els unics aue degenseu als que hem estañviat 40 anys per comprar un pis que lloguem a turistes donant un servei al mes gran swctoe del.pais (turisme) i respectar ña nostra feina per donar un sdrvei premium perque andorra segueixi sent un lñoc top x el turisme del esqui gracies al nostre esforç i defensarnos dels que ens voñen expoliar el nostre ofici\", \"[ARTICLE TITLE] Setge als apartaments turístics fora de la llei A la vuitena parròquia d'Andorra hi ha vivenda més barata i no cal (pel moment) pagar impostos. \", \"[ARTICLE TITLE] Strzoda defensa l’acord d’associació i alerta dels riscos de rebutjar-lo Va dir que hi haurien consequencies en cas d'un NO. \", '[ARTICLE TITLE] Agricultura finalitza la vacunació de la cabana ramadera ovina i bovina per la llengua blava Per un mufló espantat heu vacunat tota la cabana ramadera ovina i bovina? Mira que sou fàcils de convèncer...', '[ARTICLE TITLE] Pirineu Viu culpa Andorra de tots els mals de l’Alt Urgell Si en comptes de legislar en el seu territori per solucionar un problema es dediquen a donar-li la culpa a un altre país, això ja diu molt de lo ineptes que són...res més a dir.', \"[ARTICLE TITLE] Ensenyat referma el compromís d'Andorra en la lluita contra el canvi climàtic Avui dia el canvi climàtic i la utòpica transició energètica ja no aporten cap rèdit polític. Els més llestos de la classe ja fa dies que s’han passat a la promoció de la digitalització i de la IA.\", \"[ARTICLE TITLE] La pensió es revalora 50 euros per a qui ha cotitzat més de 20 anys No estic d'acord amb els càlculs de la taxa de dependència. \", '[ARTICLE TITLE] La policia investiga altres pisos on hi ha prostitució Señores que estamos en el siglo xxl', '[ARTICLE TITLE] L’atropellament mortal força canvis per guanyar seguretat Las negligencias se llevan vidas y en este caso se han llevado por delante a una chica excepcional, bellísima persona, madre de dos niños pequeños y deja a un marido roto y una familia destrozada..El dolor es inmenso! Y espero que los responsables paguen por todo el dolor causado! Descanse en paz Irene.', '[ARTICLE TITLE] L’allau d’inscripcions desborda les previsions per als cursos de català Els cursos no són gratuïts, els paguem entre tots amb impostos.', '[ARTICLE TITLE] L’Institut de l’Habitatge aposta per persuadir amb la cessió voluntària dels pisos buits Si fan la seció forsosa, hem de fer una manifestació indefinida contra el nostre govern comunista o aniran a més! ', '[ARTICLE TITLE] Campanya d’Stop Violències per denunciar la situació de l’avortament a Andorra Ella ja paga, beneït!! La idea es que ho pagui el país i no una associació que ni tant sols cobra per la seva feina', '[ARTICLE TITLE] Andorra i Montenegro signen un conveni de no doble imposició Que bé, ja no cal treballar més.', '[ARTICLE TITLE] Concòrdia vol que Govern aclareixi si preveu la legalització de l’avortament a Andorra És evident que per avortar a Andorra primer caldrà que acabi el coprincipat. Cal un referèndum sobre la continuïtat del coprincipat. El món del gran diner i del poder ens vol fer por. No hem de tèmer la república.', '[ARTICLE TITLE] Pirineu Viu anuncia mobilitzacions contra el turisme que afectaran Andorra Al final Andorra no te llum,no te aeroport, no te materia prima !!!!!!!que te? ', '[ARTICLE TITLE] Andorra i la UE avancen en l’acord per al control de les fronteres Em costa molt de creure que aquest senyor veterinari, tan aviat fa de músic com decideixi el futur de la nostra nació.', '[ARTICLE TITLE] Un sector dels farmacèutics advoca per vincular les obertures als quarts Pel religios', '[ARTICLE TITLE] Reunió ‘in extremis’ per evitar els controls fronterers de la UE ja veig tots els andorrans recuperant la nacionalitat espanyola...', '[ARTICLE TITLE] La policia investiga altres pisos on hi ha prostitució Lo irónico de la situación es que con los precios de los pisos creo nos vamos todos a la prostituci.. será la única manera de tener una vida \"normal\" sin tener que ir a dos trabajos y estar más de 12 horas fuera de casa sin fin de semana. ', \"[ARTICLE TITLE] Ensenyat referma el compromís d'Andorra en la lluita contra el canvi climàtic Andorra fa molts discursos, però inverteix molt poc en recerca i innovació.\", \"[ARTICLE TITLE] Andorra i la UE avancen en l’acord per al control de les fronteres En lloc de tocar la flauta toquen la guitarra, però nosaltres no som rates ni  tampoc rucs, encara que s'ho pensin. \", '[ARTICLE TITLE] Ensenyat demana un debat més \"racional\" per l\\'acord d\\'associació Venga va!, ens heu fotut a moltes famílies la vida en l\\'aire, i ara ens veniu amb rotllos i històries vostres.', '[ARTICLE TITLE] Més de 174.000 euros per a un cub de pantalles LED per resoldre els dubtes de l’acord d’associació Gasto el que representara l associacio  3 milions euros anuals fixos per mantindre rasca panxes inutils.. no UE    NO ...', '[ARTICLE TITLE] La llista d’espera per ingressar en una residència queda a zero Quina hipocresia, he patit durant dos anys una malaltia greu i tot ha sigut un infern, assistents socials, Govern, Ministeri de Benestar Social, etc. Fart de fer recursos a Govern perquè deien \"no hi ha recursos\".', \"[ARTICLE TITLE] Un nou índex situa Andorra com el país més segur del món Hahaha. Bona manera de comença la setmana amb humor al pais expropiador comunista mes gran d'europa\", '[ARTICLE TITLE] Concòrdia vol limitar les autoritzacions a la quota general Pais de izquierdosos, transfiero mis millones a luxemburgo y me largo. Suerte con los perroflautas', \"[ARTICLE TITLE] Vacunat de llengua blava tot el ramat boví i oví del país Al Blat també l'heu vacunat?\", '[ARTICLE TITLE] Strzoda defensa l’acord d’associació i alerta dels riscos de rebutjar-lo Europa NO gràcies', '[ARTICLE TITLE] El deute del Principat és de 14.589 euros per ciutadà Qui controla el deute, ho controla tot!', '[ARTICLE TITLE] El deute del Principat és de 14.589 euros per ciutadà doncs a passar per caixa!!, i el que no pagui, llum i aigua tallada, i que vaigui brut !', '[ARTICLE TITLE] La policia investiga altres pisos on hi ha prostitució En això s\\'ha convertit Andorra, prostitució a tot drap, carrers perquè quatre genets amb els seus cotxes facin tot el soroll que puguin, torres per tots els que estafen a \"hacienda\" al seu país tinguin on amagar els diners i en resum un paradís per tota la chusma ', \"[ARTICLE TITLE] Pirineu Viu culpa Andorra de tots els mals de l’Alt Urgell Aquests discursos populistes amb missatges d'odi no van enlloc. Ara resultarà que altres parts del Pirineu també estan construint andorrans quan els que han vingut a fer-ho a Andorra son espanyols bona part. Tenen el seu propi problema amb inversió del seu propi pais. \", \"[ARTICLE TITLE] Immobiliaris i constructors alerten que la llei òmnibus de l'habitatge els aboca a la crisi Expropiese! El comunisme ha arribat a Andorra!\", '[ARTICLE TITLE] Un nou índex situa Andorra com el país més segur del món NO a la Unió Europea. NO IMMIGRACIÓ ', '[ARTICLE TITLE] El català fa tombar els concursos per trobar sotsoficial i caporals de circulació a Andorra la Vella L’anterior Comu si,saltan-se la llei i la norma així tenim alguns càrrecs contra llei fets a mida', '[ARTICLE TITLE] 1,45 milions per al Santa Coloma I després, des de la FAF encara tindran la poca-vergonya de demanar diners a ministeri . . . Quin sentit té una lliga andorrana si el 99% dels jugadors són extrangers? Ningú veu que lo únic que ens aporta és inflació de preus amb una immigració que no aporta res? (joves, alt poder adquisitiu, baix nivell educatiu, inflació de preus . . .)', '[ARTICLE TITLE] Espot defensa a l’ONU que “res no justifica l’atac a civils” Un any heu trigat a fer aquestes declaracions. Un altre cop tard.', '[ARTICLE TITLE] Quatre docents reforcen l’àrea de llengua catalana per afrontar el nou curs Quin puto Catalanisme fastigós..... fot fàstic aquest tema, som pitjors que els lazis.', '[ARTICLE TITLE] Un nou índex situa Andorra com el país més segur del món Un ranking de una revista privada para evasores fiscales cuyo top son paises de baja fiscalidad, JAJAJAJA Los Emiratos y Qatar.. seguros??? Jajajajajaja ', \"[ARTICLE TITLE] El propietari del gos respon durament al Parc de l'Alt Pirineu Un os es una bestia salvatge !!!\", '[ARTICLE TITLE] Espot confia en el suport d’Espanya i Portugal per evitar que l’acord d’associació es declari mixt Dona igual el vestit que es posi  tant si es de 100€ com de 1000 € NO TE NI PERXA NI PORTE no es pot tenir tot aquesta vida  i de pas si vol començar a reserva ESTAMBUL  hora per fer un empelt capil·lar dons retardarem una mica la calba que ja es veu per tot arreu', '[ARTICLE TITLE] Afers Socials atorga 1.330 noves prestacions durant el primer trimestre AQUET PAÍS SI NO ETS SUDAMERICA HO PORTES MUCADOR NO REPS CAP AJUDA, CARA DURES.', '[ARTICLE TITLE] Andorra la Vella, Sant Julià, Canillo i el Pas tindran pisos públics de lloguer assequible enguany El Cap fa dies que no te cap credibilitat Ni pel que fa ni per la seva mansió', '[ARTICLE TITLE] L’allau d’inscripcions desborda les previsions per als cursos de català Una llei feta per gent supremacista, per mi no te cap valor...', \"[ARTICLE TITLE] L’executiva de DA vol copsar les inquietuds dels militants @DavidAstrié veient la foto de la notícia, cada cop tinc mé clar que has de sortir d'aquest cercle. DA és un grup d'amics/interessats que només miren per ells/es; tens capacitat per més que això, no facis de Capità de vaixell i salta ja, no cal que esperis a que tot se'n vaig al fons del mar... SALTA i VOLA! Només has de mirar les cares dels assistents a la reunió i treure conclusions.\", '[ARTICLE TITLE] Els mestres reclamen millores laborals per dignificar la professió Dues generacions de relaxació intel·lectual han permès que els primers debilitats siguin ja els mestres, sense cap pensament crític adoctrinen els nens amb ideologies importades canviant els patrons culturals mil·lenaris sense que els surtin els colors.', '[ARTICLE TITLE] Quart intent per trobar jutge per al TEDH Ni els propis advocats hi creuen.', '[ARTICLE TITLE] L’Institut Ramon Cugat va demanar instal·lacions de franc Uns catalans espavilats', \"[ARTICLE TITLE] L’Elisi assegura que l’acord d’associació “no comportarà un tsunami d’immigració” Molt 'Andorra we love you' peeò la carretera del Pas no l'arregleu ni per mal de morir.  AdiEU\", \"[ARTICLE TITLE] Bombers mobilitza l'helicòpter en un rescat nocturn en territori català Territori català no ! Regió dintre d’Espanya ! Pesats ! \", '[ARTICLE TITLE] “Abans hi havia una confusió molt gran sobre les activitats de Naturland” Aquí els socis privats poden donar el capital de llurs accions com perdut. L’únic que segueix cobrant es l’Ajona amb pèrdues cada any. Es una vergonya. ', \"[ARTICLE TITLE] Stop Violències engega la campanya 'F*cked' per reivindicar l'avortament Nomes cal baixar 20km al sud i podreu abortar tantes vegades com aguanti la vostra matriu.\", \"[ARTICLE TITLE] Bombers mobilitza l'helicòpter en un rescat nocturn en territori català El problema mes gran el tenim amb els periodistes, els que cobren de l’estat inclòs.   Tots son independentistes de Barcelona.\", '[ARTICLE TITLE] La CASS tanca el primer semestre amb un dèficit sanitari de 15,7 milions d’euros Pues resulta que ara la Cass ens reclama factures del any 2019. Sou uns poques vergonyes fa anys que esteu robant al poble i després repartiu els 100% com fi fossin caramels. Les coses oficials no prescriuen al cap de cinc anys? No teniu vergonya.  I Govern i la justícia que fan?? Res de res', '[ARTICLE TITLE] Pirineu Viu anuncia mobilitzacions contra el turisme que afectaran Andorra Perfecte !!! I ara què per a on començem ???', '[ARTICLE TITLE] El deute del Principat és de 14.589 euros per ciutadà En cap cas aprovo la gestió de Govern, però ajustat a la inflació, el deute es redueix, així que és una bona notícia. ', \"[ARTICLE TITLE] Nou radar de tram a l'A-2 al Bruc En la esquina Mallorca/Provença de Bcn  han puesto un paso de peatones.\", '[ARTICLE TITLE] L’executiva de DA vol copsar les inquietuds dels militants jaaa jaaa', \"[ARTICLE TITLE] Un nou índex situa Andorra com el país més segur del món L'index té en compte la violència econòmica estructural?\", '[ARTICLE TITLE] Espot defensa a l’ONU que “res no justifica l’atac a civils” Buuuuuuu fora', \"[ARTICLE TITLE] Prostitució en un pis al centre d’Encamp Per salvar Andorra de la ruïna més absoluta proposo legalitzar i invertir en la prostitució tal com s'ha fet amb el Joc i fomentar el turisme sexual, Caldea es podria convertir en una sauna Gai i Trans, prostíbuls de robots sexuals, avatars digitals, sexe digital metavers etc.\", \"[ARTICLE TITLE] Govern recalca que amb les mesures d'habitatge ha de defensar l'interès general i no d'associacions Si interès general es beneficiar a forasters que porten pocs anys aquí……estem arreglats !\", \"[ARTICLE TITLE] Els primers avenços sobre la despenalització de l'avortament es tindran el 2025 si el no nascut no és un ésser humà, què importa què li fem?\", \"[ARTICLE TITLE] S'esgoten en temps rècord les inscripcions als cursos de català Ja podeu estar contenta amb aquests resultats...\", \"[ARTICLE TITLE] Montaner critica Govern, Concòrdia i PS per voler legislar sense dades sobre l'habitatge Un cop mes populisme pur i dur al que ens té acostumats aquesta senyora.\", '[ARTICLE TITLE] Prostitució en un pis al centre d’Encamp Que esperaveu al obrir un casino....doncs prostitució, aviat armes i més drogues. Ens tenim que anar a acostumar. Això és el que porta un casino, aquí i arreu del món.nosaltres no serem diferents, no???', \"[ARTICLE TITLE] La música com a acompanyament a l'etapa final de la vida ¡Qué buena iniciativa! - Qué cambio que aparezca (o no) una figura como la de esta terapeuta al final de tu vida. Enhorabuena. \", \"[ARTICLE TITLE] El PS denuncia l'incompliment dels terminis previstos per l'Estatut de l'Artista Com sempre malament, una llei que no contempla la realitat dels artistes. Res a veure amb l'intermitència a França on almenys saben fer les lleis com cal. Vela, plega si us plau  o deixa de tocar els nassos.\", \"[ARTICLE TITLE] Concòrdia vol limitar els permisos d’accés al país que atorga el Govern Que comencin a fer país els empresaris en lloc de tancar la porta als treballadors d'aquí.\", \"[ARTICLE TITLE] La problemàtica de l’habitatge fa caure les sol·licituds d’ajuts per a l’emancipació dels joves No, als 60 no, als 50 ja ets totalment invisible i per treballar als 45 ja no te vol ningú, escassament 15 anys de vida laboral, volen que la gent treballi fins els 67 anys i als 45 ja ets un residu de la societat, i la pregunta seria  DELS 45 FINS ALS 67 DE QUE VOLEN ELLS  QUE VIVIM DEL AIRE DEL CEL? No contracten a gent encara molt productiva però govern no ajuda absolutament amb res,  ja que ni al servei d'ocupació tenen programes per gent de mes de 45 anys, LA SUPER MINISTRA MARSOL SE’LS A CARREGAT  A FAVOR NO SE SAP MOLT BE DE QUE, AH SI DELS SUDAMERICANTS  A PREU PASTERA I ALS D’AQUI SENSE FEINA, SENSE CASS I SENSE CAP FUTUR, un altre dels greus problemes d’aquets país es la temporalitat no es produeix cap feina fixa, tot temporal, com es poden independitzar amb tanta precarietat laboral?\", \"[ARTICLE TITLE] Immobiliaris i constructors alerten que la llei òmnibus de l'habitatge els aboca a la crisi El 90% dels comentaris son funcionaris. Ara viviu molt bé , gràcies al motor de la economia andorrana , si s’acaba ja us veure al carrer plorant .. temps al temps \", '[ARTICLE TITLE] S\\'esgoten en temps rècord les inscripcions als cursos de català La gente s\\'inscriu pero treure\\'s el B1 que es el que demanen per renovar la residència, però ningú l\\'utilitza. No et diuen ni \"bon dia\". Penso que s\\'han de posar mesures més contundents per viure en català a Andorra. I sobre tot NO CANVIAR. Com volem que aprenguin la llengua si els treiem l\\'oportunitat d\\'escoltar-la? ', '[ARTICLE TITLE] La ‘trampa del fill’ o increments de lloguer abusius són les ‘armes’ de l’assetjament immobiliari O sea cada cinco años..los propietarios (joden) la vida a los inquilinos tengan familia o no...haciendoles buscar otro piso..! Que bonito ! ? Y teneis conciencia..? Hoy no sabeis ni lo que es eso...menos mal que el tiempo se encarga de ...devolveros el mal que haceis..por el cochino dinero... ! ojalá se llenen de prostíbulos!  Los pisos de los que haceis eso..', '[ARTICLE TITLE] Concòrdia vol que Govern aclareixi si preveu la legalització de l’avortament a Andorra Pel que han dit els uns i els altres, espero que la legalització no sigui \"avortar si pero fora d\\'Andorra\" com sembla que se\\'n extreu de comentaris d\\'algun ministre. Legalitzar l\\'avortament, s\\'ha de fer ja (esperem que el nou coprincep episcopal no boicotegi cap llei al respecte com si ha fet el coprincep actual), s\\'ha de fer ja i amb el maxim de garanties per tothom i AQUI a Andorra.', \"[ARTICLE TITLE] Immobiliaris i constructors alerten que la llei òmnibus de l'habitatge els aboca a la crisi Estas cosas con franco no pasarian\", \"[ARTICLE TITLE] Els primers avenços sobre la despenalització de l'avortament es tindran el 2025 Reflexió: Igual que en èpoques pretèrites, el dret a tenir esclaus, era possible i estava acceptat socialment, i avui la esclavitut està prohibida i és moralment inconcedible a cap país del món,,,, així serà amb l'avortament, les generacions venideres aboliran el dret d'agressió a la vida humana.... Per principi d'evolució, així serà, si no ens hem extinguit abans, claro...\", '[ARTICLE TITLE] Reunió ‘in extremis’ per evitar els controls fronterers de la UE I els milions de treballadors fronterers amb la UE que viuen, per exemple, a Suissa i cada dia van a treballar a França, Italia, Austria, ... faran cues quilomètriques per entrar i sortir ? ', \"[ARTICLE TITLE] Immobiliaris i constructors alerten que la llei òmnibus de l'habitatge els aboca a la crisi Aquests són els quatre que ara es queixen perquè les coses no pinten bé.\", '[ARTICLE TITLE] Prostitució en un pis al centre d’Encamp I aixó sols és el principi!', \"[ARTICLE TITLE] Un nou índex situa Andorra com el país més segur del món Trobant-nos al mig d'Europa, i sobretot al costat de França és un miracle. Malauradament les pressions de la UE en breu acabaran amb això, convertint-nos en país d'acollida sense filtres, amb tot el que comporta. NO a la UE\", '[ARTICLE TITLE] La CEA demana flexibilitzar de nou l’arribada d’alguns treballadors Mare meva aquets de la CEA sou uns impresentables!!! no teniu vergonya, esta el país que sembla el barri Xines i encara volen portar mes desnonats aquí per tenir el país tensionat als límits en TEMA HABITATGE, SALARIS, AJUDES A AFERS SOCIAL etc, SOU LA VERGONYA DEL PAIS QUE SOLS VOLEU GENT LOW COST SENSE CAP FORMACIO RONDANT L’ANANLFABETISME PER PAGAR UNA MERDA, espero que petint tots els vostre negocis cutres salxixeros que no els i queda ni un tele diari per el servei patètic que doneu. IMPRESENTABLES']\n"
     ]
    }
   ],
   "source": [
    "print(train_dataset['input_text'])"
   ]
  },
  {
   "cell_type": "markdown",
   "metadata": {},
   "source": [
    "### Training the model !"
   ]
  },
  {
   "cell_type": "code",
   "execution_count": 217,
   "metadata": {},
   "outputs": [
    {
     "name": "stderr",
     "output_type": "stream",
     "text": [
      "\n",
      " 80%|████████  | 56/70 [00:59<00:09,  1.54it/s]"
     ]
    },
    {
     "name": "stdout",
     "output_type": "stream",
     "text": [
      "{'loss': 1.3991, 'grad_norm': 27.554386138916016, 'learning_rate': 1e-05, 'epoch': 0.77}\n"
     ]
    },
    {
     "name": "stderr",
     "output_type": "stream",
     "text": [
      "\n",
      "\u001b[A\n",
      "\n",
      "\u001b[A\u001b[A                               \n",
      "                                               \n",
      " 80%|████████  | 56/70 [01:02<00:09,  1.54it/s]\n",
      "\u001b[A"
     ]
    },
    {
     "name": "stdout",
     "output_type": "stream",
     "text": [
      "{'eval_loss': 1.3047295808792114, 'eval_accuracy': 0.46, 'eval_runtime': 0.6158, 'eval_samples_per_second': 81.193, 'eval_steps_per_second': 1.624, 'epoch': 1.0}\n"
     ]
    },
    {
     "name": "stderr",
     "output_type": "stream",
     "text": [
      "\n",
      " 80%|████████  | 56/70 [01:10<00:09,  1.54it/s]"
     ]
    },
    {
     "name": "stdout",
     "output_type": "stream",
     "text": [
      "{'loss': 1.2975, 'grad_norm': 4.896843433380127, 'learning_rate': 2e-05, 'epoch': 1.54}\n"
     ]
    },
    {
     "name": "stderr",
     "output_type": "stream",
     "text": [
      "\n",
      "\u001b[A\n",
      "\n",
      "\u001b[A\u001b[A                               \n",
      "                                               \n",
      " 80%|████████  | 56/70 [01:15<00:09,  1.54it/s]\n",
      "\u001b[A"
     ]
    },
    {
     "name": "stdout",
     "output_type": "stream",
     "text": [
      "{'eval_loss': 1.213774561882019, 'eval_accuracy': 0.52, 'eval_runtime': 0.6158, 'eval_samples_per_second': 81.196, 'eval_steps_per_second': 1.624, 'epoch': 2.0}\n"
     ]
    },
    {
     "name": "stderr",
     "output_type": "stream",
     "text": [
      "\n",
      " 80%|████████  | 56/70 [01:21<00:09,  1.54it/s]"
     ]
    },
    {
     "name": "stdout",
     "output_type": "stream",
     "text": [
      "{'loss': 1.2357, 'grad_norm': 3.9402825832366943, 'learning_rate': 3e-05, 'epoch': 2.31}\n"
     ]
    },
    {
     "name": "stderr",
     "output_type": "stream",
     "text": [
      "\n",
      "\u001b[A\n",
      "\n",
      "\u001b[A\u001b[A                               \n",
      "                                               \n",
      " 80%|████████  | 56/70 [01:28<00:09,  1.54it/s]\n",
      "\u001b[A"
     ]
    },
    {
     "name": "stdout",
     "output_type": "stream",
     "text": [
      "{'eval_loss': 1.1799027919769287, 'eval_accuracy': 0.48, 'eval_runtime': 0.6192, 'eval_samples_per_second': 80.749, 'eval_steps_per_second': 1.615, 'epoch': 3.0}\n"
     ]
    },
    {
     "name": "stderr",
     "output_type": "stream",
     "text": [
      "\n",
      " 80%|████████  | 56/70 [01:31<00:09,  1.54it/s]"
     ]
    },
    {
     "name": "stdout",
     "output_type": "stream",
     "text": [
      "{'loss': 1.1814, 'grad_norm': 7.534204483032227, 'learning_rate': 4e-05, 'epoch': 3.08}\n"
     ]
    },
    {
     "name": "stderr",
     "output_type": "stream",
     "text": [
      "\n",
      " 80%|████████  | 56/70 [01:39<00:09,  1.54it/s]"
     ]
    },
    {
     "name": "stdout",
     "output_type": "stream",
     "text": [
      "{'loss': 1.1062, 'grad_norm': 6.692944049835205, 'learning_rate': 5e-05, 'epoch': 3.85}\n"
     ]
    },
    {
     "name": "stderr",
     "output_type": "stream",
     "text": [
      "\n",
      "\u001b[A\n",
      "\n",
      "\u001b[A\u001b[A                               \n",
      "                                               \n",
      " 80%|████████  | 56/70 [01:41<00:09,  1.54it/s]\n",
      "\u001b[A"
     ]
    },
    {
     "name": "stdout",
     "output_type": "stream",
     "text": [
      "{'eval_loss': 1.2643542289733887, 'eval_accuracy': 0.34, 'eval_runtime': 0.6234, 'eval_samples_per_second': 80.199, 'eval_steps_per_second': 1.604, 'epoch': 4.0}\n"
     ]
    },
    {
     "name": "stderr",
     "output_type": "stream",
     "text": [
      "\n",
      " 80%|████████  | 56/70 [01:50<00:09,  1.54it/s]"
     ]
    },
    {
     "name": "stdout",
     "output_type": "stream",
     "text": [
      "{'loss': 0.9785, 'grad_norm': 5.559157371520996, 'learning_rate': 1.6666666666666667e-05, 'epoch': 4.62}\n"
     ]
    },
    {
     "name": "stderr",
     "output_type": "stream",
     "text": [
      "\n",
      "\u001b[A\n",
      "\n",
      "\u001b[A\u001b[A                               \n",
      "                                               \n",
      " 80%|████████  | 56/70 [01:56<00:09,  1.54it/s]\n",
      "\u001b[A"
     ]
    },
    {
     "name": "stdout",
     "output_type": "stream",
     "text": [
      "{'eval_loss': 1.245222568511963, 'eval_accuracy': 0.46, 'eval_runtime': 0.6643, 'eval_samples_per_second': 75.266, 'eval_steps_per_second': 1.505, 'epoch': 5.0}\n"
     ]
    },
    {
     "name": "stderr",
     "output_type": "stream",
     "text": [
      "\n",
      "100%|██████████| 65/65 [01:08<00:00,  1.05s/it]"
     ]
    },
    {
     "name": "stdout",
     "output_type": "stream",
     "text": [
      "{'train_runtime': 68.1226, 'train_samples_per_second': 14.679, 'train_steps_per_second': 0.954, 'train_loss': 1.1678079971900353, 'epoch': 5.0}\n"
     ]
    },
    {
     "name": "stderr",
     "output_type": "stream",
     "text": [
      "\n"
     ]
    },
    {
     "data": {
      "text/plain": [
       "TrainOutput(global_step=65, training_loss=1.1678079971900353, metrics={'train_runtime': 68.1226, 'train_samples_per_second': 14.679, 'train_steps_per_second': 0.954, 'total_flos': 65778945024000.0, 'train_loss': 1.1678079971900353, 'epoch': 5.0})"
      ]
     },
     "execution_count": 217,
     "metadata": {},
     "output_type": "execute_result"
    }
   ],
   "source": [
    "trainer.train()"
   ]
  },
  {
   "cell_type": "markdown",
   "metadata": {},
   "source": [
    "### Save the trained model"
   ]
  },
  {
   "cell_type": "code",
   "execution_count": 218,
   "metadata": {},
   "outputs": [],
   "source": [
    "trainer.save_model('./fine-tuned-mbert-sentiment')"
   ]
  },
  {
   "cell_type": "markdown",
   "metadata": {},
   "source": [
    "# Pseudo-labeling on Unlabeled Data"
   ]
  },
  {
   "cell_type": "code",
   "execution_count": 219,
   "metadata": {},
   "outputs": [
    {
     "data": {
      "text/plain": [
       "2163"
      ]
     },
     "execution_count": 219,
     "metadata": {},
     "output_type": "execute_result"
    }
   ],
   "source": [
    "len(comments_unlabeled)"
   ]
  },
  {
   "cell_type": "markdown",
   "metadata": {},
   "source": [
    "### Define the Dataset"
   ]
  },
  {
   "cell_type": "code",
   "execution_count": 220,
   "metadata": {},
   "outputs": [],
   "source": [
    "unlabeled_dataset = Dataset.from_pandas(comments_unlabeled)"
   ]
  },
  {
   "cell_type": "markdown",
   "metadata": {},
   "source": [
    "### Tokenize"
   ]
  },
  {
   "cell_type": "code",
   "execution_count": 221,
   "metadata": {},
   "outputs": [
    {
     "name": "stderr",
     "output_type": "stream",
     "text": [
      "Map: 100%|██████████| 2163/2163 [00:00<00:00, 4070.27 examples/s]\n"
     ]
    }
   ],
   "source": [
    "unlabeled_dataset = unlabeled_dataset.map(tokenize, batched=True)"
   ]
  },
  {
   "cell_type": "markdown",
   "metadata": {},
   "source": [
    "### Define torch format"
   ]
  },
  {
   "cell_type": "code",
   "execution_count": 222,
   "metadata": {},
   "outputs": [],
   "source": [
    "unlabeled_dataset.set_format('torch', columns=['input_ids', 'attention_mask'])"
   ]
  },
  {
   "cell_type": "markdown",
   "metadata": {},
   "source": [
    "### Predict the labels for the unlabeled data"
   ]
  },
  {
   "cell_type": "code",
   "execution_count": 223,
   "metadata": {},
   "outputs": [
    {
     "name": "stderr",
     "output_type": "stream",
     "text": [
      "100%|██████████| 34/34 [00:28<00:00,  1.18it/s]\n"
     ]
    }
   ],
   "source": [
    "predictions = trainer.predict(unlabeled_dataset)\n",
    "probs = torch.nn.functional.softmax(torch.tensor(predictions.predictions), dim=1)\n",
    "max_probs, pseudo_labels = torch.max(probs, dim=1)"
   ]
  },
  {
   "cell_type": "code",
   "execution_count": 224,
   "metadata": {},
   "outputs": [],
   "source": [
    "probs = max_probs.numpy()\n",
    "pseudo_labels = pseudo_labels.numpy()"
   ]
  },
  {
   "cell_type": "markdown",
   "metadata": {},
   "source": [
    "### Define confidence threshold"
   ]
  },
  {
   "cell_type": "code",
   "execution_count": 235,
   "metadata": {},
   "outputs": [],
   "source": [
    "confidence_threshold = 0.6\n",
    "confident_indices = np.where(probs > confidence_threshold)[0]"
   ]
  },
  {
   "cell_type": "code",
   "execution_count": 236,
   "metadata": {},
   "outputs": [
    {
     "name": "stdout",
     "output_type": "stream",
     "text": [
      "Confident pseudo-labeled samples: 23\n"
     ]
    }
   ],
   "source": [
    "print(f\"Confident pseudo-labeled samples: {len(confident_indices)}\")"
   ]
  },
  {
   "cell_type": "markdown",
   "metadata": {},
   "source": [
    "### Select confident pseudo-labeled data"
   ]
  },
  {
   "cell_type": "code",
   "execution_count": 227,
   "metadata": {},
   "outputs": [
    {
     "name": "stderr",
     "output_type": "stream",
     "text": [
      "Flattening the indices: 100%|██████████| 23/23 [00:00<00:00, 3760.68 examples/s]\n"
     ]
    }
   ],
   "source": [
    "pseudo_labeled_dataset = unlabeled_dataset.select(confident_indices)\n",
    "pseudo_labeled_dataset = pseudo_labeled_dataset.add_column('labels', pseudo_labels[confident_indices])"
   ]
  },
  {
   "cell_type": "markdown",
   "metadata": {},
   "source": [
    "# Combining labeled and pseudo-labeled dataset"
   ]
  },
  {
   "cell_type": "code",
   "execution_count": 228,
   "metadata": {},
   "outputs": [],
   "source": [
    "expanded_train_dataset = concatenate_datasets([train_dataset, pseudo_labeled_dataset])"
   ]
  },
  {
   "cell_type": "code",
   "execution_count": 229,
   "metadata": {},
   "outputs": [
    {
     "name": "stdout",
     "output_type": "stream",
     "text": [
      "Expanded training samples: 223\n"
     ]
    }
   ],
   "source": [
    "print(f\"Expanded training samples: {len(expanded_train_dataset)}\")"
   ]
  },
  {
   "cell_type": "markdown",
   "metadata": {},
   "source": [
    "# Fine tune on expanded dataset"
   ]
  },
  {
   "cell_type": "code",
   "execution_count": 230,
   "metadata": {},
   "outputs": [],
   "source": [
    "trainer_expanded = Trainer(\n",
    "    model=model,\n",
    "    args=training_args,\n",
    "    train_dataset=expanded_train_dataset,\n",
    "    eval_dataset=val_dataset,  # Use the same validation set\n",
    "    compute_metrics=compute_metrics,\n",
    ")"
   ]
  },
  {
   "cell_type": "code",
   "execution_count": 231,
   "metadata": {},
   "outputs": [
    {
     "name": "stderr",
     "output_type": "stream",
     "text": [
      "\n",
      " 80%|████████  | 56/70 [02:39<00:09,  1.54it/s]"
     ]
    },
    {
     "name": "stdout",
     "output_type": "stream",
     "text": [
      "{'loss': 1.1164, 'grad_norm': 4.487930774688721, 'learning_rate': 1e-05, 'epoch': 0.71}\n"
     ]
    },
    {
     "name": "stderr",
     "output_type": "stream",
     "text": [
      "\n",
      "\u001b[A\n",
      "\n",
      "\u001b[A\u001b[A                               \n",
      "                                               \n",
      " 80%|████████  | 56/70 [02:44<00:09,  1.54it/s]\n",
      "\u001b[A"
     ]
    },
    {
     "name": "stdout",
     "output_type": "stream",
     "text": [
      "{'eval_loss': 1.2011468410491943, 'eval_accuracy': 0.48, 'eval_runtime': 0.7232, 'eval_samples_per_second': 69.136, 'eval_steps_per_second': 1.383, 'epoch': 1.0}\n"
     ]
    },
    {
     "name": "stderr",
     "output_type": "stream",
     "text": [
      "\n",
      " 80%|████████  | 56/70 [02:51<00:09,  1.54it/s]"
     ]
    },
    {
     "name": "stdout",
     "output_type": "stream",
     "text": [
      "{'loss': 1.0554, 'grad_norm': 7.591151237487793, 'learning_rate': 2e-05, 'epoch': 1.43}\n"
     ]
    },
    {
     "name": "stderr",
     "output_type": "stream",
     "text": [
      "\n",
      "\u001b[A\n",
      "\n",
      "\u001b[A\u001b[A                               \n",
      "                                               \n",
      " 80%|████████  | 56/70 [02:59<00:09,  1.54it/s]\n",
      "\u001b[A"
     ]
    },
    {
     "name": "stdout",
     "output_type": "stream",
     "text": [
      "{'eval_loss': 1.2449299097061157, 'eval_accuracy': 0.38, 'eval_runtime': 0.6702, 'eval_samples_per_second': 74.609, 'eval_steps_per_second': 1.492, 'epoch': 2.0}\n"
     ]
    },
    {
     "name": "stderr",
     "output_type": "stream",
     "text": [
      "\n",
      " 80%|████████  | 56/70 [03:02<00:09,  1.54it/s]"
     ]
    },
    {
     "name": "stdout",
     "output_type": "stream",
     "text": [
      "{'loss': 1.0543, 'grad_norm': 6.536264419555664, 'learning_rate': 3e-05, 'epoch': 2.14}\n"
     ]
    },
    {
     "name": "stderr",
     "output_type": "stream",
     "text": [
      "\n",
      " 80%|████████  | 56/70 [03:11<00:09,  1.54it/s]"
     ]
    },
    {
     "name": "stdout",
     "output_type": "stream",
     "text": [
      "{'loss': 0.983, 'grad_norm': 17.37132453918457, 'learning_rate': 4e-05, 'epoch': 2.86}\n"
     ]
    },
    {
     "name": "stderr",
     "output_type": "stream",
     "text": [
      "\n",
      "\u001b[A\n",
      "\n",
      "\u001b[A\u001b[A                               \n",
      "                                               \n",
      " 80%|████████  | 56/70 [03:13<00:09,  1.54it/s]\n",
      "\u001b[A"
     ]
    },
    {
     "name": "stdout",
     "output_type": "stream",
     "text": [
      "{'eval_loss': 1.3240058422088623, 'eval_accuracy': 0.42, 'eval_runtime': 0.6691, 'eval_samples_per_second': 74.722, 'eval_steps_per_second': 1.494, 'epoch': 3.0}\n"
     ]
    },
    {
     "name": "stderr",
     "output_type": "stream",
     "text": [
      "\n",
      " 80%|████████  | 56/70 [03:22<00:09,  1.54it/s]"
     ]
    },
    {
     "name": "stdout",
     "output_type": "stream",
     "text": [
      "{'loss': 0.8187, 'grad_norm': 15.7627534866333, 'learning_rate': 5e-05, 'epoch': 3.57}\n"
     ]
    },
    {
     "name": "stderr",
     "output_type": "stream",
     "text": [
      "\n",
      "\u001b[A\n",
      "\n",
      "\u001b[A\u001b[A                               \n",
      "                                               \n",
      " 80%|████████  | 56/70 [03:28<00:09,  1.54it/s]\n",
      "\u001b[A"
     ]
    },
    {
     "name": "stdout",
     "output_type": "stream",
     "text": [
      "{'eval_loss': 1.5696197748184204, 'eval_accuracy': 0.42, 'eval_runtime': 0.6794, 'eval_samples_per_second': 73.595, 'eval_steps_per_second': 1.472, 'epoch': 4.0}\n"
     ]
    },
    {
     "name": "stderr",
     "output_type": "stream",
     "text": [
      "\n",
      " 80%|████████  | 56/70 [03:33<00:09,  1.54it/s]"
     ]
    },
    {
     "name": "stdout",
     "output_type": "stream",
     "text": [
      "{'loss': 0.9785, 'grad_norm': 16.168893814086914, 'learning_rate': 2.5e-05, 'epoch': 4.29}\n"
     ]
    },
    {
     "name": "stderr",
     "output_type": "stream",
     "text": [
      "\n",
      " 80%|████████  | 56/70 [03:42<00:09,  1.54it/s]"
     ]
    },
    {
     "name": "stdout",
     "output_type": "stream",
     "text": [
      "{'loss': 0.6826, 'grad_norm': 11.880638122558594, 'learning_rate': 0.0, 'epoch': 5.0}\n"
     ]
    },
    {
     "name": "stderr",
     "output_type": "stream",
     "text": [
      "\n",
      "\u001b[A\n",
      "\n",
      "\u001b[A\u001b[A                               \n",
      "                                               \n",
      " 80%|████████  | 56/70 [03:45<00:09,  1.54it/s]\n",
      "\u001b[A"
     ]
    },
    {
     "name": "stdout",
     "output_type": "stream",
     "text": [
      "{'eval_loss': 1.238420009613037, 'eval_accuracy': 0.44, 'eval_runtime': 0.6908, 'eval_samples_per_second': 72.377, 'eval_steps_per_second': 1.448, 'epoch': 5.0}\n"
     ]
    },
    {
     "name": "stderr",
     "output_type": "stream",
     "text": [
      "\n",
      "100%|██████████| 70/70 [01:17<00:00,  1.11s/it]"
     ]
    },
    {
     "name": "stdout",
     "output_type": "stream",
     "text": [
      "{'train_runtime': 77.3608, 'train_samples_per_second': 14.413, 'train_steps_per_second': 0.905, 'train_loss': 0.9555482864379883, 'epoch': 5.0}\n"
     ]
    },
    {
     "name": "stderr",
     "output_type": "stream",
     "text": [
      "\n"
     ]
    },
    {
     "data": {
      "text/plain": [
       "TrainOutput(global_step=70, training_loss=0.9555482864379883, metrics={'train_runtime': 77.3608, 'train_samples_per_second': 14.413, 'train_steps_per_second': 0.905, 'total_flos': 73343523701760.0, 'train_loss': 0.9555482864379883, 'epoch': 5.0})"
      ]
     },
     "execution_count": 231,
     "metadata": {},
     "output_type": "execute_result"
    }
   ],
   "source": [
    "trainer_expanded.train()"
   ]
  },
  {
   "cell_type": "code",
   "execution_count": 232,
   "metadata": {},
   "outputs": [],
   "source": [
    "trainer_expanded.save_model('./fine-tuned-mbert-sentiment-expanded')"
   ]
  },
  {
   "cell_type": "markdown",
   "metadata": {},
   "source": []
  }
 ],
 "metadata": {
  "kernelspec": {
   "display_name": "andorra-sentiment-analyst",
   "language": "python",
   "name": "python3"
  },
  "language_info": {
   "codemirror_mode": {
    "name": "ipython",
    "version": 3
   },
   "file_extension": ".py",
   "mimetype": "text/x-python",
   "name": "python",
   "nbconvert_exporter": "python",
   "pygments_lexer": "ipython3",
   "version": "3.12.2"
  }
 },
 "nbformat": 4,
 "nbformat_minor": 2
}
