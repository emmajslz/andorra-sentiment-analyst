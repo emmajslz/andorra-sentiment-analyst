{
 "cells": [
  {
   "cell_type": "markdown",
   "metadata": {},
   "source": [
    "# Data Pre-Processing"
   ]
  },
  {
   "cell_type": "markdown",
   "metadata": {},
   "source": [
    "Now that the scraper is built and functioning, we're able to obtain a dataset."
   ]
  },
  {
   "cell_type": "code",
   "execution_count": 2,
   "metadata": {},
   "outputs": [],
   "source": [
    "import pandas as pd\n",
    "import numpy as np\n",
    "\n",
    "import matplotlib.pyplot as plt\n",
    "\n",
    "import re\n",
    "import string\n",
    "\n",
    "import spacy"
   ]
  },
  {
   "cell_type": "markdown",
   "metadata": {},
   "source": [
    "## Choosing the dataset"
   ]
  },
  {
   "cell_type": "markdown",
   "metadata": {},
   "source": [
    "The data was obtained using a web crawler (`main_crawler.py`). This program takes as input a list of terms and uses them to search the different journals of the andorran press for articles and comments."
   ]
  },
  {
   "cell_type": "markdown",
   "metadata": {},
   "source": [
    "explanation of dataset choices"
   ]
  },
  {
   "cell_type": "markdown",
   "metadata": {},
   "source": [
    "### Hot topics"
   ]
  },
  {
   "cell_type": "markdown",
   "metadata": {},
   "source": [
    "The dataset was obtained by scraping based on the topics that are most talked about lately among the Andorran people, and that generate the most debate and talk in the press and among the citizens:\n",
    "\n",
    "- Acord d'associació amb la Unió Europea\n",
    "    - Europa\n",
    "    - Unió Europea\n",
    "    - Acord d'associació\n",
    "- Reforma del sistema de pensions\n",
    "    - Pensions\n",
    "    - CASS\n",
    "- Estat del Català\n",
    "    - Català\n",
    "    - Llengua\n",
    "- Drets de la dona i avortament\n",
    "    - Avortament\n",
    "    - Dones\n",
    "- Crisi de l'habitatge\n",
    "    - Habitatge\n",
    "    - Lloguer\n",
    "    - Inversió extrangera"
   ]
  },
  {
   "cell_type": "markdown",
   "metadata": {},
   "source": [
    "### The resulting datasets"
   ]
  },
  {
   "cell_type": "code",
   "execution_count": 3,
   "metadata": {},
   "outputs": [],
   "source": [
    "dtype_comments = {\n",
    "    'comment_in_answer_to': 'str'\n",
    "    # the other column types will be inferred\n",
    "}"
   ]
  },
  {
   "cell_type": "code",
   "execution_count": 4,
   "metadata": {},
   "outputs": [],
   "source": [
    "articles = pd.read_csv(\"../data/scrapes/HOT_TOPICS/20240929_HOT_TOPICS_articles.csv\", parse_dates=['datetime_added', 'datetime_article'])\n",
    "comments = pd.read_csv(\"../data/scrapes/HOT_TOPICS/20240929_HOT_TOPICS_comments.csv\", dtype=dtype_comments, parse_dates=['comment_datetime'])"
   ]
  },
  {
   "cell_type": "code",
   "execution_count": 5,
   "metadata": {},
   "outputs": [
    {
     "data": {
      "text/plain": [
       "(2413, 9)"
      ]
     },
     "execution_count": 5,
     "metadata": {},
     "output_type": "execute_result"
    }
   ],
   "source": [
    "comments.shape"
   ]
  },
  {
   "cell_type": "markdown",
   "metadata": {},
   "source": [
    "## Exploring the datasets."
   ]
  },
  {
   "cell_type": "code",
   "execution_count": 6,
   "metadata": {},
   "outputs": [
    {
     "data": {
      "text/html": [
       "<div>\n",
       "<style scoped>\n",
       "    .dataframe tbody tr th:only-of-type {\n",
       "        vertical-align: middle;\n",
       "    }\n",
       "\n",
       "    .dataframe tbody tr th {\n",
       "        vertical-align: top;\n",
       "    }\n",
       "\n",
       "    .dataframe thead th {\n",
       "        text-align: right;\n",
       "    }\n",
       "</style>\n",
       "<table border=\"1\" class=\"dataframe\">\n",
       "  <thead>\n",
       "    <tr style=\"text-align: right;\">\n",
       "      <th></th>\n",
       "      <th>id</th>\n",
       "      <th>datetime_added</th>\n",
       "      <th>journal</th>\n",
       "      <th>search_term</th>\n",
       "      <th>datetime_article</th>\n",
       "      <th>category</th>\n",
       "      <th>type</th>\n",
       "      <th>title</th>\n",
       "      <th>link</th>\n",
       "      <th>nb_of_comments</th>\n",
       "    </tr>\n",
       "  </thead>\n",
       "  <tbody>\n",
       "    <tr>\n",
       "      <th>0</th>\n",
       "      <td>AL20240928185200</td>\n",
       "      <td>2024-09-29 15:41:39.308837</td>\n",
       "      <td>altaveu</td>\n",
       "      <td>europa</td>\n",
       "      <td>2024-09-28 18:52:00</td>\n",
       "      <td>esport</td>\n",
       "      <td>article</td>\n",
       "      <td>Jordina Caminal s’emporta la Copa de Sud-Amèri...</td>\n",
       "      <td>https://www.altaveu.com/actualitat/esport/jord...</td>\n",
       "      <td>0</td>\n",
       "    </tr>\n",
       "    <tr>\n",
       "      <th>1</th>\n",
       "      <td>AL20240916175300</td>\n",
       "      <td>2024-09-29 15:41:39.308837</td>\n",
       "      <td>altaveu</td>\n",
       "      <td>europa</td>\n",
       "      <td>2024-09-16 17:53:00</td>\n",
       "      <td>politica</td>\n",
       "      <td>article</td>\n",
       "      <td>SDP advoca per un espai transversal de centre ...</td>\n",
       "      <td>https://www.altaveu.com/actualitat/politica/sd...</td>\n",
       "      <td>2</td>\n",
       "    </tr>\n",
       "    <tr>\n",
       "      <th>2</th>\n",
       "      <td>AL20240908122700</td>\n",
       "      <td>2024-09-29 15:41:39.308837</td>\n",
       "      <td>altaveu</td>\n",
       "      <td>europa</td>\n",
       "      <td>2024-09-08 12:27:00</td>\n",
       "      <td>politica</td>\n",
       "      <td>article</td>\n",
       "      <td>Acord en cercar “consens” i “confluències” sob...</td>\n",
       "      <td>https://www.altaveu.com/actualitat/politica/ac...</td>\n",
       "      <td>3</td>\n",
       "    </tr>\n",
       "    <tr>\n",
       "      <th>3</th>\n",
       "      <td>AL20240905104400</td>\n",
       "      <td>2024-09-29 15:41:39.308837</td>\n",
       "      <td>altaveu</td>\n",
       "      <td>europa</td>\n",
       "      <td>2024-09-05 10:44:00</td>\n",
       "      <td>afers exteriors</td>\n",
       "      <td>article</td>\n",
       "      <td>Pas endavant del conveni del Consell d’Europa ...</td>\n",
       "      <td>https://www.altaveu.com/actualitat/afers-exter...</td>\n",
       "      <td>2</td>\n",
       "    </tr>\n",
       "    <tr>\n",
       "      <th>4</th>\n",
       "      <td>AL20240926204600</td>\n",
       "      <td>2024-09-29 15:41:39.308837</td>\n",
       "      <td>altaveu</td>\n",
       "      <td>acord d'associació</td>\n",
       "      <td>2024-09-26 20:46:00</td>\n",
       "      <td>afers exteriors</td>\n",
       "      <td>article</td>\n",
       "      <td>Espot confia en el suport d’Espanya i Portugal...</td>\n",
       "      <td>https://www.altaveu.com/actualitat/afers-exter...</td>\n",
       "      <td>4</td>\n",
       "    </tr>\n",
       "  </tbody>\n",
       "</table>\n",
       "</div>"
      ],
      "text/plain": [
       "                 id             datetime_added  journal         search_term  \\\n",
       "0  AL20240928185200 2024-09-29 15:41:39.308837  altaveu              europa   \n",
       "1  AL20240916175300 2024-09-29 15:41:39.308837  altaveu              europa   \n",
       "2  AL20240908122700 2024-09-29 15:41:39.308837  altaveu              europa   \n",
       "3  AL20240905104400 2024-09-29 15:41:39.308837  altaveu              europa   \n",
       "4  AL20240926204600 2024-09-29 15:41:39.308837  altaveu  acord d'associació   \n",
       "\n",
       "     datetime_article         category     type  \\\n",
       "0 2024-09-28 18:52:00           esport  article   \n",
       "1 2024-09-16 17:53:00         politica  article   \n",
       "2 2024-09-08 12:27:00         politica  article   \n",
       "3 2024-09-05 10:44:00  afers exteriors  article   \n",
       "4 2024-09-26 20:46:00  afers exteriors  article   \n",
       "\n",
       "                                               title  \\\n",
       "0  Jordina Caminal s’emporta la Copa de Sud-Amèri...   \n",
       "1  SDP advoca per un espai transversal de centre ...   \n",
       "2  Acord en cercar “consens” i “confluències” sob...   \n",
       "3  Pas endavant del conveni del Consell d’Europa ...   \n",
       "4  Espot confia en el suport d’Espanya i Portugal...   \n",
       "\n",
       "                                                link  nb_of_comments  \n",
       "0  https://www.altaveu.com/actualitat/esport/jord...               0  \n",
       "1  https://www.altaveu.com/actualitat/politica/sd...               2  \n",
       "2  https://www.altaveu.com/actualitat/politica/ac...               3  \n",
       "3  https://www.altaveu.com/actualitat/afers-exter...               2  \n",
       "4  https://www.altaveu.com/actualitat/afers-exter...               4  "
      ]
     },
     "execution_count": 6,
     "metadata": {},
     "output_type": "execute_result"
    }
   ],
   "source": [
    "articles.head()"
   ]
  },
  {
   "cell_type": "code",
   "execution_count": 7,
   "metadata": {},
   "outputs": [
    {
     "data": {
      "text/html": [
       "<div>\n",
       "<style scoped>\n",
       "    .dataframe tbody tr th:only-of-type {\n",
       "        vertical-align: middle;\n",
       "    }\n",
       "\n",
       "    .dataframe tbody tr th {\n",
       "        vertical-align: top;\n",
       "    }\n",
       "\n",
       "    .dataframe thead th {\n",
       "        text-align: right;\n",
       "    }\n",
       "</style>\n",
       "<table border=\"1\" class=\"dataframe\">\n",
       "  <thead>\n",
       "    <tr style=\"text-align: right;\">\n",
       "      <th></th>\n",
       "      <th>comment_id</th>\n",
       "      <th>article_id</th>\n",
       "      <th>comment_author</th>\n",
       "      <th>comment_datetime_displayed</th>\n",
       "      <th>comment_datetime</th>\n",
       "      <th>comment_content</th>\n",
       "      <th>comment_in_answer_to</th>\n",
       "      <th>comment_likes</th>\n",
       "      <th>comment_dislikes</th>\n",
       "    </tr>\n",
       "  </thead>\n",
       "  <tbody>\n",
       "    <tr>\n",
       "      <th>0</th>\n",
       "      <td>AL20240916175300-224727</td>\n",
       "      <td>AL20240916175300</td>\n",
       "      <td>didiesc</td>\n",
       "      <td>Fa 12 dies</td>\n",
       "      <td>NaT</td>\n",
       "      <td>\" la formació ha expressat el ‘sí’ en el refer...</td>\n",
       "      <td>NaN</td>\n",
       "      <td>0.0</td>\n",
       "      <td>0.0</td>\n",
       "    </tr>\n",
       "    <tr>\n",
       "      <th>1</th>\n",
       "      <td>AL20240916175300-224606</td>\n",
       "      <td>AL20240916175300</td>\n",
       "      <td>Misco Jones</td>\n",
       "      <td>Fa 13 dies</td>\n",
       "      <td>NaT</td>\n",
       "      <td>Ara són de centre? SPD, l’arc de sant martí de...</td>\n",
       "      <td>NaN</td>\n",
       "      <td>21.0</td>\n",
       "      <td>10.0</td>\n",
       "    </tr>\n",
       "    <tr>\n",
       "      <th>2</th>\n",
       "      <td>AL20240908122700-223399</td>\n",
       "      <td>AL20240908122700</td>\n",
       "      <td>Pere</td>\n",
       "      <td>Fa 21 dies</td>\n",
       "      <td>NaT</td>\n",
       "      <td>El problema de DA es que creuen amb la seva ve...</td>\n",
       "      <td>NaN</td>\n",
       "      <td>7.0</td>\n",
       "      <td>1.0</td>\n",
       "    </tr>\n",
       "    <tr>\n",
       "      <th>3</th>\n",
       "      <td>AL20240908122700-223441</td>\n",
       "      <td>AL20240908122700</td>\n",
       "      <td>Pere</td>\n",
       "      <td>Fa 21 dies</td>\n",
       "      <td>NaT</td>\n",
       "      <td>Governar? però ja han començat a fer-ho?  Tu c...</td>\n",
       "      <td>NaN</td>\n",
       "      <td>3.0</td>\n",
       "      <td>2.0</td>\n",
       "    </tr>\n",
       "    <tr>\n",
       "      <th>4</th>\n",
       "      <td>AL20240908122700-223405</td>\n",
       "      <td>AL20240908122700</td>\n",
       "      <td>Xd</td>\n",
       "      <td>Fa 21 dies</td>\n",
       "      <td>NaT</td>\n",
       "      <td>Em sembla que confoneu escoltar amb governar. ...</td>\n",
       "      <td>NaN</td>\n",
       "      <td>7.0</td>\n",
       "      <td>7.0</td>\n",
       "    </tr>\n",
       "  </tbody>\n",
       "</table>\n",
       "</div>"
      ],
      "text/plain": [
       "                comment_id        article_id comment_author  \\\n",
       "0  AL20240916175300-224727  AL20240916175300        didiesc   \n",
       "1  AL20240916175300-224606  AL20240916175300    Misco Jones   \n",
       "2  AL20240908122700-223399  AL20240908122700           Pere   \n",
       "3  AL20240908122700-223441  AL20240908122700           Pere   \n",
       "4  AL20240908122700-223405  AL20240908122700             Xd   \n",
       "\n",
       "  comment_datetime_displayed comment_datetime  \\\n",
       "0                 Fa 12 dies              NaT   \n",
       "1                 Fa 13 dies              NaT   \n",
       "2                 Fa 21 dies              NaT   \n",
       "3                 Fa 21 dies              NaT   \n",
       "4                 Fa 21 dies              NaT   \n",
       "\n",
       "                                     comment_content comment_in_answer_to  \\\n",
       "0  \" la formació ha expressat el ‘sí’ en el refer...                  NaN   \n",
       "1  Ara són de centre? SPD, l’arc de sant martí de...                  NaN   \n",
       "2  El problema de DA es que creuen amb la seva ve...                  NaN   \n",
       "3  Governar? però ja han començat a fer-ho?  Tu c...                  NaN   \n",
       "4  Em sembla que confoneu escoltar amb governar. ...                  NaN   \n",
       "\n",
       "   comment_likes  comment_dislikes  \n",
       "0            0.0               0.0  \n",
       "1           21.0              10.0  \n",
       "2            7.0               1.0  \n",
       "3            3.0               2.0  \n",
       "4            7.0               7.0  "
      ]
     },
     "execution_count": 7,
     "metadata": {},
     "output_type": "execute_result"
    }
   ],
   "source": [
    "comments.head()"
   ]
  },
  {
   "cell_type": "code",
   "execution_count": 8,
   "metadata": {},
   "outputs": [
    {
     "name": "stdout",
     "output_type": "stream",
     "text": [
      "<class 'pandas.core.frame.DataFrame'>\n",
      "RangeIndex: 2413 entries, 0 to 2412\n",
      "Data columns (total 9 columns):\n",
      " #   Column                      Non-Null Count  Dtype         \n",
      "---  ------                      --------------  -----         \n",
      " 0   comment_id                  2413 non-null   object        \n",
      " 1   article_id                  2413 non-null   object        \n",
      " 2   comment_author              2413 non-null   object        \n",
      " 3   comment_datetime_displayed  2388 non-null   object        \n",
      " 4   comment_datetime            2154 non-null   datetime64[ns]\n",
      " 5   comment_content             2413 non-null   object        \n",
      " 6   comment_in_answer_to        953 non-null    object        \n",
      " 7   comment_likes               234 non-null    float64       \n",
      " 8   comment_dislikes            234 non-null    float64       \n",
      "dtypes: datetime64[ns](1), float64(2), object(6)\n",
      "memory usage: 169.8+ KB\n"
     ]
    }
   ],
   "source": [
    "comments.info()"
   ]
  },
  {
   "cell_type": "code",
   "execution_count": 9,
   "metadata": {},
   "outputs": [
    {
     "name": "stdout",
     "output_type": "stream",
     "text": [
      "953\n",
      "1460\n"
     ]
    }
   ],
   "source": [
    "print(len(comments[~comments['comment_in_answer_to'].isnull()]))\n",
    "print(len(comments[comments['comment_in_answer_to'].isnull()]))"
   ]
  },
  {
   "cell_type": "code",
   "execution_count": 10,
   "metadata": {},
   "outputs": [
    {
     "name": "stdout",
     "output_type": "stream",
     "text": [
      "<class 'pandas.core.frame.DataFrame'>\n",
      "RangeIndex: 488 entries, 0 to 487\n",
      "Data columns (total 10 columns):\n",
      " #   Column            Non-Null Count  Dtype         \n",
      "---  ------            --------------  -----         \n",
      " 0   id                488 non-null    object        \n",
      " 1   datetime_added    488 non-null    datetime64[ns]\n",
      " 2   journal           488 non-null    object        \n",
      " 3   search_term       488 non-null    object        \n",
      " 4   datetime_article  488 non-null    datetime64[ns]\n",
      " 5   category          488 non-null    object        \n",
      " 6   type              488 non-null    object        \n",
      " 7   title             488 non-null    object        \n",
      " 8   link              488 non-null    object        \n",
      " 9   nb_of_comments    488 non-null    int64         \n",
      "dtypes: datetime64[ns](2), int64(1), object(7)\n",
      "memory usage: 38.3+ KB\n"
     ]
    }
   ],
   "source": [
    "articles.info()"
   ]
  },
  {
   "cell_type": "code",
   "execution_count": 11,
   "metadata": {},
   "outputs": [
    {
     "name": "stdout",
     "output_type": "stream",
     "text": [
      "<class 'pandas.core.frame.DataFrame'>\n",
      "RangeIndex: 2413 entries, 0 to 2412\n",
      "Data columns (total 9 columns):\n",
      " #   Column                      Non-Null Count  Dtype         \n",
      "---  ------                      --------------  -----         \n",
      " 0   comment_id                  2413 non-null   object        \n",
      " 1   article_id                  2413 non-null   object        \n",
      " 2   comment_author              2413 non-null   object        \n",
      " 3   comment_datetime_displayed  2388 non-null   object        \n",
      " 4   comment_datetime            2154 non-null   datetime64[ns]\n",
      " 5   comment_content             2413 non-null   object        \n",
      " 6   comment_in_answer_to        953 non-null    object        \n",
      " 7   comment_likes               234 non-null    float64       \n",
      " 8   comment_dislikes            234 non-null    float64       \n",
      "dtypes: datetime64[ns](1), float64(2), object(6)\n",
      "memory usage: 169.8+ KB\n"
     ]
    }
   ],
   "source": [
    "comments.info()"
   ]
  },
  {
   "cell_type": "markdown",
   "metadata": {},
   "source": [
    "How many articles have comments?"
   ]
  },
  {
   "cell_type": "code",
   "execution_count": 12,
   "metadata": {},
   "outputs": [
    {
     "name": "stdout",
     "output_type": "stream",
     "text": [
      "Number of articles: 488\n",
      "Number of articles with comments: 235\n"
     ]
    }
   ],
   "source": [
    "print(f\"Number of articles: {len(articles)}\")\n",
    "print(f\"Number of articles with comments: {len(articles[articles['nb_of_comments'] > 0])}\")"
   ]
  },
  {
   "cell_type": "markdown",
   "metadata": {},
   "source": [
    "How many articles for each search term?"
   ]
  },
  {
   "cell_type": "code",
   "execution_count": 13,
   "metadata": {},
   "outputs": [
    {
     "data": {
      "text/plain": [
       "search_term\n",
       "acord d'associació     6\n",
       "avortament            13\n",
       "lloguer               20\n",
       "pensions              26\n",
       "llengua               29\n",
       "CASS                  37\n",
       "unió europea          37\n",
       "dones                 62\n",
       "habitatge             76\n",
       "europa                89\n",
       "català                93\n",
       "dtype: int64"
      ]
     },
     "execution_count": 13,
     "metadata": {},
     "output_type": "execute_result"
    }
   ],
   "source": [
    "articles_per_search_term = articles.groupby('search_term').size().sort_values()\n",
    "articles_per_search_term"
   ]
  },
  {
   "cell_type": "code",
   "execution_count": 14,
   "metadata": {},
   "outputs": [
    {
     "data": {
      "image/png": "[encoded data removed]",
      "text/plain": [
       "<Figure size 1500x400 with 1 Axes>"
      ]
     },
     "metadata": {},
     "output_type": "display_data"
    }
   ],
   "source": [
    "fig, ax = plt.subplots(figsize=(15,4))\n",
    "ax.bar(list(articles_per_search_term.index), articles_per_search_term)\n",
    "ax.set_title(\"Number of articles per each search term.\")\n",
    "plt.show()"
   ]
  },
  {
   "cell_type": "markdown",
   "metadata": {},
   "source": [
    "How about for each topic?"
   ]
  },
  {
   "cell_type": "code",
   "execution_count": 15,
   "metadata": {},
   "outputs": [],
   "source": [
    "topics = {\n",
    "    'europa':               'UE',\n",
    "    'unió europea':         'UE',\n",
    "    \"acord d'associació\":   'UE',\n",
    "    'pensions':             'pensions',\n",
    "    'CASS':                 'pensions',\n",
    "    'català':               'catala',\n",
    "    'llengua':              'catala',\n",
    "    'avortament':           'avortament',\n",
    "    'dones':                'avortament',\n",
    "    'habitatge':            'habitatge',\n",
    "    'lloguer':              'habitatge',\n",
    "    'inversió extrangera':  'habitatge'\n",
    "}"
   ]
  },
  {
   "cell_type": "code",
   "execution_count": 16,
   "metadata": {},
   "outputs": [],
   "source": [
    "articles['topic'] = articles['search_term'].apply(lambda search_term: topics[search_term])"
   ]
  },
  {
   "cell_type": "code",
   "execution_count": 17,
   "metadata": {},
   "outputs": [
    {
     "data": {
      "text/plain": [
       "topic\n",
       "pensions       63\n",
       "avortament     75\n",
       "habitatge      96\n",
       "catala        122\n",
       "UE            132\n",
       "dtype: int64"
      ]
     },
     "execution_count": 17,
     "metadata": {},
     "output_type": "execute_result"
    }
   ],
   "source": [
    "articles_per_topic = articles.groupby('topic').size().sort_values()\n",
    "articles_per_topic"
   ]
  },
  {
   "cell_type": "code",
   "execution_count": 18,
   "metadata": {},
   "outputs": [
    {
     "data": {
      "image/png": "[encoded data removed]",
      "text/plain": [
       "<Figure size 600x400 with 1 Axes>"
      ]
     },
     "metadata": {},
     "output_type": "display_data"
    }
   ],
   "source": [
    "fig, ax = plt.subplots(figsize=(6,4))\n",
    "ax.bar(list(articles_per_topic.index), articles_per_topic)\n",
    "ax.set_title(\"Number of articles per each topic.\")\n",
    "plt.show()"
   ]
  },
  {
   "cell_type": "markdown",
   "metadata": {},
   "source": [
    "_The UE and the Catalan language law are the most current topics! Seeing as this dataset is from recent articles this distribution makes sense._"
   ]
  },
  {
   "cell_type": "markdown",
   "metadata": {},
   "source": [
    "How about the type of article? opinion? interview? simple news?"
   ]
  },
  {
   "cell_type": "code",
   "execution_count": 19,
   "metadata": {},
   "outputs": [
    {
     "data": {
      "text/plain": [
       "type\n",
       "article      435\n",
       "opinion       48\n",
       "interview      3\n",
       "report         2\n",
       "Name: count, dtype: int64"
      ]
     },
     "execution_count": 19,
     "metadata": {},
     "output_type": "execute_result"
    }
   ],
   "source": [
    "articles['type'].value_counts()"
   ]
  },
  {
   "cell_type": "markdown",
   "metadata": {},
   "source": [
    "How many comments do the opinion articles have vs. the news?"
   ]
  },
  {
   "cell_type": "code",
   "execution_count": 20,
   "metadata": {},
   "outputs": [],
   "source": [
    "comments['article_type'] = comments.join(articles.set_index('id'), on='article_id', lsuffix='article')['type']"
   ]
  },
  {
   "cell_type": "code",
   "execution_count": 21,
   "metadata": {},
   "outputs": [
    {
     "data": {
      "text/plain": [
       "article_type\n",
       "article    2155\n",
       "opinion     226\n",
       "report       32\n",
       "dtype: int64"
      ]
     },
     "execution_count": 21,
     "metadata": {},
     "output_type": "execute_result"
    }
   ],
   "source": [
    "comments.groupby('article_type').size()"
   ]
  },
  {
   "cell_type": "markdown",
   "metadata": {},
   "source": [
    "How many comments total for each topic?"
   ]
  },
  {
   "cell_type": "code",
   "execution_count": 22,
   "metadata": {},
   "outputs": [],
   "source": [
    "comments['topic'] = comments.join(articles.set_index('id'), on='article_id', lsuffix='article')['topic']"
   ]
  },
  {
   "cell_type": "code",
   "execution_count": 23,
   "metadata": {},
   "outputs": [
    {
     "data": {
      "text/plain": [
       "topic\n",
       "pensions      321\n",
       "avortament    343\n",
       "catala        519\n",
       "habitatge     550\n",
       "UE            680\n",
       "dtype: int64"
      ]
     },
     "execution_count": 23,
     "metadata": {},
     "output_type": "execute_result"
    }
   ],
   "source": [
    "comments_per_topic = comments.groupby('topic').size().sort_values()\n",
    "comments_per_topic"
   ]
  },
  {
   "cell_type": "code",
   "execution_count": 24,
   "metadata": {},
   "outputs": [
    {
     "data": {
      "image/png": "[encoded data removed]",
      "text/plain": [
       "<Figure size 600x400 with 1 Axes>"
      ]
     },
     "metadata": {},
     "output_type": "display_data"
    }
   ],
   "source": [
    "fig, ax = plt.subplots(figsize=(6,4))\n",
    "ax.bar(list(comments_per_topic.index), comments_per_topic)\n",
    "ax.set_title(\"Number of comments per each topic.\")\n",
    "plt.show()"
   ]
  },
  {
   "cell_type": "code",
   "execution_count": 25,
   "metadata": {},
   "outputs": [],
   "source": [
    "df_comments_per_topic = comments_per_topic.to_frame(name='nb_of_comments')\n",
    "df_articles_per_topic = articles_per_topic.to_frame(name='nb_of_articles')"
   ]
  },
  {
   "cell_type": "code",
   "execution_count": 26,
   "metadata": {},
   "outputs": [
    {
     "data": {
      "text/html": [
       "<div>\n",
       "<style scoped>\n",
       "    .dataframe tbody tr th:only-of-type {\n",
       "        vertical-align: middle;\n",
       "    }\n",
       "\n",
       "    .dataframe tbody tr th {\n",
       "        vertical-align: top;\n",
       "    }\n",
       "\n",
       "    .dataframe thead th {\n",
       "        text-align: right;\n",
       "    }\n",
       "</style>\n",
       "<table border=\"1\" class=\"dataframe\">\n",
       "  <thead>\n",
       "    <tr style=\"text-align: right;\">\n",
       "      <th></th>\n",
       "      <th>nb_of_articles</th>\n",
       "      <th>nb_of_comments</th>\n",
       "    </tr>\n",
       "    <tr>\n",
       "      <th>topic</th>\n",
       "      <th></th>\n",
       "      <th></th>\n",
       "    </tr>\n",
       "  </thead>\n",
       "  <tbody>\n",
       "    <tr>\n",
       "      <th>pensions</th>\n",
       "      <td>63</td>\n",
       "      <td>321</td>\n",
       "    </tr>\n",
       "    <tr>\n",
       "      <th>avortament</th>\n",
       "      <td>75</td>\n",
       "      <td>343</td>\n",
       "    </tr>\n",
       "    <tr>\n",
       "      <th>habitatge</th>\n",
       "      <td>96</td>\n",
       "      <td>550</td>\n",
       "    </tr>\n",
       "    <tr>\n",
       "      <th>catala</th>\n",
       "      <td>122</td>\n",
       "      <td>519</td>\n",
       "    </tr>\n",
       "    <tr>\n",
       "      <th>UE</th>\n",
       "      <td>132</td>\n",
       "      <td>680</td>\n",
       "    </tr>\n",
       "  </tbody>\n",
       "</table>\n",
       "</div>"
      ],
      "text/plain": [
       "            nb_of_articles  nb_of_comments\n",
       "topic                                     \n",
       "pensions                63             321\n",
       "avortament              75             343\n",
       "habitatge               96             550\n",
       "catala                 122             519\n",
       "UE                     132             680"
      ]
     },
     "execution_count": 26,
     "metadata": {},
     "output_type": "execute_result"
    }
   ],
   "source": [
    "topic_presence = df_articles_per_topic.join(df_comments_per_topic)\n",
    "topic_presence"
   ]
  },
  {
   "cell_type": "code",
   "execution_count": 27,
   "metadata": {},
   "outputs": [
    {
     "data": {
      "text/html": [
       "<div>\n",
       "<style scoped>\n",
       "    .dataframe tbody tr th:only-of-type {\n",
       "        vertical-align: middle;\n",
       "    }\n",
       "\n",
       "    .dataframe tbody tr th {\n",
       "        vertical-align: top;\n",
       "    }\n",
       "\n",
       "    .dataframe thead th {\n",
       "        text-align: right;\n",
       "    }\n",
       "</style>\n",
       "<table border=\"1\" class=\"dataframe\">\n",
       "  <thead>\n",
       "    <tr style=\"text-align: right;\">\n",
       "      <th></th>\n",
       "      <th>nb_of_articles</th>\n",
       "      <th>nb_of_comments</th>\n",
       "      <th>avg_comments</th>\n",
       "    </tr>\n",
       "    <tr>\n",
       "      <th>topic</th>\n",
       "      <th></th>\n",
       "      <th></th>\n",
       "      <th></th>\n",
       "    </tr>\n",
       "  </thead>\n",
       "  <tbody>\n",
       "    <tr>\n",
       "      <th>catala</th>\n",
       "      <td>122</td>\n",
       "      <td>519</td>\n",
       "      <td>4.254098</td>\n",
       "    </tr>\n",
       "    <tr>\n",
       "      <th>avortament</th>\n",
       "      <td>75</td>\n",
       "      <td>343</td>\n",
       "      <td>4.573333</td>\n",
       "    </tr>\n",
       "    <tr>\n",
       "      <th>pensions</th>\n",
       "      <td>63</td>\n",
       "      <td>321</td>\n",
       "      <td>5.095238</td>\n",
       "    </tr>\n",
       "    <tr>\n",
       "      <th>UE</th>\n",
       "      <td>132</td>\n",
       "      <td>680</td>\n",
       "      <td>5.151515</td>\n",
       "    </tr>\n",
       "    <tr>\n",
       "      <th>habitatge</th>\n",
       "      <td>96</td>\n",
       "      <td>550</td>\n",
       "      <td>5.729167</td>\n",
       "    </tr>\n",
       "  </tbody>\n",
       "</table>\n",
       "</div>"
      ],
      "text/plain": [
       "            nb_of_articles  nb_of_comments  avg_comments\n",
       "topic                                                   \n",
       "catala                 122             519      4.254098\n",
       "avortament              75             343      4.573333\n",
       "pensions                63             321      5.095238\n",
       "UE                     132             680      5.151515\n",
       "habitatge               96             550      5.729167"
      ]
     },
     "execution_count": 27,
     "metadata": {},
     "output_type": "execute_result"
    }
   ],
   "source": [
    "topic_presence['avg_comments'] = topic_presence['nb_of_comments']/topic_presence['nb_of_articles']\n",
    "topic_presence = topic_presence.sort_values('avg_comments')\n",
    "topic_presence"
   ]
  },
  {
   "cell_type": "code",
   "execution_count": 28,
   "metadata": {},
   "outputs": [
    {
     "data": {
      "image/png": "[encoded data removed]",
      "text/plain": [
       "<Figure size 600x400 with 1 Axes>"
      ]
     },
     "metadata": {},
     "output_type": "display_data"
    }
   ],
   "source": [
    "fig, ax = plt.subplots(figsize=(6,4))\n",
    "ax.bar(list(topic_presence.index), topic_presence['avg_comments'])\n",
    "ax.set_title(\"Average number of comments per topic.\")\n",
    "plt.show()"
   ]
  },
  {
   "cell_type": "markdown",
   "metadata": {},
   "source": [
    "## Adding article title to the input text."
   ]
  },
  {
   "cell_type": "markdown",
   "metadata": {},
   "source": [
    "For the purpose of training the model, it might be beneficial for the input text to include the article title, so as to give context to what the comments are referencing."
   ]
  },
  {
   "cell_type": "code",
   "execution_count": 29,
   "metadata": {},
   "outputs": [
    {
     "data": {
      "text/html": [
       "<div>\n",
       "<style scoped>\n",
       "    .dataframe tbody tr th:only-of-type {\n",
       "        vertical-align: middle;\n",
       "    }\n",
       "\n",
       "    .dataframe tbody tr th {\n",
       "        vertical-align: top;\n",
       "    }\n",
       "\n",
       "    .dataframe thead th {\n",
       "        text-align: right;\n",
       "    }\n",
       "</style>\n",
       "<table border=\"1\" class=\"dataframe\">\n",
       "  <thead>\n",
       "    <tr style=\"text-align: right;\">\n",
       "      <th></th>\n",
       "      <th>id</th>\n",
       "      <th>datetime_added</th>\n",
       "      <th>journal</th>\n",
       "      <th>search_term</th>\n",
       "      <th>datetime_article</th>\n",
       "      <th>category</th>\n",
       "      <th>type</th>\n",
       "      <th>title</th>\n",
       "      <th>link</th>\n",
       "      <th>nb_of_comments</th>\n",
       "      <th>topic</th>\n",
       "    </tr>\n",
       "  </thead>\n",
       "  <tbody>\n",
       "    <tr>\n",
       "      <th>0</th>\n",
       "      <td>AL20240928185200</td>\n",
       "      <td>2024-09-29 15:41:39.308837</td>\n",
       "      <td>altaveu</td>\n",
       "      <td>europa</td>\n",
       "      <td>2024-09-28 18:52:00</td>\n",
       "      <td>esport</td>\n",
       "      <td>article</td>\n",
       "      <td>Jordina Caminal s’emporta la Copa de Sud-Amèri...</td>\n",
       "      <td>https://www.altaveu.com/actualitat/esport/jord...</td>\n",
       "      <td>0</td>\n",
       "      <td>UE</td>\n",
       "    </tr>\n",
       "    <tr>\n",
       "      <th>1</th>\n",
       "      <td>AL20240916175300</td>\n",
       "      <td>2024-09-29 15:41:39.308837</td>\n",
       "      <td>altaveu</td>\n",
       "      <td>europa</td>\n",
       "      <td>2024-09-16 17:53:00</td>\n",
       "      <td>politica</td>\n",
       "      <td>article</td>\n",
       "      <td>SDP advoca per un espai transversal de centre ...</td>\n",
       "      <td>https://www.altaveu.com/actualitat/politica/sd...</td>\n",
       "      <td>2</td>\n",
       "      <td>UE</td>\n",
       "    </tr>\n",
       "    <tr>\n",
       "      <th>2</th>\n",
       "      <td>AL20240908122700</td>\n",
       "      <td>2024-09-29 15:41:39.308837</td>\n",
       "      <td>altaveu</td>\n",
       "      <td>europa</td>\n",
       "      <td>2024-09-08 12:27:00</td>\n",
       "      <td>politica</td>\n",
       "      <td>article</td>\n",
       "      <td>Acord en cercar “consens” i “confluències” sob...</td>\n",
       "      <td>https://www.altaveu.com/actualitat/politica/ac...</td>\n",
       "      <td>3</td>\n",
       "      <td>UE</td>\n",
       "    </tr>\n",
       "    <tr>\n",
       "      <th>3</th>\n",
       "      <td>AL20240905104400</td>\n",
       "      <td>2024-09-29 15:41:39.308837</td>\n",
       "      <td>altaveu</td>\n",
       "      <td>europa</td>\n",
       "      <td>2024-09-05 10:44:00</td>\n",
       "      <td>afers exteriors</td>\n",
       "      <td>article</td>\n",
       "      <td>Pas endavant del conveni del Consell d’Europa ...</td>\n",
       "      <td>https://www.altaveu.com/actualitat/afers-exter...</td>\n",
       "      <td>2</td>\n",
       "      <td>UE</td>\n",
       "    </tr>\n",
       "    <tr>\n",
       "      <th>4</th>\n",
       "      <td>AL20240926204600</td>\n",
       "      <td>2024-09-29 15:41:39.308837</td>\n",
       "      <td>altaveu</td>\n",
       "      <td>acord d'associació</td>\n",
       "      <td>2024-09-26 20:46:00</td>\n",
       "      <td>afers exteriors</td>\n",
       "      <td>article</td>\n",
       "      <td>Espot confia en el suport d’Espanya i Portugal...</td>\n",
       "      <td>https://www.altaveu.com/actualitat/afers-exter...</td>\n",
       "      <td>4</td>\n",
       "      <td>UE</td>\n",
       "    </tr>\n",
       "  </tbody>\n",
       "</table>\n",
       "</div>"
      ],
      "text/plain": [
       "                 id             datetime_added  journal         search_term  \\\n",
       "0  AL20240928185200 2024-09-29 15:41:39.308837  altaveu              europa   \n",
       "1  AL20240916175300 2024-09-29 15:41:39.308837  altaveu              europa   \n",
       "2  AL20240908122700 2024-09-29 15:41:39.308837  altaveu              europa   \n",
       "3  AL20240905104400 2024-09-29 15:41:39.308837  altaveu              europa   \n",
       "4  AL20240926204600 2024-09-29 15:41:39.308837  altaveu  acord d'associació   \n",
       "\n",
       "     datetime_article         category     type  \\\n",
       "0 2024-09-28 18:52:00           esport  article   \n",
       "1 2024-09-16 17:53:00         politica  article   \n",
       "2 2024-09-08 12:27:00         politica  article   \n",
       "3 2024-09-05 10:44:00  afers exteriors  article   \n",
       "4 2024-09-26 20:46:00  afers exteriors  article   \n",
       "\n",
       "                                               title  \\\n",
       "0  Jordina Caminal s’emporta la Copa de Sud-Amèri...   \n",
       "1  SDP advoca per un espai transversal de centre ...   \n",
       "2  Acord en cercar “consens” i “confluències” sob...   \n",
       "3  Pas endavant del conveni del Consell d’Europa ...   \n",
       "4  Espot confia en el suport d’Espanya i Portugal...   \n",
       "\n",
       "                                                link  nb_of_comments topic  \n",
       "0  https://www.altaveu.com/actualitat/esport/jord...               0    UE  \n",
       "1  https://www.altaveu.com/actualitat/politica/sd...               2    UE  \n",
       "2  https://www.altaveu.com/actualitat/politica/ac...               3    UE  \n",
       "3  https://www.altaveu.com/actualitat/afers-exter...               2    UE  \n",
       "4  https://www.altaveu.com/actualitat/afers-exter...               4    UE  "
      ]
     },
     "execution_count": 29,
     "metadata": {},
     "output_type": "execute_result"
    }
   ],
   "source": [
    "articles.head()"
   ]
  },
  {
   "cell_type": "code",
   "execution_count": 30,
   "metadata": {},
   "outputs": [],
   "source": [
    "comments['article_title'] = comments.join(articles.set_index('id'), on='article_id', lsuffix='comments')['title']"
   ]
  },
  {
   "cell_type": "code",
   "execution_count": 31,
   "metadata": {},
   "outputs": [
    {
     "data": {
      "text/html": [
       "<div>\n",
       "<style scoped>\n",
       "    .dataframe tbody tr th:only-of-type {\n",
       "        vertical-align: middle;\n",
       "    }\n",
       "\n",
       "    .dataframe tbody tr th {\n",
       "        vertical-align: top;\n",
       "    }\n",
       "\n",
       "    .dataframe thead th {\n",
       "        text-align: right;\n",
       "    }\n",
       "</style>\n",
       "<table border=\"1\" class=\"dataframe\">\n",
       "  <thead>\n",
       "    <tr style=\"text-align: right;\">\n",
       "      <th></th>\n",
       "      <th>comment_id</th>\n",
       "      <th>article_id</th>\n",
       "      <th>comment_author</th>\n",
       "      <th>comment_datetime_displayed</th>\n",
       "      <th>comment_datetime</th>\n",
       "      <th>comment_content</th>\n",
       "      <th>comment_in_answer_to</th>\n",
       "      <th>comment_likes</th>\n",
       "      <th>comment_dislikes</th>\n",
       "      <th>article_type</th>\n",
       "      <th>topic</th>\n",
       "      <th>article_title</th>\n",
       "    </tr>\n",
       "  </thead>\n",
       "  <tbody>\n",
       "    <tr>\n",
       "      <th>0</th>\n",
       "      <td>AL20240916175300-224727</td>\n",
       "      <td>AL20240916175300</td>\n",
       "      <td>didiesc</td>\n",
       "      <td>Fa 12 dies</td>\n",
       "      <td>NaT</td>\n",
       "      <td>\" la formació ha expressat el ‘sí’ en el refer...</td>\n",
       "      <td>NaN</td>\n",
       "      <td>0.0</td>\n",
       "      <td>0.0</td>\n",
       "      <td>article</td>\n",
       "      <td>UE</td>\n",
       "      <td>SDP advoca per un espai transversal de centre ...</td>\n",
       "    </tr>\n",
       "    <tr>\n",
       "      <th>1</th>\n",
       "      <td>AL20240916175300-224606</td>\n",
       "      <td>AL20240916175300</td>\n",
       "      <td>Misco Jones</td>\n",
       "      <td>Fa 13 dies</td>\n",
       "      <td>NaT</td>\n",
       "      <td>Ara són de centre? SPD, l’arc de sant martí de...</td>\n",
       "      <td>NaN</td>\n",
       "      <td>21.0</td>\n",
       "      <td>10.0</td>\n",
       "      <td>article</td>\n",
       "      <td>UE</td>\n",
       "      <td>SDP advoca per un espai transversal de centre ...</td>\n",
       "    </tr>\n",
       "    <tr>\n",
       "      <th>2</th>\n",
       "      <td>AL20240908122700-223399</td>\n",
       "      <td>AL20240908122700</td>\n",
       "      <td>Pere</td>\n",
       "      <td>Fa 21 dies</td>\n",
       "      <td>NaT</td>\n",
       "      <td>El problema de DA es que creuen amb la seva ve...</td>\n",
       "      <td>NaN</td>\n",
       "      <td>7.0</td>\n",
       "      <td>1.0</td>\n",
       "      <td>article</td>\n",
       "      <td>UE</td>\n",
       "      <td>Acord en cercar “consens” i “confluències” sob...</td>\n",
       "    </tr>\n",
       "    <tr>\n",
       "      <th>3</th>\n",
       "      <td>AL20240908122700-223441</td>\n",
       "      <td>AL20240908122700</td>\n",
       "      <td>Pere</td>\n",
       "      <td>Fa 21 dies</td>\n",
       "      <td>NaT</td>\n",
       "      <td>Governar? però ja han començat a fer-ho?  Tu c...</td>\n",
       "      <td>NaN</td>\n",
       "      <td>3.0</td>\n",
       "      <td>2.0</td>\n",
       "      <td>article</td>\n",
       "      <td>UE</td>\n",
       "      <td>Acord en cercar “consens” i “confluències” sob...</td>\n",
       "    </tr>\n",
       "    <tr>\n",
       "      <th>4</th>\n",
       "      <td>AL20240908122700-223405</td>\n",
       "      <td>AL20240908122700</td>\n",
       "      <td>Xd</td>\n",
       "      <td>Fa 21 dies</td>\n",
       "      <td>NaT</td>\n",
       "      <td>Em sembla que confoneu escoltar amb governar. ...</td>\n",
       "      <td>NaN</td>\n",
       "      <td>7.0</td>\n",
       "      <td>7.0</td>\n",
       "      <td>article</td>\n",
       "      <td>UE</td>\n",
       "      <td>Acord en cercar “consens” i “confluències” sob...</td>\n",
       "    </tr>\n",
       "  </tbody>\n",
       "</table>\n",
       "</div>"
      ],
      "text/plain": [
       "                comment_id        article_id comment_author  \\\n",
       "0  AL20240916175300-224727  AL20240916175300        didiesc   \n",
       "1  AL20240916175300-224606  AL20240916175300    Misco Jones   \n",
       "2  AL20240908122700-223399  AL20240908122700           Pere   \n",
       "3  AL20240908122700-223441  AL20240908122700           Pere   \n",
       "4  AL20240908122700-223405  AL20240908122700             Xd   \n",
       "\n",
       "  comment_datetime_displayed comment_datetime  \\\n",
       "0                 Fa 12 dies              NaT   \n",
       "1                 Fa 13 dies              NaT   \n",
       "2                 Fa 21 dies              NaT   \n",
       "3                 Fa 21 dies              NaT   \n",
       "4                 Fa 21 dies              NaT   \n",
       "\n",
       "                                     comment_content comment_in_answer_to  \\\n",
       "0  \" la formació ha expressat el ‘sí’ en el refer...                  NaN   \n",
       "1  Ara són de centre? SPD, l’arc de sant martí de...                  NaN   \n",
       "2  El problema de DA es que creuen amb la seva ve...                  NaN   \n",
       "3  Governar? però ja han començat a fer-ho?  Tu c...                  NaN   \n",
       "4  Em sembla que confoneu escoltar amb governar. ...                  NaN   \n",
       "\n",
       "   comment_likes  comment_dislikes article_type topic  \\\n",
       "0            0.0               0.0      article    UE   \n",
       "1           21.0              10.0      article    UE   \n",
       "2            7.0               1.0      article    UE   \n",
       "3            3.0               2.0      article    UE   \n",
       "4            7.0               7.0      article    UE   \n",
       "\n",
       "                                       article_title  \n",
       "0  SDP advoca per un espai transversal de centre ...  \n",
       "1  SDP advoca per un espai transversal de centre ...  \n",
       "2  Acord en cercar “consens” i “confluències” sob...  \n",
       "3  Acord en cercar “consens” i “confluències” sob...  \n",
       "4  Acord en cercar “consens” i “confluències” sob...  "
      ]
     },
     "execution_count": 31,
     "metadata": {},
     "output_type": "execute_result"
    }
   ],
   "source": [
    "comments.head()"
   ]
  },
  {
   "cell_type": "code",
   "execution_count": 32,
   "metadata": {},
   "outputs": [],
   "source": [
    "comments['input_text'] = comments.apply(lambda row: f\"[ARTICLE TITLE] {row['article_title']} {row['comment_content']}\", axis=1)"
   ]
  },
  {
   "cell_type": "code",
   "execution_count": 33,
   "metadata": {},
   "outputs": [
    {
     "data": {
      "text/plain": [
       "0       [ARTICLE TITLE] SDP advoca per un espai transv...\n",
       "1       [ARTICLE TITLE] SDP advoca per un espai transv...\n",
       "2       [ARTICLE TITLE] Acord en cercar “consens” i “c...\n",
       "3       [ARTICLE TITLE] Acord en cercar “consens” i “c...\n",
       "4       [ARTICLE TITLE] Acord en cercar “consens” i “c...\n",
       "                              ...                        \n",
       "2408    [ARTICLE TITLE] L’atropellament mortal força c...\n",
       "2409    [ARTICLE TITLE] L’atropellament mortal força c...\n",
       "2410    [ARTICLE TITLE] L’atropellament mortal força c...\n",
       "2411    [ARTICLE TITLE] L’atropellament mortal força c...\n",
       "2412    [ARTICLE TITLE] L’atropellament mortal força c...\n",
       "Name: input_text, Length: 2413, dtype: object"
      ]
     },
     "execution_count": 33,
     "metadata": {},
     "output_type": "execute_result"
    }
   ],
   "source": [
    "comments['input_text']"
   ]
  },
  {
   "cell_type": "markdown",
   "metadata": {},
   "source": [
    "## Labeling"
   ]
  },
  {
   "cell_type": "markdown",
   "metadata": {},
   "source": [
    "### Getting a subset of the data to manually label"
   ]
  },
  {
   "cell_type": "markdown",
   "metadata": {},
   "source": [
    "We can obtain a subset using different approaches:\n",
    "\n",
    "The goal is to obtain a diverse subset that will represent the main dataset as much as possible.\n",
    "\n",
    "We have comments based on:\n",
    "\n",
    "- The article they were posted in.\n",
    "- The topic they relate to."
   ]
  },
  {
   "cell_type": "markdown",
   "metadata": {},
   "source": [
    "We could choose to get more comments from a more prominent topic, but since we want our model to have variety for each of the topics to be able to understand them all well, we'll choose 50 comments for each topic."
   ]
  },
  {
   "cell_type": "markdown",
   "metadata": {},
   "source": [
    "For this initial phase of the project, we'll discard the comments that are in inswer to other comments. Treating them individually would lead to noise and misdirecting sentiments."
   ]
  },
  {
   "cell_type": "markdown",
   "metadata": {},
   "source": [
    "We will also only consider artcles that are not opinion pieces, as those should be treated differently."
   ]
  },
  {
   "cell_type": "code",
   "execution_count": 34,
   "metadata": {},
   "outputs": [],
   "source": [
    "samples = []\n",
    "for topic in ['UE', 'pensions', 'catala', 'avortament', 'habitatge']:\n",
    "    samples.append(comments[(comments['topic'] == topic) & (comments['comment_in_answer_to'].isnull()) & (comments['article_type'] == \"article\")].sample(n=50, random_state=42))\n",
    "\n",
    "comments_subset = pd.concat(samples, ignore_index=True)"
   ]
  },
  {
   "cell_type": "code",
   "execution_count": 35,
   "metadata": {},
   "outputs": [
    {
     "data": {
      "text/plain": [
       "(250, 13)"
      ]
     },
     "execution_count": 35,
     "metadata": {},
     "output_type": "execute_result"
    }
   ],
   "source": [
    "comments_subset.shape"
   ]
  },
  {
   "cell_type": "code",
   "execution_count": 36,
   "metadata": {},
   "outputs": [
    {
     "data": {
      "text/plain": [
       "topic\n",
       "UE            50\n",
       "avortament    50\n",
       "catala        50\n",
       "habitatge     50\n",
       "pensions      50\n",
       "dtype: int64"
      ]
     },
     "execution_count": 36,
     "metadata": {},
     "output_type": "execute_result"
    }
   ],
   "source": [
    "comments_subset.groupby('topic').size()"
   ]
  },
  {
   "cell_type": "markdown",
   "metadata": {},
   "source": [
    "### Keeping only the needed columns"
   ]
  },
  {
   "cell_type": "markdown",
   "metadata": {},
   "source": [
    "To be able to manually label the dataset, before saving it to a file format where we can easily manipulate it manually, we'll go ahead and only keep the columns that are strictly necessary."
   ]
  },
  {
   "cell_type": "code",
   "execution_count": 37,
   "metadata": {},
   "outputs": [
    {
     "data": {
      "text/html": [
       "<div>\n",
       "<style scoped>\n",
       "    .dataframe tbody tr th:only-of-type {\n",
       "        vertical-align: middle;\n",
       "    }\n",
       "\n",
       "    .dataframe tbody tr th {\n",
       "        vertical-align: top;\n",
       "    }\n",
       "\n",
       "    .dataframe thead th {\n",
       "        text-align: right;\n",
       "    }\n",
       "</style>\n",
       "<table border=\"1\" class=\"dataframe\">\n",
       "  <thead>\n",
       "    <tr style=\"text-align: right;\">\n",
       "      <th></th>\n",
       "      <th>comment_id</th>\n",
       "      <th>article_id</th>\n",
       "      <th>comment_author</th>\n",
       "      <th>comment_datetime_displayed</th>\n",
       "      <th>comment_datetime</th>\n",
       "      <th>comment_content</th>\n",
       "      <th>comment_in_answer_to</th>\n",
       "      <th>comment_likes</th>\n",
       "      <th>comment_dislikes</th>\n",
       "      <th>article_type</th>\n",
       "      <th>topic</th>\n",
       "      <th>article_title</th>\n",
       "      <th>input_text</th>\n",
       "    </tr>\n",
       "  </thead>\n",
       "  <tbody>\n",
       "    <tr>\n",
       "      <th>0</th>\n",
       "      <td>DI20240928055300-19060429</td>\n",
       "      <td>DI20240928055300</td>\n",
       "      <td>la viga i la palla</td>\n",
       "      <td>9/28/2024, 5:06:57 AM</td>\n",
       "      <td>2024-09-28 05:06:57</td>\n",
       "      <td>Això del atac a civils inclou lo que heu fet a...</td>\n",
       "      <td>NaN</td>\n",
       "      <td>NaN</td>\n",
       "      <td>NaN</td>\n",
       "      <td>article</td>\n",
       "      <td>UE</td>\n",
       "      <td>Espot defensa a l’ONU que “res no justifica l’...</td>\n",
       "      <td>[ARTICLE TITLE] Espot defensa a l’ONU que “res...</td>\n",
       "    </tr>\n",
       "    <tr>\n",
       "      <th>1</th>\n",
       "      <td>AL20240920205600-225417</td>\n",
       "      <td>AL20240920205600</td>\n",
       "      <td>Van der Lying</td>\n",
       "      <td>Fa 2 dies</td>\n",
       "      <td>NaT</td>\n",
       "      <td>On estan aquestes garanties? Jo no les vec enl...</td>\n",
       "      <td>NaN</td>\n",
       "      <td>9.0</td>\n",
       "      <td>0.0</td>\n",
       "      <td>article</td>\n",
       "      <td>UE</td>\n",
       "      <td>L’Elisi assegura que l’acord d’associació “no ...</td>\n",
       "      <td>[ARTICLE TITLE] L’Elisi assegura que l’acord d...</td>\n",
       "    </tr>\n",
       "    <tr>\n",
       "      <th>2</th>\n",
       "      <td>DI20240918054400-16312485</td>\n",
       "      <td>DI20240918054400</td>\n",
       "      <td>Josep</td>\n",
       "      <td>9/17/2024, 11:27:17 PM</td>\n",
       "      <td>2024-09-17 23:27:17</td>\n",
       "      <td>Ben fet!.</td>\n",
       "      <td>NaN</td>\n",
       "      <td>NaN</td>\n",
       "      <td>NaN</td>\n",
       "      <td>article</td>\n",
       "      <td>UE</td>\n",
       "      <td>Espot avisa que la intervenció dels pisos no t...</td>\n",
       "      <td>[ARTICLE TITLE] Espot avisa que la intervenció...</td>\n",
       "    </tr>\n",
       "    <tr>\n",
       "      <th>3</th>\n",
       "      <td>DI20240914061600-16043979</td>\n",
       "      <td>DI20240914061600</td>\n",
       "      <td>El Club</td>\n",
       "      <td>9/13/2024, 11:47:45 PM</td>\n",
       "      <td>2024-09-13 23:47:45</td>\n",
       "      <td>En lloc de tocar la flauta toquen la guitarra,...</td>\n",
       "      <td>NaN</td>\n",
       "      <td>NaN</td>\n",
       "      <td>NaN</td>\n",
       "      <td>article</td>\n",
       "      <td>UE</td>\n",
       "      <td>Andorra i la UE avancen en l’acord per al cont...</td>\n",
       "      <td>[ARTICLE TITLE] Andorra i la UE avancen en l’a...</td>\n",
       "    </tr>\n",
       "    <tr>\n",
       "      <th>4</th>\n",
       "      <td>AL20240920205600-225368</td>\n",
       "      <td>AL20240920205600</td>\n",
       "      <td>..</td>\n",
       "      <td>Fa 2 dies</td>\n",
       "      <td>NaT</td>\n",
       "      <td>No...si ja sabem que no hi hauria un tsunami d...</td>\n",
       "      <td>NaN</td>\n",
       "      <td>51.0</td>\n",
       "      <td>5.0</td>\n",
       "      <td>article</td>\n",
       "      <td>UE</td>\n",
       "      <td>L’Elisi assegura que l’acord d’associació “no ...</td>\n",
       "      <td>[ARTICLE TITLE] L’Elisi assegura que l’acord d...</td>\n",
       "    </tr>\n",
       "  </tbody>\n",
       "</table>\n",
       "</div>"
      ],
      "text/plain": [
       "                  comment_id        article_id      comment_author  \\\n",
       "0  DI20240928055300-19060429  DI20240928055300  la viga i la palla   \n",
       "1    AL20240920205600-225417  AL20240920205600       Van der Lying   \n",
       "2  DI20240918054400-16312485  DI20240918054400               Josep   \n",
       "3  DI20240914061600-16043979  DI20240914061600             El Club   \n",
       "4    AL20240920205600-225368  AL20240920205600                  ..   \n",
       "\n",
       "  comment_datetime_displayed    comment_datetime  \\\n",
       "0      9/28/2024, 5:06:57 AM 2024-09-28 05:06:57   \n",
       "1                  Fa 2 dies                 NaT   \n",
       "2     9/17/2024, 11:27:17 PM 2024-09-17 23:27:17   \n",
       "3     9/13/2024, 11:47:45 PM 2024-09-13 23:47:45   \n",
       "4                  Fa 2 dies                 NaT   \n",
       "\n",
       "                                     comment_content comment_in_answer_to  \\\n",
       "0  Això del atac a civils inclou lo que heu fet a...                  NaN   \n",
       "1  On estan aquestes garanties? Jo no les vec enl...                  NaN   \n",
       "2                                          Ben fet!.                  NaN   \n",
       "3  En lloc de tocar la flauta toquen la guitarra,...                  NaN   \n",
       "4  No...si ja sabem que no hi hauria un tsunami d...                  NaN   \n",
       "\n",
       "   comment_likes  comment_dislikes article_type topic  \\\n",
       "0            NaN               NaN      article    UE   \n",
       "1            9.0               0.0      article    UE   \n",
       "2            NaN               NaN      article    UE   \n",
       "3            NaN               NaN      article    UE   \n",
       "4           51.0               5.0      article    UE   \n",
       "\n",
       "                                       article_title  \\\n",
       "0  Espot defensa a l’ONU que “res no justifica l’...   \n",
       "1  L’Elisi assegura que l’acord d’associació “no ...   \n",
       "2  Espot avisa que la intervenció dels pisos no t...   \n",
       "3  Andorra i la UE avancen en l’acord per al cont...   \n",
       "4  L’Elisi assegura que l’acord d’associació “no ...   \n",
       "\n",
       "                                          input_text  \n",
       "0  [ARTICLE TITLE] Espot defensa a l’ONU que “res...  \n",
       "1  [ARTICLE TITLE] L’Elisi assegura que l’acord d...  \n",
       "2  [ARTICLE TITLE] Espot avisa que la intervenció...  \n",
       "3  [ARTICLE TITLE] Andorra i la UE avancen en l’a...  \n",
       "4  [ARTICLE TITLE] L’Elisi assegura que l’acord d...  "
      ]
     },
     "execution_count": 37,
     "metadata": {},
     "output_type": "execute_result"
    }
   ],
   "source": [
    "comments_subset.head()"
   ]
  },
  {
   "cell_type": "markdown",
   "metadata": {},
   "source": [
    "What is necessary is just the input text.\n",
    "\n",
    "To be able to easily access the article webpage in case of need, i'll add the links to the file.\n",
    "\n",
    "For better readability and ease, i'll include the article_title and only show as input text the comment chain"
   ]
  },
  {
   "cell_type": "code",
   "execution_count": 38,
   "metadata": {},
   "outputs": [],
   "source": [
    "comments_subset_export = comments_subset[['topic', 'article_id', 'comment_id', 'comment_content']].copy()\n",
    "comments_subset_export[['article_link', 'article_title', 'article_type']] = comments_subset_export.join(articles.set_index('id'), on='article_id', lsuffix='comments')[['link', 'title', 'type']]"
   ]
  },
  {
   "cell_type": "code",
   "execution_count": 39,
   "metadata": {},
   "outputs": [],
   "source": [
    "comments_subset_export = comments_subset_export[['article_id', 'comment_id', 'article_link', 'topic', 'article_type', 'article_title', 'comment_content']]"
   ]
  },
  {
   "cell_type": "code",
   "execution_count": 40,
   "metadata": {},
   "outputs": [
    {
     "data": {
      "text/html": [
       "<div>\n",
       "<style scoped>\n",
       "    .dataframe tbody tr th:only-of-type {\n",
       "        vertical-align: middle;\n",
       "    }\n",
       "\n",
       "    .dataframe tbody tr th {\n",
       "        vertical-align: top;\n",
       "    }\n",
       "\n",
       "    .dataframe thead th {\n",
       "        text-align: right;\n",
       "    }\n",
       "</style>\n",
       "<table border=\"1\" class=\"dataframe\">\n",
       "  <thead>\n",
       "    <tr style=\"text-align: right;\">\n",
       "      <th></th>\n",
       "      <th>article_id</th>\n",
       "      <th>comment_id</th>\n",
       "      <th>article_link</th>\n",
       "      <th>topic</th>\n",
       "      <th>article_type</th>\n",
       "      <th>article_title</th>\n",
       "      <th>comment_content</th>\n",
       "    </tr>\n",
       "  </thead>\n",
       "  <tbody>\n",
       "    <tr>\n",
       "      <th>0</th>\n",
       "      <td>DI20240928055300</td>\n",
       "      <td>DI20240928055300-19060429</td>\n",
       "      <td>https://www.diariandorra.ad/nacional/240928/es...</td>\n",
       "      <td>UE</td>\n",
       "      <td>article</td>\n",
       "      <td>Espot defensa a l’ONU que “res no justifica l’...</td>\n",
       "      <td>Això del atac a civils inclou lo que heu fet a...</td>\n",
       "    </tr>\n",
       "    <tr>\n",
       "      <th>1</th>\n",
       "      <td>AL20240920205600</td>\n",
       "      <td>AL20240920205600-225417</td>\n",
       "      <td>https://www.altaveu.com/actualitat/politica/el...</td>\n",
       "      <td>UE</td>\n",
       "      <td>article</td>\n",
       "      <td>L’Elisi assegura que l’acord d’associació “no ...</td>\n",
       "      <td>On estan aquestes garanties? Jo no les vec enl...</td>\n",
       "    </tr>\n",
       "    <tr>\n",
       "      <th>2</th>\n",
       "      <td>DI20240918054400</td>\n",
       "      <td>DI20240918054400-16312485</td>\n",
       "      <td>https://www.diariandorra.ad/nacional/240918/es...</td>\n",
       "      <td>UE</td>\n",
       "      <td>article</td>\n",
       "      <td>Espot avisa que la intervenció dels pisos no t...</td>\n",
       "      <td>Ben fet!.</td>\n",
       "    </tr>\n",
       "    <tr>\n",
       "      <th>3</th>\n",
       "      <td>DI20240914061600</td>\n",
       "      <td>DI20240914061600-16043979</td>\n",
       "      <td>https://www.diariandorra.ad/nacional/240914/an...</td>\n",
       "      <td>UE</td>\n",
       "      <td>article</td>\n",
       "      <td>Andorra i la UE avancen en l’acord per al cont...</td>\n",
       "      <td>En lloc de tocar la flauta toquen la guitarra,...</td>\n",
       "    </tr>\n",
       "    <tr>\n",
       "      <th>4</th>\n",
       "      <td>AL20240920205600</td>\n",
       "      <td>AL20240920205600-225368</td>\n",
       "      <td>https://www.altaveu.com/actualitat/politica/el...</td>\n",
       "      <td>UE</td>\n",
       "      <td>article</td>\n",
       "      <td>L’Elisi assegura que l’acord d’associació “no ...</td>\n",
       "      <td>No...si ja sabem que no hi hauria un tsunami d...</td>\n",
       "    </tr>\n",
       "    <tr>\n",
       "      <th>...</th>\n",
       "      <td>...</td>\n",
       "      <td>...</td>\n",
       "      <td>...</td>\n",
       "      <td>...</td>\n",
       "      <td>...</td>\n",
       "      <td>...</td>\n",
       "      <td>...</td>\n",
       "    </tr>\n",
       "    <tr>\n",
       "      <th>245</th>\n",
       "      <td>DI20240927162300</td>\n",
       "      <td>DI20240927162300-17075213</td>\n",
       "      <td>https://www.diariandorra.ad/esports/240927/tre...</td>\n",
       "      <td>habitatge</td>\n",
       "      <td>article</td>\n",
       "      <td>Trencat l'acord per al nou estadi</td>\n",
       "      <td>A l’espera que el rugbi és deixi tornar s comp...</td>\n",
       "    </tr>\n",
       "    <tr>\n",
       "      <th>246</th>\n",
       "      <td>DI20240913060800</td>\n",
       "      <td>DI20240913060800-16035034</td>\n",
       "      <td>https://www.diariandorra.ad/nacional/240913/da...</td>\n",
       "      <td>habitatge</td>\n",
       "      <td>article</td>\n",
       "      <td>DA veta que Espot comparegui per Grifols</td>\n",
       "      <td>A casa nostra , d'això en diem : \"amb la cua e...</td>\n",
       "    </tr>\n",
       "    <tr>\n",
       "      <th>247</th>\n",
       "      <td>BO20240917010004</td>\n",
       "      <td>BO20240917010004-0</td>\n",
       "      <td>https://www.bondia.ad/economia/la-cea-demana-f...</td>\n",
       "      <td>habitatge</td>\n",
       "      <td>article</td>\n",
       "      <td>La CEA demana flexibilitzar de nou l’arribada ...</td>\n",
       "      <td>Mare meva aquets de la CEA sou uns impresentab...</td>\n",
       "    </tr>\n",
       "    <tr>\n",
       "      <th>248</th>\n",
       "      <td>AL20240920090100</td>\n",
       "      <td>AL20240920090100-225333</td>\n",
       "      <td>https://www.altaveu.com/actualitat/societat/tr...</td>\n",
       "      <td>habitatge</td>\n",
       "      <td>article</td>\n",
       "      <td>La ‘trampa del fill’ o increments de lloguer a...</td>\n",
       "      <td>La ley inmobiliaria está hecha con el C _ _ O....</td>\n",
       "    </tr>\n",
       "    <tr>\n",
       "      <th>249</th>\n",
       "      <td>DI20240918162400</td>\n",
       "      <td>DI20240918162400-16317682</td>\n",
       "      <td>https://www.diariandorra.ad/nacional/240918/im...</td>\n",
       "      <td>habitatge</td>\n",
       "      <td>article</td>\n",
       "      <td>Immobiliaris i constructors alerten que la lle...</td>\n",
       "      <td>El 90% dels comentaris son funcionaris. Ara vi...</td>\n",
       "    </tr>\n",
       "  </tbody>\n",
       "</table>\n",
       "<p>250 rows × 7 columns</p>\n",
       "</div>"
      ],
      "text/plain": [
       "           article_id                 comment_id  \\\n",
       "0    DI20240928055300  DI20240928055300-19060429   \n",
       "1    AL20240920205600    AL20240920205600-225417   \n",
       "2    DI20240918054400  DI20240918054400-16312485   \n",
       "3    DI20240914061600  DI20240914061600-16043979   \n",
       "4    AL20240920205600    AL20240920205600-225368   \n",
       "..                ...                        ...   \n",
       "245  DI20240927162300  DI20240927162300-17075213   \n",
       "246  DI20240913060800  DI20240913060800-16035034   \n",
       "247  BO20240917010004         BO20240917010004-0   \n",
       "248  AL20240920090100    AL20240920090100-225333   \n",
       "249  DI20240918162400  DI20240918162400-16317682   \n",
       "\n",
       "                                          article_link      topic  \\\n",
       "0    https://www.diariandorra.ad/nacional/240928/es...         UE   \n",
       "1    https://www.altaveu.com/actualitat/politica/el...         UE   \n",
       "2    https://www.diariandorra.ad/nacional/240918/es...         UE   \n",
       "3    https://www.diariandorra.ad/nacional/240914/an...         UE   \n",
       "4    https://www.altaveu.com/actualitat/politica/el...         UE   \n",
       "..                                                 ...        ...   \n",
       "245  https://www.diariandorra.ad/esports/240927/tre...  habitatge   \n",
       "246  https://www.diariandorra.ad/nacional/240913/da...  habitatge   \n",
       "247  https://www.bondia.ad/economia/la-cea-demana-f...  habitatge   \n",
       "248  https://www.altaveu.com/actualitat/societat/tr...  habitatge   \n",
       "249  https://www.diariandorra.ad/nacional/240918/im...  habitatge   \n",
       "\n",
       "    article_type                                      article_title  \\\n",
       "0        article  Espot defensa a l’ONU que “res no justifica l’...   \n",
       "1        article  L’Elisi assegura que l’acord d’associació “no ...   \n",
       "2        article  Espot avisa que la intervenció dels pisos no t...   \n",
       "3        article  Andorra i la UE avancen en l’acord per al cont...   \n",
       "4        article  L’Elisi assegura que l’acord d’associació “no ...   \n",
       "..           ...                                                ...   \n",
       "245      article                  Trencat l'acord per al nou estadi   \n",
       "246      article           DA veta que Espot comparegui per Grifols   \n",
       "247      article  La CEA demana flexibilitzar de nou l’arribada ...   \n",
       "248      article  La ‘trampa del fill’ o increments de lloguer a...   \n",
       "249      article  Immobiliaris i constructors alerten que la lle...   \n",
       "\n",
       "                                       comment_content  \n",
       "0    Això del atac a civils inclou lo que heu fet a...  \n",
       "1    On estan aquestes garanties? Jo no les vec enl...  \n",
       "2                                            Ben fet!.  \n",
       "3    En lloc de tocar la flauta toquen la guitarra,...  \n",
       "4    No...si ja sabem que no hi hauria un tsunami d...  \n",
       "..                                                 ...  \n",
       "245  A l’espera que el rugbi és deixi tornar s comp...  \n",
       "246  A casa nostra , d'això en diem : \"amb la cua e...  \n",
       "247  Mare meva aquets de la CEA sou uns impresentab...  \n",
       "248  La ley inmobiliaria está hecha con el C _ _ O....  \n",
       "249  El 90% dels comentaris son funcionaris. Ara vi...  \n",
       "\n",
       "[250 rows x 7 columns]"
      ]
     },
     "execution_count": 40,
     "metadata": {},
     "output_type": "execute_result"
    }
   ],
   "source": [
    "comments_subset_export"
   ]
  },
  {
   "cell_type": "code",
   "execution_count": 41,
   "metadata": {},
   "outputs": [],
   "source": [
    "import csv"
   ]
  },
  {
   "cell_type": "code",
   "execution_count": 42,
   "metadata": {},
   "outputs": [],
   "source": [
    "comments_subset_export.to_csv(\"comments_subset.csv\", index_label=\"index\", sep=',', quotechar='\"', quoting=csv.QUOTE_MINIMAL)"
   ]
  },
  {
   "cell_type": "markdown",
   "metadata": {},
   "source": [
    "## Export the whole comments dataset with the input text and all the info we added."
   ]
  },
  {
   "cell_type": "code",
   "execution_count": 43,
   "metadata": {},
   "outputs": [],
   "source": [
    "comments.to_csv(\"comments.csv\", index_label=\"index\", sep=',', quotechar='\"', quoting=csv.QUOTE_MINIMAL)"
   ]
  }
 ],
 "metadata": {
  "kernelspec": {
   "display_name": "base",
   "language": "python",
   "name": "python3"
  },
  "language_info": {
   "codemirror_mode": {
    "name": "ipython",
    "version": 3
   },
   "file_extension": ".py",
   "mimetype": "text/x-python",
   "name": "python",
   "nbconvert_exporter": "python",
   "pygments_lexer": "ipython3",
   "version": "3.12.2"
  }
 },
 "nbformat": 4,
 "nbformat_minor": 2
}
